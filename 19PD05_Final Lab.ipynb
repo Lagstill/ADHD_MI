{
 "cells": [
  {
   "cell_type": "markdown",
   "id": "d0185dfb",
   "metadata": {},
   "source": [
    "## CA_2_SUL LAB HACKATHON\n",
    "### AMCS,PSG TECH\n",
    "\n",
    "### *19PD05 (ALAGU PRAKALYA)*"
   ]
  },
  {
   "cell_type": "markdown",
   "id": "47926fe6",
   "metadata": {},
   "source": [
    "### IMPORTING THE NECESSARY LIBRARIES :"
   ]
  },
  {
   "cell_type": "code",
   "execution_count": 43,
   "id": "b5cb63c3",
   "metadata": {},
   "outputs": [
    {
     "name": "stdout",
     "output_type": "stream",
     "text": [
      "Collecting mne\n",
      "  Downloading mne-0.24.0-py3-none-any.whl (7.4 MB)\n",
      "Requirement already satisfied: scipy>=1.1.0 in c:\\users\\kpdla\\appdata\\roaming\\python\\python38\\site-packages (from mne) (1.4.1)\n",
      "Requirement already satisfied: numpy>=1.15.4 in c:\\users\\kpdla\\appdata\\roaming\\python\\python38\\site-packages (from mne) (1.18.5)\n",
      "Installing collected packages: mne\n",
      "Successfully installed mne-0.24.0\n",
      "Note: you may need to restart the kernel to use updated packages.\n"
     ]
    }
   ],
   "source": [
    "pip install mne"
   ]
  },
  {
   "cell_type": "code",
   "execution_count": 90,
   "id": "b1db587c",
   "metadata": {},
   "outputs": [],
   "source": [
    "from sklearn import svm\n",
    "import numpy as np\n",
    "import pandas as pd\n",
    "import scipy.io\n",
    "import cv2\n",
    "import os\n",
    "\n",
    "import pandas as pd\n",
    "import seaborn as sns\n",
    "import matplotlib.pyplot as plt\n",
    "\n",
    "from sklearn.metrics import classification_report,accuracy_score,confusion_matrix\n",
    "\n",
    "from sklearn import preprocessing\n",
    "from sklearn import utils\n",
    "from sklearn.model_selection import train_test_split\n",
    "\n",
    "from itertools import chain\n",
    "from sklearn.feature_selection import mutual_info_classif as MIC\n",
    "import mne\n",
    "\n",
    "from sklearn.linear_model import LogisticRegression\n",
    "from sklearn.tree import DecisionTreeClassifier\n",
    "from sklearn.naive_bayes import GaussianNB\n",
    "from sklearn.ensemble import RandomForestClassifier\n",
    "from sklearn.svm import SVC\n",
    "from sklearn.neighbors import KNeighborsClassifier\n",
    "from sklearn.discriminant_analysis import LinearDiscriminantAnalysis"
   ]
  },
  {
   "cell_type": "markdown",
   "id": "2130b772",
   "metadata": {},
   "source": [
    "### **GETTING THE DATA AND VECTORIZING THEM**"
   ]
  },
  {
   "cell_type": "code",
   "execution_count": 86,
   "id": "b40b39f1",
   "metadata": {},
   "outputs": [
    {
     "data": {
      "text/html": [
       "<div>\n",
       "<style scoped>\n",
       "    .dataframe tbody tr th:only-of-type {\n",
       "        vertical-align: middle;\n",
       "    }\n",
       "\n",
       "    .dataframe tbody tr th {\n",
       "        vertical-align: top;\n",
       "    }\n",
       "\n",
       "    .dataframe thead th {\n",
       "        text-align: right;\n",
       "    }\n",
       "</style>\n",
       "<table border=\"1\" class=\"dataframe\">\n",
       "  <thead>\n",
       "    <tr style=\"text-align: right;\">\n",
       "      <th></th>\n",
       "      <th>E1</th>\n",
       "      <th>E2</th>\n",
       "      <th>E3</th>\n",
       "      <th>E4</th>\n",
       "      <th>E5</th>\n",
       "      <th>E6</th>\n",
       "      <th>E7</th>\n",
       "      <th>E8</th>\n",
       "      <th>E9</th>\n",
       "      <th>E10</th>\n",
       "      <th>E11</th>\n",
       "      <th>E12</th>\n",
       "      <th>E13</th>\n",
       "      <th>E14</th>\n",
       "      <th>E15</th>\n",
       "      <th>E16</th>\n",
       "      <th>E17</th>\n",
       "      <th>E18</th>\n",
       "      <th>E19</th>\n",
       "      <th>Class</th>\n",
       "    </tr>\n",
       "  </thead>\n",
       "  <tbody>\n",
       "    <tr>\n",
       "      <th>0</th>\n",
       "      <td>-301.0</td>\n",
       "      <td>-794.0</td>\n",
       "      <td>-94.0</td>\n",
       "      <td>-266.0</td>\n",
       "      <td>-315.0</td>\n",
       "      <td>-167.0</td>\n",
       "      <td>-315.0</td>\n",
       "      <td>-20.0</td>\n",
       "      <td>825.0</td>\n",
       "      <td>-20.0</td>\n",
       "      <td>52.0</td>\n",
       "      <td>-167.0</td>\n",
       "      <td>52.0</td>\n",
       "      <td>-20.0</td>\n",
       "      <td>52.0</td>\n",
       "      <td>200.0</td>\n",
       "      <td>50.0</td>\n",
       "      <td>-55.0</td>\n",
       "      <td>50.0</td>\n",
       "      <td>ADHD</td>\n",
       "    </tr>\n",
       "    <tr>\n",
       "      <th>1</th>\n",
       "      <td>-55.0</td>\n",
       "      <td>-583.0</td>\n",
       "      <td>89.0</td>\n",
       "      <td>50.0</td>\n",
       "      <td>-20.0</td>\n",
       "      <td>16.0</td>\n",
       "      <td>16.0</td>\n",
       "      <td>236.0</td>\n",
       "      <td>-756.0</td>\n",
       "      <td>163.0</td>\n",
       "      <td>236.0</td>\n",
       "      <td>-57.0</td>\n",
       "      <td>200.0</td>\n",
       "      <td>52.0</td>\n",
       "      <td>16.0</td>\n",
       "      <td>236.0</td>\n",
       "      <td>-195.0</td>\n",
       "      <td>-90.0</td>\n",
       "      <td>121.0</td>\n",
       "      <td>ADHD</td>\n",
       "    </tr>\n",
       "    <tr>\n",
       "      <th>2</th>\n",
       "      <td>-160.0</td>\n",
       "      <td>-547.0</td>\n",
       "      <td>16.0</td>\n",
       "      <td>-55.0</td>\n",
       "      <td>-94.0</td>\n",
       "      <td>-57.0</td>\n",
       "      <td>89.0</td>\n",
       "      <td>126.0</td>\n",
       "      <td>-57.0</td>\n",
       "      <td>52.0</td>\n",
       "      <td>89.0</td>\n",
       "      <td>-20.0</td>\n",
       "      <td>52.0</td>\n",
       "      <td>16.0</td>\n",
       "      <td>52.0</td>\n",
       "      <td>126.0</td>\n",
       "      <td>85.0</td>\n",
       "      <td>85.0</td>\n",
       "      <td>191.0</td>\n",
       "      <td>ADHD</td>\n",
       "    </tr>\n",
       "    <tr>\n",
       "      <th>3</th>\n",
       "      <td>-266.0</td>\n",
       "      <td>-512.0</td>\n",
       "      <td>-20.0</td>\n",
       "      <td>-19.0</td>\n",
       "      <td>-131.0</td>\n",
       "      <td>-57.0</td>\n",
       "      <td>89.0</td>\n",
       "      <td>200.0</td>\n",
       "      <td>678.0</td>\n",
       "      <td>163.0</td>\n",
       "      <td>200.0</td>\n",
       "      <td>16.0</td>\n",
       "      <td>200.0</td>\n",
       "      <td>52.0</td>\n",
       "      <td>52.0</td>\n",
       "      <td>126.0</td>\n",
       "      <td>-19.0</td>\n",
       "      <td>85.0</td>\n",
       "      <td>156.0</td>\n",
       "      <td>ADHD</td>\n",
       "    </tr>\n",
       "    <tr>\n",
       "      <th>4</th>\n",
       "      <td>-19.0</td>\n",
       "      <td>-301.0</td>\n",
       "      <td>236.0</td>\n",
       "      <td>226.0</td>\n",
       "      <td>200.0</td>\n",
       "      <td>126.0</td>\n",
       "      <td>420.0</td>\n",
       "      <td>347.0</td>\n",
       "      <td>-830.0</td>\n",
       "      <td>236.0</td>\n",
       "      <td>200.0</td>\n",
       "      <td>52.0</td>\n",
       "      <td>236.0</td>\n",
       "      <td>163.0</td>\n",
       "      <td>89.0</td>\n",
       "      <td>126.0</td>\n",
       "      <td>-19.0</td>\n",
       "      <td>85.0</td>\n",
       "      <td>156.0</td>\n",
       "      <td>ADHD</td>\n",
       "    </tr>\n",
       "  </tbody>\n",
       "</table>\n",
       "</div>"
      ],
      "text/plain": [
       "      E1     E2     E3     E4     E5     E6     E7     E8     E9    E10  \\\n",
       "0 -301.0 -794.0  -94.0 -266.0 -315.0 -167.0 -315.0  -20.0  825.0  -20.0   \n",
       "1  -55.0 -583.0   89.0   50.0  -20.0   16.0   16.0  236.0 -756.0  163.0   \n",
       "2 -160.0 -547.0   16.0  -55.0  -94.0  -57.0   89.0  126.0  -57.0   52.0   \n",
       "3 -266.0 -512.0  -20.0  -19.0 -131.0  -57.0   89.0  200.0  678.0  163.0   \n",
       "4  -19.0 -301.0  236.0  226.0  200.0  126.0  420.0  347.0 -830.0  236.0   \n",
       "\n",
       "     E11    E12    E13    E14   E15    E16    E17   E18    E19 Class  \n",
       "0   52.0 -167.0   52.0  -20.0  52.0  200.0   50.0 -55.0   50.0  ADHD  \n",
       "1  236.0  -57.0  200.0   52.0  16.0  236.0 -195.0 -90.0  121.0  ADHD  \n",
       "2   89.0  -20.0   52.0   16.0  52.0  126.0   85.0  85.0  191.0  ADHD  \n",
       "3  200.0   16.0  200.0   52.0  52.0  126.0  -19.0  85.0  156.0  ADHD  \n",
       "4  200.0   52.0  236.0  163.0  89.0  126.0  -19.0  85.0  156.0  ADHD  "
      ]
     },
     "execution_count": 86,
     "metadata": {},
     "output_type": "execute_result"
    }
   ],
   "source": [
    "df = pd.read_csv('data.csv')\n",
    "df=df.drop(['index'], axis = 1)\n",
    "df.head()"
   ]
  },
  {
   "cell_type": "code",
   "execution_count": 10,
   "id": "4228a536",
   "metadata": {},
   "outputs": [
    {
     "data": {
      "text/plain": [
       "(2166383, 20)"
      ]
     },
     "execution_count": 10,
     "metadata": {},
     "output_type": "execute_result"
    }
   ],
   "source": [
    "df.shape"
   ]
  },
  {
   "cell_type": "code",
   "execution_count": 11,
   "id": "6111fcd9",
   "metadata": {},
   "outputs": [
    {
     "name": "stdout",
     "output_type": "stream",
     "text": [
      "<class 'pandas.core.frame.DataFrame'>\n",
      "RangeIndex: 2166383 entries, 0 to 2166382\n",
      "Data columns (total 20 columns):\n",
      " #   Column  Dtype  \n",
      "---  ------  -----  \n",
      " 0   E1      float64\n",
      " 1   E2      float64\n",
      " 2   E3      float64\n",
      " 3   E4      float64\n",
      " 4   E5      float64\n",
      " 5   E6      float64\n",
      " 6   E7      float64\n",
      " 7   E8      float64\n",
      " 8   E9      float64\n",
      " 9   E10     float64\n",
      " 10  E11     float64\n",
      " 11  E12     float64\n",
      " 12  E13     float64\n",
      " 13  E14     float64\n",
      " 14  E15     float64\n",
      " 15  E16     float64\n",
      " 16  E17     float64\n",
      " 17  E18     float64\n",
      " 18  E19     float64\n",
      " 19  Class   object \n",
      "dtypes: float64(19), object(1)\n",
      "memory usage: 330.6+ MB\n"
     ]
    }
   ],
   "source": [
    "df.info()"
   ]
  },
  {
   "cell_type": "code",
   "execution_count": 12,
   "id": "c8cbf0d2",
   "metadata": {},
   "outputs": [
    {
     "data": {
      "text/html": [
       "<div>\n",
       "<style scoped>\n",
       "    .dataframe tbody tr th:only-of-type {\n",
       "        vertical-align: middle;\n",
       "    }\n",
       "\n",
       "    .dataframe tbody tr th {\n",
       "        vertical-align: top;\n",
       "    }\n",
       "\n",
       "    .dataframe thead th {\n",
       "        text-align: right;\n",
       "    }\n",
       "</style>\n",
       "<table border=\"1\" class=\"dataframe\">\n",
       "  <thead>\n",
       "    <tr style=\"text-align: right;\">\n",
       "      <th></th>\n",
       "      <th>E1</th>\n",
       "      <th>E2</th>\n",
       "      <th>E3</th>\n",
       "      <th>E4</th>\n",
       "      <th>E5</th>\n",
       "      <th>E6</th>\n",
       "      <th>E7</th>\n",
       "      <th>E8</th>\n",
       "      <th>E9</th>\n",
       "      <th>E10</th>\n",
       "      <th>E11</th>\n",
       "      <th>E12</th>\n",
       "      <th>E13</th>\n",
       "      <th>E14</th>\n",
       "      <th>E15</th>\n",
       "      <th>E16</th>\n",
       "      <th>E17</th>\n",
       "      <th>E18</th>\n",
       "      <th>E19</th>\n",
       "    </tr>\n",
       "  </thead>\n",
       "  <tbody>\n",
       "    <tr>\n",
       "      <th>count</th>\n",
       "      <td>2.166383e+06</td>\n",
       "      <td>2.166383e+06</td>\n",
       "      <td>2.166383e+06</td>\n",
       "      <td>2.166383e+06</td>\n",
       "      <td>2.166383e+06</td>\n",
       "      <td>2.166383e+06</td>\n",
       "      <td>2.166383e+06</td>\n",
       "      <td>2.166383e+06</td>\n",
       "      <td>2.166383e+06</td>\n",
       "      <td>2.166383e+06</td>\n",
       "      <td>2.166383e+06</td>\n",
       "      <td>2.166383e+06</td>\n",
       "      <td>2.166383e+06</td>\n",
       "      <td>2.166383e+06</td>\n",
       "      <td>2.166383e+06</td>\n",
       "      <td>2.166383e+06</td>\n",
       "      <td>2.166383e+06</td>\n",
       "      <td>2.166383e+06</td>\n",
       "      <td>2.166383e+06</td>\n",
       "    </tr>\n",
       "    <tr>\n",
       "      <th>mean</th>\n",
       "      <td>1.360903e+02</td>\n",
       "      <td>1.361619e+02</td>\n",
       "      <td>1.422117e+02</td>\n",
       "      <td>1.361022e+02</td>\n",
       "      <td>1.422737e+02</td>\n",
       "      <td>1.422005e+02</td>\n",
       "      <td>1.422755e+02</td>\n",
       "      <td>1.419608e+02</td>\n",
       "      <td>1.419823e+02</td>\n",
       "      <td>1.416007e+02</td>\n",
       "      <td>1.420600e+02</td>\n",
       "      <td>1.415633e+02</td>\n",
       "      <td>1.417452e+02</td>\n",
       "      <td>1.413199e+02</td>\n",
       "      <td>1.416635e+02</td>\n",
       "      <td>1.410618e+02</td>\n",
       "      <td>1.352097e+02</td>\n",
       "      <td>1.351830e+02</td>\n",
       "      <td>1.352074e+02</td>\n",
       "    </tr>\n",
       "    <tr>\n",
       "      <th>std</th>\n",
       "      <td>2.755497e+02</td>\n",
       "      <td>2.755136e+02</td>\n",
       "      <td>2.206503e+02</td>\n",
       "      <td>2.133873e+02</td>\n",
       "      <td>2.234852e+02</td>\n",
       "      <td>2.107195e+02</td>\n",
       "      <td>2.301860e+02</td>\n",
       "      <td>2.095699e+02</td>\n",
       "      <td>2.360460e+02</td>\n",
       "      <td>2.133996e+02</td>\n",
       "      <td>2.432087e+02</td>\n",
       "      <td>2.265186e+02</td>\n",
       "      <td>2.272337e+02</td>\n",
       "      <td>2.273205e+02</td>\n",
       "      <td>2.079590e+02</td>\n",
       "      <td>2.048027e+02</td>\n",
       "      <td>2.522447e+02</td>\n",
       "      <td>2.130295e+02</td>\n",
       "      <td>2.274500e+02</td>\n",
       "    </tr>\n",
       "    <tr>\n",
       "      <th>min</th>\n",
       "      <td>-3.786000e+03</td>\n",
       "      <td>-1.322400e+04</td>\n",
       "      <td>-3.921000e+03</td>\n",
       "      <td>-1.323700e+04</td>\n",
       "      <td>-3.921000e+03</td>\n",
       "      <td>-3.921000e+03</td>\n",
       "      <td>-3.921000e+03</td>\n",
       "      <td>-3.958000e+03</td>\n",
       "      <td>-3.995000e+03</td>\n",
       "      <td>-3.921000e+03</td>\n",
       "      <td>-3.995000e+03</td>\n",
       "      <td>-3.958000e+03</td>\n",
       "      <td>-3.958000e+03</td>\n",
       "      <td>-3.995000e+03</td>\n",
       "      <td>-3.921000e+03</td>\n",
       "      <td>-3.958000e+03</td>\n",
       "      <td>-3.786000e+03</td>\n",
       "      <td>-3.751000e+03</td>\n",
       "      <td>-3.751000e+03</td>\n",
       "    </tr>\n",
       "    <tr>\n",
       "      <th>25%</th>\n",
       "      <td>1.500000e+01</td>\n",
       "      <td>1.500000e+01</td>\n",
       "      <td>5.200000e+01</td>\n",
       "      <td>1.500000e+01</td>\n",
       "      <td>5.200000e+01</td>\n",
       "      <td>5.200000e+01</td>\n",
       "      <td>1.600000e+01</td>\n",
       "      <td>5.200000e+01</td>\n",
       "      <td>5.200000e+01</td>\n",
       "      <td>5.200000e+01</td>\n",
       "      <td>5.200000e+01</td>\n",
       "      <td>5.200000e+01</td>\n",
       "      <td>5.200000e+01</td>\n",
       "      <td>5.200000e+01</td>\n",
       "      <td>5.200000e+01</td>\n",
       "      <td>5.200000e+01</td>\n",
       "      <td>1.500000e+01</td>\n",
       "      <td>1.500000e+01</td>\n",
       "      <td>1.500000e+01</td>\n",
       "    </tr>\n",
       "    <tr>\n",
       "      <th>50%</th>\n",
       "      <td>1.210000e+02</td>\n",
       "      <td>1.210000e+02</td>\n",
       "      <td>1.260000e+02</td>\n",
       "      <td>1.210000e+02</td>\n",
       "      <td>1.260000e+02</td>\n",
       "      <td>1.260000e+02</td>\n",
       "      <td>1.260000e+02</td>\n",
       "      <td>1.260000e+02</td>\n",
       "      <td>1.260000e+02</td>\n",
       "      <td>1.260000e+02</td>\n",
       "      <td>1.260000e+02</td>\n",
       "      <td>1.260000e+02</td>\n",
       "      <td>1.260000e+02</td>\n",
       "      <td>1.260000e+02</td>\n",
       "      <td>1.260000e+02</td>\n",
       "      <td>1.260000e+02</td>\n",
       "      <td>1.210000e+02</td>\n",
       "      <td>1.210000e+02</td>\n",
       "      <td>1.210000e+02</td>\n",
       "    </tr>\n",
       "    <tr>\n",
       "      <th>75%</th>\n",
       "      <td>2.610000e+02</td>\n",
       "      <td>2.260000e+02</td>\n",
       "      <td>2.360000e+02</td>\n",
       "      <td>2.260000e+02</td>\n",
       "      <td>2.360000e+02</td>\n",
       "      <td>2.360000e+02</td>\n",
       "      <td>2.360000e+02</td>\n",
       "      <td>2.360000e+02</td>\n",
       "      <td>2.360000e+02</td>\n",
       "      <td>2.360000e+02</td>\n",
       "      <td>2.360000e+02</td>\n",
       "      <td>2.360000e+02</td>\n",
       "      <td>2.360000e+02</td>\n",
       "      <td>2.360000e+02</td>\n",
       "      <td>2.360000e+02</td>\n",
       "      <td>2.360000e+02</td>\n",
       "      <td>2.610000e+02</td>\n",
       "      <td>2.260000e+02</td>\n",
       "      <td>2.260000e+02</td>\n",
       "    </tr>\n",
       "    <tr>\n",
       "      <th>max</th>\n",
       "      <td>1.381300e+04</td>\n",
       "      <td>4.802000e+03</td>\n",
       "      <td>5.020000e+03</td>\n",
       "      <td>4.802000e+03</td>\n",
       "      <td>5.430000e+03</td>\n",
       "      <td>5.020000e+03</td>\n",
       "      <td>5.020000e+03</td>\n",
       "      <td>5.020000e+03</td>\n",
       "      <td>5.020000e+03</td>\n",
       "      <td>5.020000e+03</td>\n",
       "      <td>5.020000e+03</td>\n",
       "      <td>5.020000e+03</td>\n",
       "      <td>5.020000e+03</td>\n",
       "      <td>5.064000e+03</td>\n",
       "      <td>5.016000e+03</td>\n",
       "      <td>5.020000e+03</td>\n",
       "      <td>4.802000e+03</td>\n",
       "      <td>4.802000e+03</td>\n",
       "      <td>4.802000e+03</td>\n",
       "    </tr>\n",
       "  </tbody>\n",
       "</table>\n",
       "</div>"
      ],
      "text/plain": [
       "                 E1            E2            E3            E4            E5  \\\n",
       "count  2.166383e+06  2.166383e+06  2.166383e+06  2.166383e+06  2.166383e+06   \n",
       "mean   1.360903e+02  1.361619e+02  1.422117e+02  1.361022e+02  1.422737e+02   \n",
       "std    2.755497e+02  2.755136e+02  2.206503e+02  2.133873e+02  2.234852e+02   \n",
       "min   -3.786000e+03 -1.322400e+04 -3.921000e+03 -1.323700e+04 -3.921000e+03   \n",
       "25%    1.500000e+01  1.500000e+01  5.200000e+01  1.500000e+01  5.200000e+01   \n",
       "50%    1.210000e+02  1.210000e+02  1.260000e+02  1.210000e+02  1.260000e+02   \n",
       "75%    2.610000e+02  2.260000e+02  2.360000e+02  2.260000e+02  2.360000e+02   \n",
       "max    1.381300e+04  4.802000e+03  5.020000e+03  4.802000e+03  5.430000e+03   \n",
       "\n",
       "                 E6            E7            E8            E9           E10  \\\n",
       "count  2.166383e+06  2.166383e+06  2.166383e+06  2.166383e+06  2.166383e+06   \n",
       "mean   1.422005e+02  1.422755e+02  1.419608e+02  1.419823e+02  1.416007e+02   \n",
       "std    2.107195e+02  2.301860e+02  2.095699e+02  2.360460e+02  2.133996e+02   \n",
       "min   -3.921000e+03 -3.921000e+03 -3.958000e+03 -3.995000e+03 -3.921000e+03   \n",
       "25%    5.200000e+01  1.600000e+01  5.200000e+01  5.200000e+01  5.200000e+01   \n",
       "50%    1.260000e+02  1.260000e+02  1.260000e+02  1.260000e+02  1.260000e+02   \n",
       "75%    2.360000e+02  2.360000e+02  2.360000e+02  2.360000e+02  2.360000e+02   \n",
       "max    5.020000e+03  5.020000e+03  5.020000e+03  5.020000e+03  5.020000e+03   \n",
       "\n",
       "                E11           E12           E13           E14           E15  \\\n",
       "count  2.166383e+06  2.166383e+06  2.166383e+06  2.166383e+06  2.166383e+06   \n",
       "mean   1.420600e+02  1.415633e+02  1.417452e+02  1.413199e+02  1.416635e+02   \n",
       "std    2.432087e+02  2.265186e+02  2.272337e+02  2.273205e+02  2.079590e+02   \n",
       "min   -3.995000e+03 -3.958000e+03 -3.958000e+03 -3.995000e+03 -3.921000e+03   \n",
       "25%    5.200000e+01  5.200000e+01  5.200000e+01  5.200000e+01  5.200000e+01   \n",
       "50%    1.260000e+02  1.260000e+02  1.260000e+02  1.260000e+02  1.260000e+02   \n",
       "75%    2.360000e+02  2.360000e+02  2.360000e+02  2.360000e+02  2.360000e+02   \n",
       "max    5.020000e+03  5.020000e+03  5.020000e+03  5.064000e+03  5.016000e+03   \n",
       "\n",
       "                E16           E17           E18           E19  \n",
       "count  2.166383e+06  2.166383e+06  2.166383e+06  2.166383e+06  \n",
       "mean   1.410618e+02  1.352097e+02  1.351830e+02  1.352074e+02  \n",
       "std    2.048027e+02  2.522447e+02  2.130295e+02  2.274500e+02  \n",
       "min   -3.958000e+03 -3.786000e+03 -3.751000e+03 -3.751000e+03  \n",
       "25%    5.200000e+01  1.500000e+01  1.500000e+01  1.500000e+01  \n",
       "50%    1.260000e+02  1.210000e+02  1.210000e+02  1.210000e+02  \n",
       "75%    2.360000e+02  2.610000e+02  2.260000e+02  2.260000e+02  \n",
       "max    5.020000e+03  4.802000e+03  4.802000e+03  4.802000e+03  "
      ]
     },
     "execution_count": 12,
     "metadata": {},
     "output_type": "execute_result"
    }
   ],
   "source": [
    "df.describe()"
   ]
  },
  {
   "cell_type": "markdown",
   "id": "bc0fdbf0",
   "metadata": {},
   "source": [
    "#### CHECKING FOR NULL-VALUES : WHICH IS NONE AS SHOWN BELOW"
   ]
  },
  {
   "cell_type": "code",
   "execution_count": 13,
   "id": "4b344181",
   "metadata": {},
   "outputs": [
    {
     "data": {
      "text/plain": [
       "<AxesSubplot:>"
      ]
     },
     "execution_count": 13,
     "metadata": {},
     "output_type": "execute_result"
    },
    {
     "data": {
      "image/png": "[encoded data removed]",
      "text/plain": [
       "<Figure size 432x288 with 2 Axes>"
      ]
     },
     "metadata": {
      "needs_background": "light"
     },
     "output_type": "display_data"
    }
   ],
   "source": [
    "sns.heatmap(df.isnull(),yticklabels=False,cmap='spring_r')"
   ]
  },
  {
   "cell_type": "markdown",
   "id": "313a21f6",
   "metadata": {},
   "source": [
    "#### DISTRIBUTION OF DATA BEFORE NORMALISATION"
   ]
  },
  {
   "cell_type": "code",
   "execution_count": 22,
   "id": "06243253",
   "metadata": {},
   "outputs": [
    {
     "data": {
      "text/plain": [
       "<AxesSubplot:ylabel='Frequency'>"
      ]
     },
     "execution_count": 22,
     "metadata": {},
     "output_type": "execute_result"
    },
    {
     "data": {
      "image/png": "[encoded data removed]",
      "text/plain": [
       "<Figure size 432x288 with 1 Axes>"
      ]
     },
     "metadata": {
      "needs_background": "light"
     },
     "output_type": "display_data"
    }
   ],
   "source": [
    "df.plot.hist(bins=100, alpha=0.5)"
   ]
  },
  {
   "cell_type": "code",
   "execution_count": 68,
   "id": "8fcce2b4",
   "metadata": {},
   "outputs": [],
   "source": [
    "X=df.iloc[:100,0:19]\n",
    "Y=df.iloc[:100,19:20]"
   ]
  },
  {
   "cell_type": "code",
   "execution_count": 69,
   "id": "1ae4b0c5",
   "metadata": {},
   "outputs": [
    {
     "data": {
      "text/html": [
       "<div>\n",
       "<style scoped>\n",
       "    .dataframe tbody tr th:only-of-type {\n",
       "        vertical-align: middle;\n",
       "    }\n",
       "\n",
       "    .dataframe tbody tr th {\n",
       "        vertical-align: top;\n",
       "    }\n",
       "\n",
       "    .dataframe thead th {\n",
       "        text-align: right;\n",
       "    }\n",
       "</style>\n",
       "<table border=\"1\" class=\"dataframe\">\n",
       "  <thead>\n",
       "    <tr style=\"text-align: right;\">\n",
       "      <th></th>\n",
       "      <th>Class</th>\n",
       "    </tr>\n",
       "  </thead>\n",
       "  <tbody>\n",
       "    <tr>\n",
       "      <th>0</th>\n",
       "      <td>ADHD</td>\n",
       "    </tr>\n",
       "    <tr>\n",
       "      <th>1</th>\n",
       "      <td>ADHD</td>\n",
       "    </tr>\n",
       "    <tr>\n",
       "      <th>2</th>\n",
       "      <td>ADHD</td>\n",
       "    </tr>\n",
       "    <tr>\n",
       "      <th>3</th>\n",
       "      <td>ADHD</td>\n",
       "    </tr>\n",
       "    <tr>\n",
       "      <th>4</th>\n",
       "      <td>ADHD</td>\n",
       "    </tr>\n",
       "    <tr>\n",
       "      <th>...</th>\n",
       "      <td>...</td>\n",
       "    </tr>\n",
       "    <tr>\n",
       "      <th>95</th>\n",
       "      <td>ADHD</td>\n",
       "    </tr>\n",
       "    <tr>\n",
       "      <th>96</th>\n",
       "      <td>ADHD</td>\n",
       "    </tr>\n",
       "    <tr>\n",
       "      <th>97</th>\n",
       "      <td>ADHD</td>\n",
       "    </tr>\n",
       "    <tr>\n",
       "      <th>98</th>\n",
       "      <td>ADHD</td>\n",
       "    </tr>\n",
       "    <tr>\n",
       "      <th>99</th>\n",
       "      <td>ADHD</td>\n",
       "    </tr>\n",
       "  </tbody>\n",
       "</table>\n",
       "<p>100 rows × 1 columns</p>\n",
       "</div>"
      ],
      "text/plain": [
       "   Class\n",
       "0   ADHD\n",
       "1   ADHD\n",
       "2   ADHD\n",
       "3   ADHD\n",
       "4   ADHD\n",
       "..   ...\n",
       "95  ADHD\n",
       "96  ADHD\n",
       "97  ADHD\n",
       "98  ADHD\n",
       "99  ADHD\n",
       "\n",
       "[100 rows x 1 columns]"
      ]
     },
     "execution_count": 69,
     "metadata": {},
     "output_type": "execute_result"
    }
   ],
   "source": [
    "Y"
   ]
  },
  {
   "cell_type": "markdown",
   "id": "2c100ad3",
   "metadata": {},
   "source": [
    "#### MIN-MAX NORMALISATION:"
   ]
  },
  {
   "cell_type": "code",
   "execution_count": 70,
   "id": "8c7cb7c7",
   "metadata": {},
   "outputs": [],
   "source": [
    "df_target=(X-X.min())/(X.max()-X.min())"
   ]
  },
  {
   "cell_type": "markdown",
   "id": "4a177b9c",
   "metadata": {},
   "source": [
    "#### DISTRIBUTION OF DATA BEFORE NORMALISATION"
   ]
  },
  {
   "cell_type": "code",
   "execution_count": 71,
   "id": "4c095b98",
   "metadata": {},
   "outputs": [
    {
     "data": {
      "text/plain": [
       "<AxesSubplot:ylabel='Frequency'>"
      ]
     },
     "execution_count": 71,
     "metadata": {},
     "output_type": "execute_result"
    },
    {
     "data": {
      "image/png": "[encoded data removed]",
      "text/plain": [
       "<Figure size 432x288 with 1 Axes>"
      ]
     },
     "metadata": {
      "needs_background": "light"
     },
     "output_type": "display_data"
    }
   ],
   "source": [
    "df_target.plot.hist(bins=100, alpha=0.5)"
   ]
  },
  {
   "cell_type": "markdown",
   "id": "5e4c4a3f",
   "metadata": {},
   "source": [
    "### TEST-PHASE FOR CALCULATING MUTUAL INFORMATION\n",
    "\n",
    "#### 1.X VS Y\n",
    "#### 2.CREATION OF d x d MUTUAL INFORMATION ARRAY\n",
    "#### 3.FINDING THE AVERAGE FOR EACH d array in d x d                               DIMENSION\n",
    "#### 4.OBTAINED d x 1 VECTOR FOR THE TEST SUBJECT ~ \"ADHD\"\n",
    "\n"
   ]
  },
  {
   "cell_type": "code",
   "execution_count": 72,
   "id": "3cb523fc",
   "metadata": {},
   "outputs": [],
   "source": [
    "Y=Y.values.ravel()"
   ]
  },
  {
   "cell_type": "code",
   "execution_count": 73,
   "id": "9129388e",
   "metadata": {},
   "outputs": [],
   "source": [
    "from sklearn.feature_selection import mutual_info_classif as MIC\n",
    "mi_score = MIC(df_target,Y)"
   ]
  },
  {
   "cell_type": "code",
   "execution_count": 74,
   "id": "0423029d",
   "metadata": {},
   "outputs": [
    {
     "data": {
      "text/plain": [
       "array([0, 0, 0, 0, 0, 0, 0, 0, 0, 0, 0, 0, 0, 0, 0, 0, 0, 0, 0])"
      ]
     },
     "execution_count": 74,
     "metadata": {},
     "output_type": "execute_result"
    }
   ],
   "source": [
    "mi_score"
   ]
  },
  {
   "cell_type": "code",
   "execution_count": 76,
   "id": "834a41be",
   "metadata": {},
   "outputs": [],
   "source": [
    "data=df_target"
   ]
  },
  {
   "cell_type": "code",
   "execution_count": null,
   "id": "15c942b5",
   "metadata": {},
   "outputs": [],
   "source": [
    "arr=[]\n",
    "for i in data:\n",
    "    temp=MIC(data,data[i].values.ravel()).tolist()\n",
    "    arr.append(temp)"
   ]
  },
  {
   "cell_type": "code",
   "execution_count": 118,
   "id": "cf060f13",
   "metadata": {},
   "outputs": [
    {
     "data": {
      "text/plain": [
       "19"
      ]
     },
     "execution_count": 118,
     "metadata": {},
     "output_type": "execute_result"
    }
   ],
   "source": [
    "len(arr)"
   ]
  },
  {
   "cell_type": "code",
   "execution_count": 115,
   "id": "d0f852d1",
   "metadata": {},
   "outputs": [
    {
     "name": "stdout",
     "output_type": "stream",
     "text": [
      "3.7658959456121837 ::: 0.5098237393977079 ::: 0.382473987034607 ::: 0.0 ::: 0.1078693357461793 ::: 0.016823429916263954 ::: 0.06837565623504549 ::: 0.12781606336723517 ::: 0.10420368082904563 ::: 0.049347477649535954 ::: 0.3877910597091536 ::: 0.36212847596851816 ::: 0.16031345338164238 ::: 0.0 ::: 0.20748543941402753 ::: 0.013930681284713309 ::: 0.0 ::: 0.05801254023864866 ::: 0.0\n",
      "0.5960920747799521 ::: 3.464645303492491 ::: 0.3055725889886416 ::: 0.21964231228100006 ::: 0.21834899804847563 ::: 0.014051822740691389 ::: 0.21476960867288675 ::: 0.02697752780850715 ::: 0.04638156387284509 ::: 0.0 ::: 0.2463274575281975 ::: 0.3099848301428274 ::: 0.025493247433208133 ::: 0.020404992436101832 ::: 0.07470994091575855 ::: 0.0 ::: 0.05676031405262805 ::: 0.039099406222958155 ::: 0.05470532192461386\n",
      "0.45121440887812136 ::: 0.5037519247733595 ::: 3.366074006336109 ::: 0.5597655467982716 ::: 0.2845654349617983 ::: 0.09543172881285145 ::: 0.050144504317563676 ::: 0.12411009544813512 ::: 0.11848552123282774 ::: 0.004346600691844671 ::: 0.4256241433688297 ::: 0.17815868440427218 ::: 0.43434421241801324 ::: 0.14082832799757572 ::: 0.012442089342922902 ::: 0.052498285186826976 ::: 0.26613055134634234 ::: 0.07618804866658291 ::: 0.03029531706308264\n",
      "0.14879498078934672 ::: 0.28585687081060307 ::: 0.5062047255979105 ::: 3.2914510984933925 ::: 0.35311296943742043 ::: 0.35398578777274636 ::: 0.10489990363306845 ::: 0.020731953380054957 ::: 0.21550065470861846 ::: 0.07285271039445407 ::: 0.26524865775256323 ::: 0.24814903897895002 ::: 0.24062456397557597 ::: 0.31085921761499824 ::: 0.09539345596974558 ::: 0.07167835551829249 ::: 0.136446701806324 ::: 0.0 ::: 0.06059563357767184\n",
      "0.06220705601806875 ::: 0.16372657277763603 ::: 0.30627534973227144 ::: 0.4873060638634712 ::: 3.1573792496663895 ::: 0.8754441955374235 ::: 0.3076285027539116 ::: 0.196498485637854 ::: 0.4891543094321418 ::: 0.18215979522459813 ::: 0.2252107855552108 ::: 0.015623728230811373 ::: 0.21533474718584378 ::: 0.07049027392051421 ::: 0.0 ::: 0.11053304542171416 ::: 0.0 ::: 0.1477638009149289 ::: 0.019921244321301046\n",
      "0.23769866849498333 ::: 0.11192036937861882 ::: 0.3095749498028115 ::: 0.4216277148459229 ::: 0.8332095379141102 ::: 2.6717875733611174 ::: 0.13372235818227285 ::: 0.17327393349980813 ::: 0.24642465880583808 ::: 0.025535365733976523 ::: 0.10655234229521549 ::: 0.0 ::: 0.05223872513325656 ::: 0.18411573708045958 ::: 0.08483512635389356 ::: 0.0 ::: 0.0 ::: 0.21618183868840735 ::: 0.0020511748487428427\n",
      "0.0 ::: 0.09588209170224804 ::: 0.05846315914090994 ::: 0.05288014791407081 ::: 0.3535204265751446 ::: 0.07848877461122594 ::: 3.0441113597202833 ::: 0.35421993197110746 ::: 0.30156928073892875 ::: 0.1341597461186037 ::: 0.0 ::: 0.0 ::: 0.0 ::: 0.0 ::: 0.031107371414071494 ::: 0.06702857005195728 ::: 0.01612023649809391 ::: 0.0 ::: 0.1316942328193722\n",
      "0.0 ::: 0.0 ::: 0.019899122549134063 ::: 0.0 ::: 0.15426254021278174 ::: 0.039685045588122136 ::: 0.2586315222891167 ::: 3.1052907599893045 ::: 0.17567473472199646 ::: 0.6719566852775434 ::: 0.09802062591519123 ::: 0.0 ::: 0.0 ::: 0.0 ::: 0.14374260880292944 ::: 0.3876516861535655 ::: 0.05431916913800405 ::: 0.0 ::: 0.0\n",
      "0.0 ::: 0.0 ::: 0.22585721882502519 ::: 0.36196275380395004 ::: 0.5185138104938307 ::: 0.3158720813798803 ::: 0.39591288667951874 ::: 0.03817100099748583 ::: 3.891487209500415 ::: 0.0010168574779654271 ::: 0.33436243521873754 ::: 0.023370607816517452 ::: 0.0330353742550078 ::: 0.14313880667790224 ::: 0.10591319578647562 ::: 0.5529182718475534 ::: 0.3087132507772443 ::: 0.11492002991550176 ::: 0.19467353564747825\n",
      "0.014099563634869305 ::: 0.03830303854451245 ::: 0.0 ::: 0.0 ::: 0.029225656583070414 ::: 0.000599251507396481 ::: 0.10441460451614226 ::: 0.5863781977234264 ::: 0.0493715144608915 ::: 2.80613517166367 ::: 0.0 ::: 0.0 ::: 0.11331557960730265 ::: 0.025184680910138812 ::: 0.3107467080017363 ::: 0.6851789923008997 ::: 0.06837350840354084 ::: 0.0 ::: 0.009934221706221713\n",
      "0.3739368006107169 ::: 0.26960558376221533 ::: 0.457738865980299 ::: 0.15931639524698893 ::: 0.33967117390639157 ::: 0.17125044625940822 ::: 0.1661447117855177 ::: 0.1483017185640505 ::: 0.18890239984195611 ::: 0.0 ::: 2.5848196801432244 ::: 0.2800358027675549 ::: 1.0571701963734368 ::: 0.12288837170964317 ::: 0.0 ::: 0.1693617328728374 ::: 0.29638609347757194 ::: 0.0 ::: 0.0\n",
      "0.2671474137764567 ::: 0.2835187961347456 ::: 0.25425812079887633 ::: 0.17661711163332194 ::: 0.0 ::: 0.0 ::: 0.0 ::: 0.015375494624617847 ::: 0.0 ::: 0.030712843474589135 ::: 0.21783642445838236 ::: 2.9997166087563265 ::: 0.12683535148228797 ::: 0.34307415758851745 ::: 0.17936430484953458 ::: 0.04675298612359535 ::: 0.15596505099183045 ::: 0.0 ::: 0.0\n",
      "0.19474001658014028 ::: 0.08964091416743569 ::: 0.4468527885429294 ::: 0.11875879787672305 ::: 0.42828983912814245 ::: 0.16745739684084704 ::: 0.0577239678957957 ::: 0.14853820558350872 ::: 0.051079134472558074 ::: 0.03612459163121562 ::: 1.0359179878208202 ::: 0.2517281401367253 ::: 2.7209073604118874 ::: 0.16305125654360486 ::: 0.0 ::: 0.06337035158390503 ::: 0.058868697080280974 ::: 0.0 ::: 0.0\n",
      "0.16704641379282226 ::: 0.2216957433301352 ::: 0.14563839518817012 ::: 0.25564860805771916 ::: 0.010782125513738361 ::: 0.15860901868238697 ::: 0.07428825388562155 ::: 0.1679672905376859 ::: 0.0 ::: 0.002132097234568864 ::: 0.1439162382708412 ::: 0.29517992098225054 ::: 0.24366449825132008 ::: 2.689987410552543 ::: 0.10642212435493636 ::: 0.20482573260099235 ::: 0.0856536470095226 ::: 0.1051150078826546 ::: 0.05312591040245307\n",
      "0.16844135614824518 ::: 0.15931314309733402 ::: 0.0 ::: 0.04983656916807311 ::: 0.0 ::: 0.025012266677208572 ::: 0.0 ::: 0.09569054664464671 ::: 0.0 ::: 0.27283037926314524 ::: 0.0 ::: 0.18650672286686465 ::: 0.0 ::: 0.17997500307379344 ::: 2.5137837881368 ::: 0.18197366658695158 ::: 0.08715447501003704 ::: 0.047832152502128356 ::: 0.01944378635318733\n",
      "0.12191179695000498 ::: 0.0 ::: 0.024320886553872878 ::: 0.0345519648376027 ::: 0.1861530535684004 ::: 0.07841728187233876 ::: 0.08772709300241299 ::: 0.48363920824197315 ::: 0.31205183835127315 ::: 0.578759428119322 ::: 0.1277395133632382 ::: 0.050348353508587795 ::: 0.1312634932668706 ::: 0.16965636068539203 ::: 0.14041161107536482 ::: 2.1750860942963564 ::: 0.060437313129960035 ::: 0.0 ::: 0.1019506873237428\n",
      "0.014997351055866304 ::: 0.27275353864758856 ::: 0.14152133566423153 ::: 0.06861377904842669 ::: 0.0 ::: 0.0 ::: 0.0038880860810812656 ::: 0.0 ::: 0.0 ::: 0.07816399770891191 ::: 0.043121476883408505 ::: 0.11849215555971693 ::: 0.07759049251610595 ::: 0.11098794478310836 ::: 0.0 ::: 0.0 ::: 3.7213581401916724 ::: 0.0 ::: 0.02478705205993137\n",
      "0.052637330498941814 ::: 0.014306299527157229 ::: 0.0 ::: 0.0 ::: 0.12924903916392605 ::: 0.25273161014624046 ::: 0.06321370691581008 ::: 0.005919432379129397 ::: 0.1583430394282943 ::: 0.0 ::: 0.0 ::: 0.06361303840565657 ::: 0.0 ::: 0.1741036067940338 ::: 0.08775626120747315 ::: 0.0 ::: 0.0 ::: 2.4092715941401748 ::: 0.3039648808042008\n",
      "0.04999434766793476 ::: 0.18098946339128963 ::: 0.0 ::: 0.15273563988961714 ::: 0.08293834371799003 ::: 0.12577732686815724 ::: 0.06006768307753463 ::: 0.055153243942933194 ::: 0.0020803807388065643 ::: 0.0 ::: 0.006701504526949176 ::: 0.0 ::: 0.04839702653756017 ::: 0.0 ::: 0.0 ::: 0.0938416391428527 ::: 0.09643344687031519 ::: 0.36020741538475676 ::: 2.814246666327621\n"
     ]
    }
   ],
   "source": [
    "for x in arr:\n",
    "    print(*x, sep=' ::: ')"
   ]
  },
  {
   "cell_type": "code",
   "execution_count": 120,
   "id": "1b573818",
   "metadata": {},
   "outputs": [],
   "source": [
    "avg_mi=[]\n",
    "temp=0\n",
    "\n",
    "for i in range(0,19):\n",
    "    for j in range(0,19):\n",
    "            temp= temp+arr[i][j]\n",
    "    avg_mi.append(temp/19)"
   ]
  },
  {
   "cell_type": "code",
   "execution_count": 122,
   "id": "3f6721b6",
   "metadata": {},
   "outputs": [
    {
     "data": {
      "text/plain": [
       "19"
      ]
     },
     "execution_count": 122,
     "metadata": {},
     "output_type": "execute_result"
    }
   ],
   "source": [
    "len(avg_mi)"
   ]
  },
  {
   "cell_type": "code",
   "execution_count": 123,
   "id": "94937f44",
   "metadata": {},
   "outputs": [
    {
     "data": {
      "text/plain": [
       "[0.33275215609392145,\n",
       " 0.64506622511191,\n",
       " 1.0226661952195588,\n",
       " 1.3796339468096506,\n",
       " 1.7497737997672347,\n",
       " 2.055602751052468,\n",
       " 2.3039840841722596,\n",
       " 2.5728858999952955,\n",
       " 2.970772180369006,\n",
       " 3.2255753745565756,\n",
       " 3.5827085310461446,\n",
       " 3.850980881819464,\n",
       " 4.168509800045596,\n",
       " 4.4385991914419325,\n",
       " 4.648483078575008,\n",
       " 4.904505498477466,\n",
       " 5.150625253751154,\n",
       " 5.346157350562262,\n",
       " 5.563502830987751]"
      ]
     },
     "execution_count": 123,
     "metadata": {},
     "output_type": "execute_result"
    }
   ],
   "source": [
    "avg_mi"
   ]
  },
  {
   "cell_type": "markdown",
   "id": "2f31d743",
   "metadata": {},
   "source": [
    "### DISTRIBUTION OF AVERAGE MUTUAL INFORMATION COST OVER THE TEST SUBJECT ~ \"ADHD\""
   ]
  },
  {
   "cell_type": "code",
   "execution_count": 125,
   "id": "ebffb855",
   "metadata": {
    "scrolled": true
   },
   "outputs": [
    {
     "data": {
      "image/png": "[encoded data removed]",
      "text/plain": [
       "<Figure size 432x288 with 1 Axes>"
      ]
     },
     "metadata": {
      "needs_background": "light"
     },
     "output_type": "display_data"
    }
   ],
   "source": [
    "plt.plot(avg_mi)\n",
    "plt.show()"
   ]
  },
  {
   "cell_type": "markdown",
   "id": "a5c22851",
   "metadata": {},
   "source": [
    "#### BESIDES FINDING THE TEST FUNTION OVER MUTUAL INFORMATION, NOW THE DATA i.e., ADHD_PART1,ADHD_PART2,CONTROL_PART,CONTROL_PART2 , THE .mat FILES ARE LOADEAD CND CONVERTED TO DATA  FRAME WITH MINIMUM NUMBER OF CONSTRAINTS"
   ]
  },
  {
   "cell_type": "code",
   "execution_count": 2,
   "id": "79a24f15",
   "metadata": {},
   "outputs": [],
   "source": [
    "info = []\n",
    "def create_data(Path):\n",
    "    for root, __, files in os.walk(Path):\n",
    "        for f in files:\n",
    "            if f.endswith(\".mat\"):\n",
    "                  info.append(scipy.io.loadmat(os.path.join(root, f)))"
   ]
  },
  {
   "cell_type": "code",
   "execution_count": 3,
   "id": "9e160444",
   "metadata": {},
   "outputs": [],
   "source": [
    "path1 = 'C:/Users/kpdla/Desktop/Untitled Folder/ADHD_part1'\n",
    "path2 = 'C:/Users/kpdla/Desktop/Untitled Folder/ADHD_part2'\n",
    "path3 = 'C:/Users/kpdla/Desktop/Untitled Folder/Control_part1'\n",
    "path4 = 'C:/Users/kpdla/Desktop/Untitled Folder/Control_part2'\n",
    "create_data(path1)\n",
    "create_data(path2)\n",
    "create_data(path3)\n",
    "create_data(path4)"
   ]
  },
  {
   "cell_type": "code",
   "execution_count": 4,
   "id": "8fe99f1f",
   "metadata": {},
   "outputs": [],
   "source": [
    "array = []\n",
    "row_size = []\n",
    "for i in range(len(info)):\n",
    "    info[i] = dict(info[i])\n",
    "    key = info[i].keys()\n",
    "    key = list(key)\n",
    "    row_size.append(len(info[i][key[3]]))\n",
    "    min_row = min(row_size)\n",
    "for i in range(len(info)):\n",
    "    info[i] = dict(info[i])\n",
    "    key = info[i].keys()\n",
    "    key = list(key)\n",
    "    array.append(info[i][key[3]])\n",
    "    array[i] = array[i][0:min_row]\n",
    "    #array[i] = np.average(array[i], axis = 0)"
   ]
  },
  {
   "cell_type": "markdown",
   "id": "a0e0c88d",
   "metadata": {},
   "source": [
    "#### NOW WE OBTAIN AN ARRAY OF LEN ! 121*7983"
   ]
  },
  {
   "cell_type": "code",
   "execution_count": 5,
   "id": "84b40e12",
   "metadata": {},
   "outputs": [
    {
     "data": {
      "text/plain": [
       "121"
      ]
     },
     "execution_count": 5,
     "metadata": {},
     "output_type": "execute_result"
    }
   ],
   "source": [
    "len(array)"
   ]
  },
  {
   "cell_type": "code",
   "execution_count": 6,
   "id": "eccb011b",
   "metadata": {},
   "outputs": [
    {
     "data": {
      "text/plain": [
       "7983"
      ]
     },
     "execution_count": 6,
     "metadata": {},
     "output_type": "execute_result"
    }
   ],
   "source": [
    "len(array[100])"
   ]
  },
  {
   "cell_type": "markdown",
   "id": "756e4b93",
   "metadata": {},
   "source": [
    "#### TEST-DATAFRAME"
   ]
  },
  {
   "cell_type": "code",
   "execution_count": 93,
   "id": "d1ff4ed8",
   "metadata": {},
   "outputs": [],
   "source": [
    "df1 = pd.DataFrame(array[0], columns =['E1', 'E2', 'E3','E4', 'E5', 'E6','E7', 'E8', 'E9','E10', 'E11', 'E12','E13', 'E14', 'E15','E16', 'E17', 'E18','E19'])\n",
    "df2 = pd.DataFrame(array[1], columns =['E1', 'E2', 'E3','E4', 'E5', 'E6','E7', 'E8', 'E9','E10', 'E11', 'E12','E13', 'E14', 'E15','E16', 'E17', 'E18','E19'])\n",
    "df3 = pd.DataFrame(array[2], columns =['E1', 'E2', 'E3','E4', 'E5', 'E6','E7', 'E8', 'E9','E10', 'E11', 'E12','E13', 'E14', 'E15','E16', 'E17', 'E18','E19'])\n",
    "df4 = pd.DataFrame(array[3], columns =['E1', 'E2', 'E3','E4', 'E5', 'E6','E7', 'E8', 'E9','E10', 'E11', 'E12','E13', 'E14', 'E15','E16', 'E17', 'E18','E19'])"
   ]
  },
  {
   "cell_type": "code",
   "execution_count": 94,
   "id": "b20bbf57",
   "metadata": {},
   "outputs": [
    {
     "data": {
      "text/html": [
       "<div>\n",
       "<style scoped>\n",
       "    .dataframe tbody tr th:only-of-type {\n",
       "        vertical-align: middle;\n",
       "    }\n",
       "\n",
       "    .dataframe tbody tr th {\n",
       "        vertical-align: top;\n",
       "    }\n",
       "\n",
       "    .dataframe thead th {\n",
       "        text-align: right;\n",
       "    }\n",
       "</style>\n",
       "<table border=\"1\" class=\"dataframe\">\n",
       "  <thead>\n",
       "    <tr style=\"text-align: right;\">\n",
       "      <th></th>\n",
       "      <th>E1</th>\n",
       "      <th>E2</th>\n",
       "      <th>E3</th>\n",
       "      <th>E4</th>\n",
       "      <th>E5</th>\n",
       "      <th>E6</th>\n",
       "      <th>E7</th>\n",
       "      <th>E8</th>\n",
       "      <th>E9</th>\n",
       "      <th>E10</th>\n",
       "      <th>E11</th>\n",
       "      <th>E12</th>\n",
       "      <th>E13</th>\n",
       "      <th>E14</th>\n",
       "      <th>E15</th>\n",
       "      <th>E16</th>\n",
       "      <th>E17</th>\n",
       "      <th>E18</th>\n",
       "      <th>E19</th>\n",
       "    </tr>\n",
       "  </thead>\n",
       "  <tbody>\n",
       "    <tr>\n",
       "      <th>0</th>\n",
       "      <td>261.0</td>\n",
       "      <td>402.0</td>\n",
       "      <td>16.0</td>\n",
       "      <td>261.0</td>\n",
       "      <td>126.0</td>\n",
       "      <td>384.0</td>\n",
       "      <td>126.0</td>\n",
       "      <td>236.0</td>\n",
       "      <td>52.0</td>\n",
       "      <td>236.0</td>\n",
       "      <td>200.0</td>\n",
       "      <td>16.0</td>\n",
       "      <td>200.0</td>\n",
       "      <td>494.0</td>\n",
       "      <td>126.0</td>\n",
       "      <td>236.0</td>\n",
       "      <td>121.0</td>\n",
       "      <td>367.0</td>\n",
       "      <td>121.0</td>\n",
       "    </tr>\n",
       "    <tr>\n",
       "      <th>1</th>\n",
       "      <td>121.0</td>\n",
       "      <td>191.0</td>\n",
       "      <td>-94.0</td>\n",
       "      <td>85.0</td>\n",
       "      <td>16.0</td>\n",
       "      <td>200.0</td>\n",
       "      <td>126.0</td>\n",
       "      <td>52.0</td>\n",
       "      <td>347.0</td>\n",
       "      <td>273.0</td>\n",
       "      <td>16.0</td>\n",
       "      <td>-57.0</td>\n",
       "      <td>126.0</td>\n",
       "      <td>347.0</td>\n",
       "      <td>52.0</td>\n",
       "      <td>52.0</td>\n",
       "      <td>15.0</td>\n",
       "      <td>121.0</td>\n",
       "      <td>-19.0</td>\n",
       "    </tr>\n",
       "    <tr>\n",
       "      <th>2</th>\n",
       "      <td>-55.0</td>\n",
       "      <td>85.0</td>\n",
       "      <td>-204.0</td>\n",
       "      <td>15.0</td>\n",
       "      <td>-57.0</td>\n",
       "      <td>200.0</td>\n",
       "      <td>52.0</td>\n",
       "      <td>126.0</td>\n",
       "      <td>236.0</td>\n",
       "      <td>200.0</td>\n",
       "      <td>-20.0</td>\n",
       "      <td>-94.0</td>\n",
       "      <td>126.0</td>\n",
       "      <td>420.0</td>\n",
       "      <td>52.0</td>\n",
       "      <td>126.0</td>\n",
       "      <td>-55.0</td>\n",
       "      <td>261.0</td>\n",
       "      <td>85.0</td>\n",
       "    </tr>\n",
       "    <tr>\n",
       "      <th>3</th>\n",
       "      <td>191.0</td>\n",
       "      <td>85.0</td>\n",
       "      <td>52.0</td>\n",
       "      <td>50.0</td>\n",
       "      <td>89.0</td>\n",
       "      <td>236.0</td>\n",
       "      <td>163.0</td>\n",
       "      <td>89.0</td>\n",
       "      <td>89.0</td>\n",
       "      <td>89.0</td>\n",
       "      <td>89.0</td>\n",
       "      <td>-57.0</td>\n",
       "      <td>236.0</td>\n",
       "      <td>420.0</td>\n",
       "      <td>126.0</td>\n",
       "      <td>126.0</td>\n",
       "      <td>15.0</td>\n",
       "      <td>85.0</td>\n",
       "      <td>-55.0</td>\n",
       "    </tr>\n",
       "    <tr>\n",
       "      <th>4</th>\n",
       "      <td>-55.0</td>\n",
       "      <td>-125.0</td>\n",
       "      <td>-204.0</td>\n",
       "      <td>-160.0</td>\n",
       "      <td>-204.0</td>\n",
       "      <td>16.0</td>\n",
       "      <td>-241.0</td>\n",
       "      <td>-241.0</td>\n",
       "      <td>89.0</td>\n",
       "      <td>16.0</td>\n",
       "      <td>-20.0</td>\n",
       "      <td>-131.0</td>\n",
       "      <td>89.0</td>\n",
       "      <td>310.0</td>\n",
       "      <td>-57.0</td>\n",
       "      <td>52.0</td>\n",
       "      <td>-55.0</td>\n",
       "      <td>15.0</td>\n",
       "      <td>-336.0</td>\n",
       "    </tr>\n",
       "  </tbody>\n",
       "</table>\n",
       "</div>"
      ],
      "text/plain": [
       "      E1     E2     E3     E4     E5     E6     E7     E8     E9    E10  \\\n",
       "0  261.0  402.0   16.0  261.0  126.0  384.0  126.0  236.0   52.0  236.0   \n",
       "1  121.0  191.0  -94.0   85.0   16.0  200.0  126.0   52.0  347.0  273.0   \n",
       "2  -55.0   85.0 -204.0   15.0  -57.0  200.0   52.0  126.0  236.0  200.0   \n",
       "3  191.0   85.0   52.0   50.0   89.0  236.0  163.0   89.0   89.0   89.0   \n",
       "4  -55.0 -125.0 -204.0 -160.0 -204.0   16.0 -241.0 -241.0   89.0   16.0   \n",
       "\n",
       "     E11    E12    E13    E14    E15    E16    E17    E18    E19  \n",
       "0  200.0   16.0  200.0  494.0  126.0  236.0  121.0  367.0  121.0  \n",
       "1   16.0  -57.0  126.0  347.0   52.0   52.0   15.0  121.0  -19.0  \n",
       "2  -20.0  -94.0  126.0  420.0   52.0  126.0  -55.0  261.0   85.0  \n",
       "3   89.0  -57.0  236.0  420.0  126.0  126.0   15.0   85.0  -55.0  \n",
       "4  -20.0 -131.0   89.0  310.0  -57.0   52.0  -55.0   15.0 -336.0  "
      ]
     },
     "execution_count": 94,
     "metadata": {},
     "output_type": "execute_result"
    }
   ],
   "source": [
    "df1.head()"
   ]
  },
  {
   "cell_type": "code",
   "execution_count": 95,
   "id": "66c69186",
   "metadata": {},
   "outputs": [
    {
     "name": "stdout",
     "output_type": "stream",
     "text": [
      "<class 'pandas.core.frame.DataFrame'>\n",
      "RangeIndex: 7983 entries, 0 to 7982\n",
      "Data columns (total 19 columns):\n",
      " #   Column  Non-Null Count  Dtype  \n",
      "---  ------  --------------  -----  \n",
      " 0   E1      7983 non-null   float64\n",
      " 1   E2      7983 non-null   float64\n",
      " 2   E3      7983 non-null   float64\n",
      " 3   E4      7983 non-null   float64\n",
      " 4   E5      7983 non-null   float64\n",
      " 5   E6      7983 non-null   float64\n",
      " 6   E7      7983 non-null   float64\n",
      " 7   E8      7983 non-null   float64\n",
      " 8   E9      7983 non-null   float64\n",
      " 9   E10     7983 non-null   float64\n",
      " 10  E11     7983 non-null   float64\n",
      " 11  E12     7983 non-null   float64\n",
      " 12  E13     7983 non-null   float64\n",
      " 13  E14     7983 non-null   float64\n",
      " 14  E15     7983 non-null   float64\n",
      " 15  E16     7983 non-null   float64\n",
      " 16  E17     7983 non-null   float64\n",
      " 17  E18     7983 non-null   float64\n",
      " 18  E19     7983 non-null   float64\n",
      "dtypes: float64(19)\n",
      "memory usage: 1.2 MB\n"
     ]
    }
   ],
   "source": [
    "df1.info()"
   ]
  },
  {
   "cell_type": "code",
   "execution_count": 23,
   "id": "60a10744",
   "metadata": {
    "scrolled": true
   },
   "outputs": [
    {
     "data": {
      "text/html": [
       "<div>\n",
       "<style scoped>\n",
       "    .dataframe tbody tr th:only-of-type {\n",
       "        vertical-align: middle;\n",
       "    }\n",
       "\n",
       "    .dataframe tbody tr th {\n",
       "        vertical-align: top;\n",
       "    }\n",
       "\n",
       "    .dataframe thead th {\n",
       "        text-align: right;\n",
       "    }\n",
       "</style>\n",
       "<table border=\"1\" class=\"dataframe\">\n",
       "  <thead>\n",
       "    <tr style=\"text-align: right;\">\n",
       "      <th></th>\n",
       "      <th>E1</th>\n",
       "      <th>E2</th>\n",
       "      <th>E3</th>\n",
       "      <th>E4</th>\n",
       "      <th>E5</th>\n",
       "      <th>E6</th>\n",
       "      <th>E7</th>\n",
       "      <th>E8</th>\n",
       "      <th>E9</th>\n",
       "      <th>E10</th>\n",
       "      <th>E11</th>\n",
       "      <th>E12</th>\n",
       "      <th>E13</th>\n",
       "      <th>E14</th>\n",
       "      <th>E15</th>\n",
       "      <th>E16</th>\n",
       "      <th>E17</th>\n",
       "      <th>E18</th>\n",
       "      <th>E19</th>\n",
       "    </tr>\n",
       "  </thead>\n",
       "  <tbody>\n",
       "    <tr>\n",
       "      <th>count</th>\n",
       "      <td>7983.000000</td>\n",
       "      <td>7983.000000</td>\n",
       "      <td>7983.000000</td>\n",
       "      <td>7983.000000</td>\n",
       "      <td>7983.000000</td>\n",
       "      <td>7983.000000</td>\n",
       "      <td>7983.000000</td>\n",
       "      <td>7983.000000</td>\n",
       "      <td>7983.000000</td>\n",
       "      <td>7983.000000</td>\n",
       "      <td>7983.000000</td>\n",
       "      <td>7983.000000</td>\n",
       "      <td>7983.000000</td>\n",
       "      <td>7983.000000</td>\n",
       "      <td>7983.000000</td>\n",
       "      <td>7983.000000</td>\n",
       "      <td>7983.000000</td>\n",
       "      <td>7983.000000</td>\n",
       "      <td>7983.000000</td>\n",
       "    </tr>\n",
       "    <tr>\n",
       "      <th>mean</th>\n",
       "      <td>146.442440</td>\n",
       "      <td>146.491920</td>\n",
       "      <td>150.885131</td>\n",
       "      <td>144.549793</td>\n",
       "      <td>151.444444</td>\n",
       "      <td>151.316923</td>\n",
       "      <td>151.020544</td>\n",
       "      <td>150.319053</td>\n",
       "      <td>151.362270</td>\n",
       "      <td>150.666667</td>\n",
       "      <td>151.057247</td>\n",
       "      <td>150.324565</td>\n",
       "      <td>151.059877</td>\n",
       "      <td>151.484154</td>\n",
       "      <td>150.957409</td>\n",
       "      <td>150.239384</td>\n",
       "      <td>144.692346</td>\n",
       "      <td>144.703370</td>\n",
       "      <td>144.429037</td>\n",
       "    </tr>\n",
       "    <tr>\n",
       "      <th>std</th>\n",
       "      <td>238.289347</td>\n",
       "      <td>227.980378</td>\n",
       "      <td>182.242124</td>\n",
       "      <td>166.796468</td>\n",
       "      <td>196.397034</td>\n",
       "      <td>158.416677</td>\n",
       "      <td>184.865565</td>\n",
       "      <td>185.250143</td>\n",
       "      <td>137.431491</td>\n",
       "      <td>126.076374</td>\n",
       "      <td>184.116687</td>\n",
       "      <td>151.558577</td>\n",
       "      <td>135.546804</td>\n",
       "      <td>153.879106</td>\n",
       "      <td>121.232922</td>\n",
       "      <td>131.651006</td>\n",
       "      <td>163.147457</td>\n",
       "      <td>154.071638</td>\n",
       "      <td>160.552739</td>\n",
       "    </tr>\n",
       "    <tr>\n",
       "      <th>min</th>\n",
       "      <td>-1111.000000</td>\n",
       "      <td>-1287.000000</td>\n",
       "      <td>-535.000000</td>\n",
       "      <td>-547.000000</td>\n",
       "      <td>-2208.000000</td>\n",
       "      <td>-535.000000</td>\n",
       "      <td>-572.000000</td>\n",
       "      <td>-1235.000000</td>\n",
       "      <td>-719.000000</td>\n",
       "      <td>-462.000000</td>\n",
       "      <td>-719.000000</td>\n",
       "      <td>-1014.000000</td>\n",
       "      <td>-535.000000</td>\n",
       "      <td>-1235.000000</td>\n",
       "      <td>-719.000000</td>\n",
       "      <td>-756.000000</td>\n",
       "      <td>-1181.000000</td>\n",
       "      <td>-512.000000</td>\n",
       "      <td>-583.000000</td>\n",
       "    </tr>\n",
       "    <tr>\n",
       "      <th>25%</th>\n",
       "      <td>50.000000</td>\n",
       "      <td>50.000000</td>\n",
       "      <td>16.000000</td>\n",
       "      <td>50.000000</td>\n",
       "      <td>16.000000</td>\n",
       "      <td>52.000000</td>\n",
       "      <td>16.000000</td>\n",
       "      <td>52.000000</td>\n",
       "      <td>52.000000</td>\n",
       "      <td>89.000000</td>\n",
       "      <td>52.000000</td>\n",
       "      <td>89.000000</td>\n",
       "      <td>52.000000</td>\n",
       "      <td>52.000000</td>\n",
       "      <td>89.000000</td>\n",
       "      <td>89.000000</td>\n",
       "      <td>50.000000</td>\n",
       "      <td>50.000000</td>\n",
       "      <td>50.000000</td>\n",
       "    </tr>\n",
       "    <tr>\n",
       "      <th>50%</th>\n",
       "      <td>156.000000</td>\n",
       "      <td>156.000000</td>\n",
       "      <td>163.000000</td>\n",
       "      <td>156.000000</td>\n",
       "      <td>163.000000</td>\n",
       "      <td>163.000000</td>\n",
       "      <td>163.000000</td>\n",
       "      <td>163.000000</td>\n",
       "      <td>163.000000</td>\n",
       "      <td>163.000000</td>\n",
       "      <td>163.000000</td>\n",
       "      <td>163.000000</td>\n",
       "      <td>163.000000</td>\n",
       "      <td>163.000000</td>\n",
       "      <td>163.000000</td>\n",
       "      <td>163.000000</td>\n",
       "      <td>156.000000</td>\n",
       "      <td>156.000000</td>\n",
       "      <td>156.000000</td>\n",
       "    </tr>\n",
       "    <tr>\n",
       "      <th>75%</th>\n",
       "      <td>261.000000</td>\n",
       "      <td>226.000000</td>\n",
       "      <td>273.000000</td>\n",
       "      <td>261.000000</td>\n",
       "      <td>273.000000</td>\n",
       "      <td>273.000000</td>\n",
       "      <td>273.000000</td>\n",
       "      <td>273.000000</td>\n",
       "      <td>236.000000</td>\n",
       "      <td>236.000000</td>\n",
       "      <td>273.000000</td>\n",
       "      <td>236.000000</td>\n",
       "      <td>236.000000</td>\n",
       "      <td>236.000000</td>\n",
       "      <td>236.000000</td>\n",
       "      <td>236.000000</td>\n",
       "      <td>226.000000</td>\n",
       "      <td>261.000000</td>\n",
       "      <td>261.000000</td>\n",
       "    </tr>\n",
       "    <tr>\n",
       "      <th>max</th>\n",
       "      <td>1986.000000</td>\n",
       "      <td>4802.000000</td>\n",
       "      <td>1377.000000</td>\n",
       "      <td>930.000000</td>\n",
       "      <td>1414.000000</td>\n",
       "      <td>862.000000</td>\n",
       "      <td>1377.000000</td>\n",
       "      <td>972.000000</td>\n",
       "      <td>1193.000000</td>\n",
       "      <td>715.000000</td>\n",
       "      <td>1304.000000</td>\n",
       "      <td>899.000000</td>\n",
       "      <td>1304.000000</td>\n",
       "      <td>1451.000000</td>\n",
       "      <td>1267.000000</td>\n",
       "      <td>1046.000000</td>\n",
       "      <td>1388.000000</td>\n",
       "      <td>789.000000</td>\n",
       "      <td>1247.000000</td>\n",
       "    </tr>\n",
       "  </tbody>\n",
       "</table>\n",
       "</div>"
      ],
      "text/plain": [
       "                E1           E2           E3           E4           E5  \\\n",
       "count  7983.000000  7983.000000  7983.000000  7983.000000  7983.000000   \n",
       "mean    146.442440   146.491920   150.885131   144.549793   151.444444   \n",
       "std     238.289347   227.980378   182.242124   166.796468   196.397034   \n",
       "min   -1111.000000 -1287.000000  -535.000000  -547.000000 -2208.000000   \n",
       "25%      50.000000    50.000000    16.000000    50.000000    16.000000   \n",
       "50%     156.000000   156.000000   163.000000   156.000000   163.000000   \n",
       "75%     261.000000   226.000000   273.000000   261.000000   273.000000   \n",
       "max    1986.000000  4802.000000  1377.000000   930.000000  1414.000000   \n",
       "\n",
       "                E6           E7           E8           E9          E10  \\\n",
       "count  7983.000000  7983.000000  7983.000000  7983.000000  7983.000000   \n",
       "mean    151.316923   151.020544   150.319053   151.362270   150.666667   \n",
       "std     158.416677   184.865565   185.250143   137.431491   126.076374   \n",
       "min    -535.000000  -572.000000 -1235.000000  -719.000000  -462.000000   \n",
       "25%      52.000000    16.000000    52.000000    52.000000    89.000000   \n",
       "50%     163.000000   163.000000   163.000000   163.000000   163.000000   \n",
       "75%     273.000000   273.000000   273.000000   236.000000   236.000000   \n",
       "max     862.000000  1377.000000   972.000000  1193.000000   715.000000   \n",
       "\n",
       "               E11          E12          E13          E14          E15  \\\n",
       "count  7983.000000  7983.000000  7983.000000  7983.000000  7983.000000   \n",
       "mean    151.057247   150.324565   151.059877   151.484154   150.957409   \n",
       "std     184.116687   151.558577   135.546804   153.879106   121.232922   \n",
       "min    -719.000000 -1014.000000  -535.000000 -1235.000000  -719.000000   \n",
       "25%      52.000000    89.000000    52.000000    52.000000    89.000000   \n",
       "50%     163.000000   163.000000   163.000000   163.000000   163.000000   \n",
       "75%     273.000000   236.000000   236.000000   236.000000   236.000000   \n",
       "max    1304.000000   899.000000  1304.000000  1451.000000  1267.000000   \n",
       "\n",
       "               E16          E17          E18          E19  \n",
       "count  7983.000000  7983.000000  7983.000000  7983.000000  \n",
       "mean    150.239384   144.692346   144.703370   144.429037  \n",
       "std     131.651006   163.147457   154.071638   160.552739  \n",
       "min    -756.000000 -1181.000000  -512.000000  -583.000000  \n",
       "25%      89.000000    50.000000    50.000000    50.000000  \n",
       "50%     163.000000   156.000000   156.000000   156.000000  \n",
       "75%     236.000000   226.000000   261.000000   261.000000  \n",
       "max    1046.000000  1388.000000   789.000000  1247.000000  "
      ]
     },
     "execution_count": 23,
     "metadata": {},
     "output_type": "execute_result"
    }
   ],
   "source": [
    "df1.describe()"
   ]
  },
  {
   "cell_type": "markdown",
   "id": "f3728de4",
   "metadata": {},
   "source": [
    "#### NO NULL VALUES:"
   ]
  },
  {
   "cell_type": "code",
   "execution_count": 26,
   "id": "1d22d303",
   "metadata": {},
   "outputs": [
    {
     "data": {
      "text/plain": [
       "<AxesSubplot:>"
      ]
     },
     "execution_count": 26,
     "metadata": {},
     "output_type": "execute_result"
    },
    {
     "data": {
      "image/png": "[encoded data removed]",
      "text/plain": [
       "<Figure size 432x288 with 2 Axes>"
      ]
     },
     "metadata": {
      "needs_background": "light"
     },
     "output_type": "display_data"
    }
   ],
   "source": [
    "sns.heatmap(df1.isnull(),yticklabels=False,cmap='spring_r')"
   ]
  },
  {
   "cell_type": "code",
   "execution_count": 27,
   "id": "b195b5bf",
   "metadata": {},
   "outputs": [
    {
     "data": {
      "text/plain": [
       "<AxesSubplot:ylabel='Frequency'>"
      ]
     },
     "execution_count": 27,
     "metadata": {},
     "output_type": "execute_result"
    },
    {
     "data": {
      "image/png": "[encoded data removed]",
      "text/plain": [
       "<Figure size 432x288 with 1 Axes>"
      ]
     },
     "metadata": {
      "needs_background": "light"
     },
     "output_type": "display_data"
    }
   ],
   "source": [
    "df1.plot.hist(bins=100, alpha=0.5)"
   ]
  },
  {
   "cell_type": "code",
   "execution_count": 118,
   "id": "b54ccbe2",
   "metadata": {},
   "outputs": [],
   "source": [
    "X=df1.iloc[:100,0:19]\n",
    "Y =pd.DataFrame([\"ADHD\"] * 100)\n",
    "Y = Y.rename({0: 'Class'}, axis=1)"
   ]
  },
  {
   "cell_type": "code",
   "execution_count": 128,
   "id": "141fc93e",
   "metadata": {},
   "outputs": [
    {
     "data": {
      "text/html": [
       "<div>\n",
       "<style scoped>\n",
       "    .dataframe tbody tr th:only-of-type {\n",
       "        vertical-align: middle;\n",
       "    }\n",
       "\n",
       "    .dataframe tbody tr th {\n",
       "        vertical-align: top;\n",
       "    }\n",
       "\n",
       "    .dataframe thead th {\n",
       "        text-align: right;\n",
       "    }\n",
       "</style>\n",
       "<table border=\"1\" class=\"dataframe\">\n",
       "  <thead>\n",
       "    <tr style=\"text-align: right;\">\n",
       "      <th></th>\n",
       "      <th>Class</th>\n",
       "    </tr>\n",
       "  </thead>\n",
       "  <tbody>\n",
       "    <tr>\n",
       "      <th>0</th>\n",
       "      <td>ADHD</td>\n",
       "    </tr>\n",
       "    <tr>\n",
       "      <th>1</th>\n",
       "      <td>ADHD</td>\n",
       "    </tr>\n",
       "    <tr>\n",
       "      <th>2</th>\n",
       "      <td>ADHD</td>\n",
       "    </tr>\n",
       "    <tr>\n",
       "      <th>3</th>\n",
       "      <td>ADHD</td>\n",
       "    </tr>\n",
       "    <tr>\n",
       "      <th>4</th>\n",
       "      <td>ADHD</td>\n",
       "    </tr>\n",
       "    <tr>\n",
       "      <th>...</th>\n",
       "      <td>...</td>\n",
       "    </tr>\n",
       "    <tr>\n",
       "      <th>95</th>\n",
       "      <td>ADHD</td>\n",
       "    </tr>\n",
       "    <tr>\n",
       "      <th>96</th>\n",
       "      <td>ADHD</td>\n",
       "    </tr>\n",
       "    <tr>\n",
       "      <th>97</th>\n",
       "      <td>ADHD</td>\n",
       "    </tr>\n",
       "    <tr>\n",
       "      <th>98</th>\n",
       "      <td>ADHD</td>\n",
       "    </tr>\n",
       "    <tr>\n",
       "      <th>99</th>\n",
       "      <td>ADHD</td>\n",
       "    </tr>\n",
       "  </tbody>\n",
       "</table>\n",
       "<p>100 rows × 1 columns</p>\n",
       "</div>"
      ],
      "text/plain": [
       "   Class\n",
       "0   ADHD\n",
       "1   ADHD\n",
       "2   ADHD\n",
       "3   ADHD\n",
       "4   ADHD\n",
       "..   ...\n",
       "95  ADHD\n",
       "96  ADHD\n",
       "97  ADHD\n",
       "98  ADHD\n",
       "99  ADHD\n",
       "\n",
       "[100 rows x 1 columns]"
      ]
     },
     "execution_count": 128,
     "metadata": {},
     "output_type": "execute_result"
    }
   ],
   "source": [
    "Y"
   ]
  },
  {
   "cell_type": "code",
   "execution_count": null,
   "id": "3724c0f2",
   "metadata": {},
   "outputs": [],
   "source": [
    "Y=Y.values.ravel()"
   ]
  },
  {
   "cell_type": "code",
   "execution_count": 129,
   "id": "22e8620d",
   "metadata": {},
   "outputs": [],
   "source": [
    "df_target=(X-X.min())/(X.max()-X.min())"
   ]
  },
  {
   "cell_type": "code",
   "execution_count": 30,
   "id": "6040e455",
   "metadata": {},
   "outputs": [
    {
     "data": {
      "text/plain": [
       "<AxesSubplot:ylabel='Frequency'>"
      ]
     },
     "execution_count": 30,
     "metadata": {},
     "output_type": "execute_result"
    },
    {
     "data": {
      "image/png": "[encoded data removed]",
      "text/plain": [
       "<Figure size 432x288 with 1 Axes>"
      ]
     },
     "metadata": {
      "needs_background": "light"
     },
     "output_type": "display_data"
    }
   ],
   "source": [
    "df_target.plot.hist(bins=100, alpha=0.5)"
   ]
  },
  {
   "cell_type": "code",
   "execution_count": 131,
   "id": "57c3106b",
   "metadata": {},
   "outputs": [],
   "source": [
    "mi_score = MIC(df_target,Y)"
   ]
  },
  {
   "cell_type": "code",
   "execution_count": 100,
   "id": "9cf681a9",
   "metadata": {},
   "outputs": [
    {
     "data": {
      "text/plain": [
       "(100, 19)"
      ]
     },
     "execution_count": 100,
     "metadata": {},
     "output_type": "execute_result"
    }
   ],
   "source": [
    "df_target.shape"
   ]
  },
  {
   "cell_type": "code",
   "execution_count": 132,
   "id": "72aa1a32",
   "metadata": {},
   "outputs": [
    {
     "data": {
      "text/plain": [
       "array([0, 0, 0, 0, 0, 0, 0, 0, 0, 0, 0, 0, 0, 0, 0, 0, 0, 0, 0])"
      ]
     },
     "execution_count": 132,
     "metadata": {},
     "output_type": "execute_result"
    }
   ],
   "source": [
    "mi_score"
   ]
  },
  {
   "cell_type": "code",
   "execution_count": 152,
   "id": "4e473a9e",
   "metadata": {},
   "outputs": [],
   "source": [
    "lab_enc = preprocessing.LabelEncoder()\n",
    "arr=[]\n",
    "fin=[]\n",
    "for i in df_target:\n",
    "    arr=[]\n",
    "    dat=lab_enc.fit_transform(df_target[i])\n",
    "    for j in df_target:\n",
    "        if i!='Class' and i!=j:\n",
    "            data = lab_enc.fit_transform(df_target[j])\n",
    "            temp=MIC(dat.reshape(-1,1),data)\n",
    "            arr.append(temp)\n",
    "    fin.append(arr)"
   ]
  },
  {
   "cell_type": "code",
   "execution_count": 153,
   "id": "639dafb8",
   "metadata": {},
   "outputs": [],
   "source": [
    "avg_mi=[]\n",
    "temp=0\n",
    "\n",
    "for i in range (0,len(fin)):\n",
    "    for j in range(0,len(fin[i])):\n",
    "        temp= temp+fin[i][j]\n",
    "    avg_mi.append(temp/18)\n",
    "avg_mi=list(chain.from_iterable(avg_mi))"
   ]
  },
  {
   "cell_type": "code",
   "execution_count": 159,
   "id": "21cda340",
   "metadata": {},
   "outputs": [
    {
     "data": {
      "text/plain": [
       "[0.1662696938681435,\n",
       " 0.3420228046726931,\n",
       " 0.5405516491824194,\n",
       " 0.7044472350686116,\n",
       " 0.9283586266949606,\n",
       " 1.0811577769228886,\n",
       " 1.189609660276358,\n",
       " 1.3385702084146227,\n",
       " 1.4755634197914513,\n",
       " 1.6063692386961335,\n",
       " 1.8043098702459426,\n",
       " 1.9432810366764766,\n",
       " 2.1020232848441918,\n",
       " 2.2250180579727776,\n",
       " 2.3130460808060818,\n",
       " 2.4699887929815367,\n",
       " 2.563226682062989,\n",
       " 2.633310953949501,\n",
       " 2.7033098437213936]"
      ]
     },
     "execution_count": 159,
     "metadata": {},
     "output_type": "execute_result"
    }
   ],
   "source": [
    "avg_mi"
   ]
  },
  {
   "cell_type": "markdown",
   "id": "ba8da463",
   "metadata": {},
   "source": [
    "#### NOW, SINCE WE WERE ABLE TO FIND THE COST FOR OUR NEWLY LOADED TEST DATA, WE SHALL PROCESS THE CALCULATION OF THE MUTUAL INFORMATION FOR THE WHOLE DATASET, AND THEN Obtain a 19 x 19 VECTOR FOR EACH 121 SUBJECTS , AND IN THE END TAKING AVERAGE WE'LL HAVE 121 X1 MI_VECTORS"
   ]
  },
  {
   "cell_type": "code",
   "execution_count": 36,
   "id": "b52f9a48",
   "metadata": {},
   "outputs": [],
   "source": [
    "fin_mi=[]\n",
    "for k in range(0,121):#,3\n",
    "    sm=pd.DataFrame(array[k], columns =['E1', 'E2', 'E3','E4', 'E5', 'E6','E7', 'E8', 'E9','E10', 'E11', 'E12','E13', 'E14', 'E15','E16', 'E17', 'E18','E19'])\n",
    "    X=sm.iloc[:100,0:19]\n",
    "    if k < 61:\n",
    "        Y=pd.DataFrame([\"ADHD\"] * 100)\n",
    "    else:\n",
    "        Y=pd.DataFrame([\"Healthy\"] * 100)\n",
    "    Y = Y.rename({0: 'Class'}, axis=1)\n",
    "    df_target=(X-X.min())/(X.max()-X.min())\n",
    "    Y=Y.values.ravel()\n",
    "    \n",
    "    lab_enc = preprocessing.LabelEncoder()\n",
    "    arr=[]\n",
    "    fin=[]\n",
    "    for i in df_target:\n",
    "        arr=[]\n",
    "        dat=lab_enc.fit_transform(df_target[i])\n",
    "        for j in df_target:\n",
    "            if i!='Class' and i!=j:\n",
    "                data = lab_enc.fit_transform(df_target[j])\n",
    "                temp=MIC(dat.reshape(-1,1),data)\n",
    "                arr.append(temp)\n",
    "        fin.append(arr)\n",
    "    #print(fin)\n",
    "    avg_mi=[]\n",
    "    t=0\n",
    "\n",
    "    for m in range (0,len(fin)):\n",
    "        for n in range(0,len(fin[m])):\n",
    "            t= t+fin[m][n]\n",
    "        avg_mi.append(t/18)\n",
    "    avg_mi=list(chain.from_iterable(avg_mi))\n",
    "    #print(\"idfoijdo\",avg_mi)\n",
    "    if k < 61:\n",
    "        avg_mi.append(\"ADHD\")\n",
    "    else:\n",
    "        avg_mi.append(\"Healthy\")\n",
    "    fin_mi.append(avg_mi)  \n",
    "    "
   ]
  },
  {
   "cell_type": "markdown",
   "id": "45c44c25",
   "metadata": {},
   "source": [
    "##### CONVERSION OF THE AVERAGE_MI 121 x 1 INTO DATAFRAME "
   ]
  },
  {
   "cell_type": "code",
   "execution_count": 38,
   "id": "838a3c7a",
   "metadata": {},
   "outputs": [],
   "source": [
    "df=pd.DataFrame(fin_mi, columns =['E1', 'E2', 'E3','E4', 'E5', 'E6','E7', 'E8', 'E9','E10', 'E11', 'E12','E13', 'E14', 'E15','E16', 'E17', 'E18','E19','Class'])\n"
   ]
  },
  {
   "cell_type": "code",
   "execution_count": 123,
   "id": "8986d7e4",
   "metadata": {},
   "outputs": [
    {
     "data": {
      "text/html": [
       "<div>\n",
       "<style scoped>\n",
       "    .dataframe tbody tr th:only-of-type {\n",
       "        vertical-align: middle;\n",
       "    }\n",
       "\n",
       "    .dataframe tbody tr th {\n",
       "        vertical-align: top;\n",
       "    }\n",
       "\n",
       "    .dataframe thead th {\n",
       "        text-align: right;\n",
       "    }\n",
       "</style>\n",
       "<table border=\"1\" class=\"dataframe\">\n",
       "  <thead>\n",
       "    <tr style=\"text-align: right;\">\n",
       "      <th></th>\n",
       "      <th>E1</th>\n",
       "      <th>E2</th>\n",
       "      <th>E3</th>\n",
       "      <th>E4</th>\n",
       "      <th>E5</th>\n",
       "      <th>E6</th>\n",
       "      <th>E7</th>\n",
       "      <th>E8</th>\n",
       "      <th>E9</th>\n",
       "      <th>E10</th>\n",
       "      <th>E11</th>\n",
       "      <th>E12</th>\n",
       "      <th>E13</th>\n",
       "      <th>E14</th>\n",
       "      <th>E15</th>\n",
       "      <th>E16</th>\n",
       "      <th>E17</th>\n",
       "      <th>E18</th>\n",
       "      <th>E19</th>\n",
       "      <th>Class</th>\n",
       "    </tr>\n",
       "  </thead>\n",
       "  <tbody>\n",
       "    <tr>\n",
       "      <th>0</th>\n",
       "      <td>0.383660</td>\n",
       "      <td>0.792919</td>\n",
       "      <td>1.212255</td>\n",
       "      <td>1.622604</td>\n",
       "      <td>2.023129</td>\n",
       "      <td>2.393252</td>\n",
       "      <td>2.568957</td>\n",
       "      <td>2.897339</td>\n",
       "      <td>2.944207</td>\n",
       "      <td>3.175924</td>\n",
       "      <td>3.560960</td>\n",
       "      <td>3.898768</td>\n",
       "      <td>4.267560</td>\n",
       "      <td>4.540978</td>\n",
       "      <td>4.777970</td>\n",
       "      <td>5.199777</td>\n",
       "      <td>5.544439</td>\n",
       "      <td>5.811323</td>\n",
       "      <td>5.977828</td>\n",
       "      <td>ADHD</td>\n",
       "    </tr>\n",
       "    <tr>\n",
       "      <th>1</th>\n",
       "      <td>0.367537</td>\n",
       "      <td>0.635953</td>\n",
       "      <td>1.072017</td>\n",
       "      <td>1.259400</td>\n",
       "      <td>1.703897</td>\n",
       "      <td>1.803385</td>\n",
       "      <td>2.219324</td>\n",
       "      <td>2.337071</td>\n",
       "      <td>2.738489</td>\n",
       "      <td>2.858746</td>\n",
       "      <td>3.259902</td>\n",
       "      <td>3.361013</td>\n",
       "      <td>3.729051</td>\n",
       "      <td>3.870780</td>\n",
       "      <td>4.183466</td>\n",
       "      <td>4.279278</td>\n",
       "      <td>4.603571</td>\n",
       "      <td>4.706988</td>\n",
       "      <td>5.029907</td>\n",
       "      <td>ADHD</td>\n",
       "    </tr>\n",
       "    <tr>\n",
       "      <th>2</th>\n",
       "      <td>0.412510</td>\n",
       "      <td>0.915957</td>\n",
       "      <td>1.470684</td>\n",
       "      <td>2.010199</td>\n",
       "      <td>2.551719</td>\n",
       "      <td>3.131206</td>\n",
       "      <td>3.475229</td>\n",
       "      <td>3.812570</td>\n",
       "      <td>4.179211</td>\n",
       "      <td>4.608647</td>\n",
       "      <td>5.223149</td>\n",
       "      <td>5.742592</td>\n",
       "      <td>6.140829</td>\n",
       "      <td>6.580417</td>\n",
       "      <td>6.890656</td>\n",
       "      <td>7.239700</td>\n",
       "      <td>7.564449</td>\n",
       "      <td>8.110252</td>\n",
       "      <td>8.417490</td>\n",
       "      <td>ADHD</td>\n",
       "    </tr>\n",
       "    <tr>\n",
       "      <th>3</th>\n",
       "      <td>0.132565</td>\n",
       "      <td>0.247688</td>\n",
       "      <td>0.447558</td>\n",
       "      <td>0.568343</td>\n",
       "      <td>0.760527</td>\n",
       "      <td>0.934591</td>\n",
       "      <td>1.118297</td>\n",
       "      <td>1.348199</td>\n",
       "      <td>1.420763</td>\n",
       "      <td>1.561058</td>\n",
       "      <td>1.749635</td>\n",
       "      <td>1.925651</td>\n",
       "      <td>2.067738</td>\n",
       "      <td>2.265763</td>\n",
       "      <td>2.418152</td>\n",
       "      <td>2.536391</td>\n",
       "      <td>2.681950</td>\n",
       "      <td>2.800798</td>\n",
       "      <td>3.032851</td>\n",
       "      <td>ADHD</td>\n",
       "    </tr>\n",
       "    <tr>\n",
       "      <th>4</th>\n",
       "      <td>0.250559</td>\n",
       "      <td>0.524315</td>\n",
       "      <td>0.899523</td>\n",
       "      <td>1.181411</td>\n",
       "      <td>1.427477</td>\n",
       "      <td>1.660761</td>\n",
       "      <td>1.903162</td>\n",
       "      <td>2.061360</td>\n",
       "      <td>2.294401</td>\n",
       "      <td>2.438934</td>\n",
       "      <td>2.793944</td>\n",
       "      <td>3.083996</td>\n",
       "      <td>3.396962</td>\n",
       "      <td>3.605953</td>\n",
       "      <td>3.887698</td>\n",
       "      <td>4.052684</td>\n",
       "      <td>4.395086</td>\n",
       "      <td>4.562892</td>\n",
       "      <td>4.742398</td>\n",
       "      <td>ADHD</td>\n",
       "    </tr>\n",
       "  </tbody>\n",
       "</table>\n",
       "</div>"
      ],
      "text/plain": [
       "         E1        E2        E3        E4        E5        E6        E7  \\\n",
       "0  0.383660  0.792919  1.212255  1.622604  2.023129  2.393252  2.568957   \n",
       "1  0.367537  0.635953  1.072017  1.259400  1.703897  1.803385  2.219324   \n",
       "2  0.412510  0.915957  1.470684  2.010199  2.551719  3.131206  3.475229   \n",
       "3  0.132565  0.247688  0.447558  0.568343  0.760527  0.934591  1.118297   \n",
       "4  0.250559  0.524315  0.899523  1.181411  1.427477  1.660761  1.903162   \n",
       "\n",
       "         E8        E9       E10       E11       E12       E13       E14  \\\n",
       "0  2.897339  2.944207  3.175924  3.560960  3.898768  4.267560  4.540978   \n",
       "1  2.337071  2.738489  2.858746  3.259902  3.361013  3.729051  3.870780   \n",
       "2  3.812570  4.179211  4.608647  5.223149  5.742592  6.140829  6.580417   \n",
       "3  1.348199  1.420763  1.561058  1.749635  1.925651  2.067738  2.265763   \n",
       "4  2.061360  2.294401  2.438934  2.793944  3.083996  3.396962  3.605953   \n",
       "\n",
       "        E15       E16       E17       E18       E19 Class  \n",
       "0  4.777970  5.199777  5.544439  5.811323  5.977828  ADHD  \n",
       "1  4.183466  4.279278  4.603571  4.706988  5.029907  ADHD  \n",
       "2  6.890656  7.239700  7.564449  8.110252  8.417490  ADHD  \n",
       "3  2.418152  2.536391  2.681950  2.800798  3.032851  ADHD  \n",
       "4  3.887698  4.052684  4.395086  4.562892  4.742398  ADHD  "
      ]
     },
     "execution_count": 123,
     "metadata": {},
     "output_type": "execute_result"
    }
   ],
   "source": [
    "df.head()"
   ]
  },
  {
   "cell_type": "markdown",
   "id": "6176190f",
   "metadata": {},
   "source": [
    "### TOPOPLOT: RESTRICTED FOR SAMPLE ELECTRODE VALUES"
   ]
  },
  {
   "cell_type": "code",
   "execution_count": 87,
   "id": "7be8a950",
   "metadata": {},
   "outputs": [
    {
     "data": {
      "image/png": "[encoded data removed]",
      "text/plain": [
       "<Figure size 864x576 with 3 Axes>"
      ]
     },
     "metadata": {
      "needs_background": "light"
     },
     "output_type": "display_data"
    }
   ],
   "source": [
    "fig,(ax1,ax2) = plt.subplots(ncols=2, figsize=[12,8])\n",
    "\n",
    "\n",
    "im, cm = mne.viz.plot_topomap(df['E2'], df[['E4', 'E19']].values, axes=ax1, names=df['Class'], show_names=False,  contours=0, show=False, cmap='seismic')\n",
    "im, cm = mne.viz.plot_topomap(df['E3'], df[['E1', 'E3']].values, axes=ax2, names=df['Class'], show_names=False,  contours=0, show=False, cmap='seismic')\n",
    "\n",
    "# colorbar\n",
    "ax_x_start = 0.95\n",
    "ax_x_width = 0.02\n",
    "ax_y_start = 0.3\n",
    "ax_y_height = 0.5\n",
    "cbar_ax = fig.add_axes([ax_x_start, ax_y_start, ax_x_width, ax_y_height])\n",
    "clb = fig.colorbar(im, cax=cbar_ax)\n",
    "clb.ax.set_title(\"units\",fontsize=10)\n",
    "\n",
    "plt.show()"
   ]
  },
  {
   "cell_type": "code",
   "execution_count": 128,
   "id": "531bc81b",
   "metadata": {},
   "outputs": [
    {
     "data": {
      "image/png": "[encoded data removed]",
      "text/plain": [
       "<Figure size 864x576 with 3 Axes>"
      ]
     },
     "metadata": {
      "needs_background": "light"
     },
     "output_type": "display_data"
    }
   ],
   "source": [
    "fig,(ax1,ax2) = plt.subplots(ncols=2, figsize=[12,8])\n",
    "\n",
    "\n",
    "im, cm = mne.viz.plot_topomap(df['E5'], df[['E1', 'E2']].values, axes=ax1, names=df['Class'], show_names=False,  contours=0, show=False, cmap='seismic')\n",
    "im, cm = mne.viz.plot_topomap(df['E11'], df[['E4', 'E5']].values, axes=ax2, names=df['Class'], show_names=False,  contours=0, show=False, cmap='seismic')\n",
    "\n",
    "# colorbar\n",
    "ax_x_start = 0.95\n",
    "ax_x_width = 0.02\n",
    "ax_y_start = 0.3\n",
    "ax_y_height = 0.5\n",
    "cbar_ax = fig.add_axes([ax_x_start, ax_y_start, ax_x_width, ax_y_height])\n",
    "clb = fig.colorbar(im, cax=cbar_ax)\n",
    "clb.ax.set_title(\"units\",fontsize=10)\n",
    "\n",
    "plt.show()"
   ]
  },
  {
   "cell_type": "markdown",
   "id": "d82ac8cb",
   "metadata": {},
   "source": [
    "#### HAVING THE 121 X 1 VECTORS FOR EACH CLASS, TESTING THE OTHER ML_ALGORITHMS FOR ACCURACY"
   ]
  },
  {
   "cell_type": "code",
   "execution_count": 220,
   "id": "8cbb37a8",
   "metadata": {},
   "outputs": [],
   "source": [
    "X1=df.iloc[:,0:19]\n",
    "Y1 =df.iloc[:,19:20]"
   ]
  },
  {
   "cell_type": "code",
   "execution_count": 225,
   "id": "6c9d0e80",
   "metadata": {},
   "outputs": [],
   "source": [
    "X_train, X_test, y_train, y_test = train_test_split(X1, Y1, test_size=0.33, random_state=1)"
   ]
  },
  {
   "cell_type": "markdown",
   "id": "d158adbe",
   "metadata": {},
   "source": [
    "### LOGISTIC REGRESSION"
   ]
  },
  {
   "cell_type": "code",
   "execution_count": 96,
   "id": "941773c9",
   "metadata": {
    "scrolled": false
   },
   "outputs": [
    {
     "name": "stdout",
     "output_type": "stream",
     "text": [
      "              precision    recall  f1-score   support\n",
      "\n",
      "        ADHD       0.29      1.00      0.44         4\n",
      "     Healthy       0.00      0.00      0.00        10\n",
      "\n",
      "    accuracy                           0.29        14\n",
      "   macro avg       0.14      0.50      0.22        14\n",
      "weighted avg       0.08      0.29      0.13        14\n",
      "\n",
      "[[ 4  0]\n",
      " [10  0]]\n",
      "accuracy is 0.2857142857142857\n"
     ]
    },
    {
     "name": "stderr",
     "output_type": "stream",
     "text": [
      "D:\\anaconda\\lib\\site-packages\\sklearn\\utils\\validation.py:63: DataConversionWarning: A column-vector y was passed when a 1d array was expected. Please change the shape of y to (n_samples, ), for example using ravel().\n",
      "  return f(*args, **kwargs)\n",
      "D:\\anaconda\\lib\\site-packages\\sklearn\\metrics\\_classification.py:1245: UndefinedMetricWarning: Precision and F-score are ill-defined and being set to 0.0 in labels with no predicted samples. Use `zero_division` parameter to control this behavior.\n",
      "  _warn_prf(average, modifier, msg_start, len(result))\n",
      "D:\\anaconda\\lib\\site-packages\\sklearn\\metrics\\_classification.py:1245: UndefinedMetricWarning: Precision and F-score are ill-defined and being set to 0.0 in labels with no predicted samples. Use `zero_division` parameter to control this behavior.\n",
      "  _warn_prf(average, modifier, msg_start, len(result))\n",
      "D:\\anaconda\\lib\\site-packages\\sklearn\\metrics\\_classification.py:1245: UndefinedMetricWarning: Precision and F-score are ill-defined and being set to 0.0 in labels with no predicted samples. Use `zero_division` parameter to control this behavior.\n",
      "  _warn_prf(average, modifier, msg_start, len(result))\n"
     ]
    }
   ],
   "source": [
    "from sklearn.linear_model import LogisticRegression\n",
    "Model = LogisticRegression()\n",
    "Model.fit(X_train, y_train)\n",
    "\n",
    "y_pred = Model.predict(X_test)\n",
    "\n",
    "# Summary of the predictions made by the classifier\n",
    "print(classification_report(y_test, y_pred))\n",
    "print(confusion_matrix(y_test, y_pred))\n",
    "# Accuracy score\n",
    "print('accuracy is',accuracy_score(y_pred,y_test))"
   ]
  },
  {
   "cell_type": "markdown",
   "id": "0e0fe91b",
   "metadata": {},
   "source": [
    "### KNN (neighbours=8)"
   ]
  },
  {
   "cell_type": "code",
   "execution_count": 97,
   "id": "47c2eca5",
   "metadata": {},
   "outputs": [
    {
     "name": "stdout",
     "output_type": "stream",
     "text": [
      "              precision    recall  f1-score   support\n",
      "\n",
      "        ADHD       0.29      1.00      0.44         4\n",
      "     Healthy       0.00      0.00      0.00        10\n",
      "\n",
      "    accuracy                           0.29        14\n",
      "   macro avg       0.14      0.50      0.22        14\n",
      "weighted avg       0.08      0.29      0.13        14\n",
      "\n",
      "[[ 4  0]\n",
      " [10  0]]\n",
      "accuracy is 0.2857142857142857\n"
     ]
    },
    {
     "name": "stderr",
     "output_type": "stream",
     "text": [
      "D:\\anaconda\\lib\\site-packages\\sklearn\\neighbors\\_classification.py:179: DataConversionWarning: A column-vector y was passed when a 1d array was expected. Please change the shape of y to (n_samples,), for example using ravel().\n",
      "  return self._fit(X, y)\n",
      "D:\\anaconda\\lib\\site-packages\\sklearn\\metrics\\_classification.py:1245: UndefinedMetricWarning: Precision and F-score are ill-defined and being set to 0.0 in labels with no predicted samples. Use `zero_division` parameter to control this behavior.\n",
      "  _warn_prf(average, modifier, msg_start, len(result))\n",
      "D:\\anaconda\\lib\\site-packages\\sklearn\\metrics\\_classification.py:1245: UndefinedMetricWarning: Precision and F-score are ill-defined and being set to 0.0 in labels with no predicted samples. Use `zero_division` parameter to control this behavior.\n",
      "  _warn_prf(average, modifier, msg_start, len(result))\n",
      "D:\\anaconda\\lib\\site-packages\\sklearn\\metrics\\_classification.py:1245: UndefinedMetricWarning: Precision and F-score are ill-defined and being set to 0.0 in labels with no predicted samples. Use `zero_division` parameter to control this behavior.\n",
      "  _warn_prf(average, modifier, msg_start, len(result))\n"
     ]
    }
   ],
   "source": [
    "from sklearn.neighbors import KNeighborsClassifier\n",
    "\n",
    "Model = KNeighborsClassifier(n_neighbors=8)\n",
    "Model.fit(X_train, y_train)\n",
    "\n",
    "y_pred = Model.predict(X_test)\n",
    "\n",
    "# Summary of the predictions made by the classifier\n",
    "print(classification_report(y_test, y_pred))\n",
    "print(confusion_matrix(y_test, y_pred))\n",
    "# Accuracy score\n",
    "\n",
    "print('accuracy is',accuracy_score(y_pred,y_test))"
   ]
  },
  {
   "cell_type": "markdown",
   "id": "ca935515",
   "metadata": {},
   "source": [
    "### NAIVE BAYES"
   ]
  },
  {
   "cell_type": "code",
   "execution_count": 98,
   "id": "6d9b2e1f",
   "metadata": {},
   "outputs": [
    {
     "name": "stdout",
     "output_type": "stream",
     "text": [
      "              precision    recall  f1-score   support\n",
      "\n",
      "        ADHD       0.11      0.25      0.15         4\n",
      "     Healthy       0.40      0.20      0.27        10\n",
      "\n",
      "    accuracy                           0.21        14\n",
      "   macro avg       0.26      0.23      0.21        14\n",
      "weighted avg       0.32      0.21      0.23        14\n",
      "\n",
      "[[1 3]\n",
      " [8 2]]\n",
      "accuracy is 0.21428571428571427\n"
     ]
    },
    {
     "name": "stderr",
     "output_type": "stream",
     "text": [
      "D:\\anaconda\\lib\\site-packages\\sklearn\\utils\\validation.py:63: DataConversionWarning: A column-vector y was passed when a 1d array was expected. Please change the shape of y to (n_samples, ), for example using ravel().\n",
      "  return f(*args, **kwargs)\n"
     ]
    }
   ],
   "source": [
    "# Naive Bayes\n",
    "from sklearn.naive_bayes import GaussianNB\n",
    "Model = GaussianNB()\n",
    "Model.fit(X_train, y_train)\n",
    "\n",
    "y_pred = Model.predict(X_test)\n",
    "\n",
    "# Summary of the predictions made by the classifier\n",
    "print(classification_report(y_test, y_pred))\n",
    "print(confusion_matrix(y_test, y_pred))\n",
    "# Accuracy score\n",
    "print('accuracy is',accuracy_score(y_pred,y_test))"
   ]
  },
  {
   "cell_type": "markdown",
   "id": "3dddc78c",
   "metadata": {},
   "source": [
    "### SUPPORT VECTOR MACHINE"
   ]
  },
  {
   "cell_type": "code",
   "execution_count": 99,
   "id": "31ba1ed7",
   "metadata": {},
   "outputs": [
    {
     "name": "stdout",
     "output_type": "stream",
     "text": [
      "              precision    recall  f1-score   support\n",
      "\n",
      "        ADHD       0.29      1.00      0.44         4\n",
      "     Healthy       0.00      0.00      0.00        10\n",
      "\n",
      "    accuracy                           0.29        14\n",
      "   macro avg       0.14      0.50      0.22        14\n",
      "weighted avg       0.08      0.29      0.13        14\n",
      "\n",
      "[[ 4  0]\n",
      " [10  0]]\n",
      "accuracy is 0.2857142857142857\n"
     ]
    },
    {
     "name": "stderr",
     "output_type": "stream",
     "text": [
      "D:\\anaconda\\lib\\site-packages\\sklearn\\utils\\validation.py:63: DataConversionWarning: A column-vector y was passed when a 1d array was expected. Please change the shape of y to (n_samples, ), for example using ravel().\n",
      "  return f(*args, **kwargs)\n",
      "D:\\anaconda\\lib\\site-packages\\sklearn\\metrics\\_classification.py:1245: UndefinedMetricWarning: Precision and F-score are ill-defined and being set to 0.0 in labels with no predicted samples. Use `zero_division` parameter to control this behavior.\n",
      "  _warn_prf(average, modifier, msg_start, len(result))\n",
      "D:\\anaconda\\lib\\site-packages\\sklearn\\metrics\\_classification.py:1245: UndefinedMetricWarning: Precision and F-score are ill-defined and being set to 0.0 in labels with no predicted samples. Use `zero_division` parameter to control this behavior.\n",
      "  _warn_prf(average, modifier, msg_start, len(result))\n",
      "D:\\anaconda\\lib\\site-packages\\sklearn\\metrics\\_classification.py:1245: UndefinedMetricWarning: Precision and F-score are ill-defined and being set to 0.0 in labels with no predicted samples. Use `zero_division` parameter to control this behavior.\n",
      "  _warn_prf(average, modifier, msg_start, len(result))\n"
     ]
    }
   ],
   "source": [
    "# Support Vector Machine\n",
    "from sklearn.svm import SVC\n",
    "\n",
    "Model = SVC()\n",
    "Model.fit(X_train, y_train)\n",
    "\n",
    "y_pred = Model.predict(X_test)\n",
    "\n",
    "# Summary of the predictions made by the classifier\n",
    "print(classification_report(y_test, y_pred))\n",
    "print(confusion_matrix(y_test, y_pred))\n",
    "# Accuracy score\n",
    "\n",
    "print('accuracy is',accuracy_score(y_pred,y_test))"
   ]
  },
  {
   "cell_type": "markdown",
   "id": "f0e1fb51",
   "metadata": {},
   "source": [
    "### DECISION TREE"
   ]
  },
  {
   "cell_type": "code",
   "execution_count": 100,
   "id": "76732ef9",
   "metadata": {},
   "outputs": [
    {
     "name": "stdout",
     "output_type": "stream",
     "text": [
      "              precision    recall  f1-score   support\n",
      "\n",
      "        ADHD       0.23      0.75      0.35         4\n",
      "     Healthy       0.00      0.00      0.00        10\n",
      "\n",
      "    accuracy                           0.21        14\n",
      "   macro avg       0.12      0.38      0.18        14\n",
      "weighted avg       0.07      0.21      0.10        14\n",
      "\n",
      "[[ 3  1]\n",
      " [10  0]]\n",
      "accuracy is 0.21428571428571427\n"
     ]
    }
   ],
   "source": [
    "# Decision Tree's\n",
    "from sklearn.tree import DecisionTreeClassifier\n",
    "\n",
    "Model = DecisionTreeClassifier()\n",
    "\n",
    "Model.fit(X_train, y_train)\n",
    "\n",
    "y_pred = Model.predict(X_test)\n",
    "\n",
    "# Summary of the predictions made by the classifier\n",
    "print(classification_report(y_test, y_pred))\n",
    "print(confusion_matrix(y_test, y_pred))\n",
    "# Accuracy score\n",
    "print('accuracy is',accuracy_score(y_pred,y_test))"
   ]
  },
  {
   "cell_type": "markdown",
   "id": "db04bc5f",
   "metadata": {},
   "source": [
    "#### SINCE THE ACCURACY OF ANY TRAINED ALGORITHM WAS 0.2XXXX, WE WILL PERFORM PCA, FIND THE BEST-FIT FOR THE MUTUAL INFORMATION DATA WE HAVE FOR EACH CLASS"
   ]
  },
  {
   "cell_type": "code",
   "execution_count": 216,
   "id": "acae9568",
   "metadata": {
    "scrolled": true
   },
   "outputs": [
    {
     "data": {
      "text/plain": [
       "array([[-0.75448457, -0.90424216, -0.61258538, -0.74647864, -0.8406553 ,\n",
       "        -0.95207398, -0.90794542, -0.88981249, -0.72725959, -0.7634378 ,\n",
       "        -0.61153462, -0.60271972, -0.51696423, -0.49518485, -0.37352488,\n",
       "        -0.33669449, -0.35964051, -0.29232515, -0.28295264],\n",
       "       [-0.79315931, -0.90136185, -1.40468685, -1.10304631, -0.85242093,\n",
       "        -0.80460052, -0.66548453, -0.63990857, -0.42267056, -0.43421332,\n",
       "        -0.3606822 , -0.43373282, -0.29981193, -0.29808916, -0.14855763,\n",
       "        -0.1623444 , -0.24609621, -0.25137383, -0.17367692],\n",
       "       [-0.63280052,  0.38142364,  0.57816387,  0.86341406,  1.11379762,\n",
       "         1.19397104,  1.4010581 ,  1.50746793,  1.53797223,  1.60545433,\n",
       "         1.56116531,  1.54052123,  1.46878756,  1.43774726,  1.53801218,\n",
       "         1.55113765,  1.36227147,  1.31781105,  1.33867582],\n",
       "       [ 0.18124849,  0.40889567,  0.65001676,  0.62139423,  0.46873759,\n",
       "         0.41642638,  0.40199248,  0.30094333,  0.36041069,  0.32407529,\n",
       "         0.44705763,  0.51175601,  0.57432718,  0.55875676,  0.60721573,\n",
       "         0.56240138,  0.62550958,  0.58117692,  0.55391322],\n",
       "       [ 0.65867478,  1.59424088,  1.13444406,  1.42122964,  1.33931112,\n",
       "         1.55809149,  1.68087958,  1.82840404,  1.72318852,  1.79705427,\n",
       "         1.56589936,  1.68875747,  1.53821596,  1.70732018,  1.6091777 ,\n",
       "         1.69727952,  1.66182899,  1.69257601,  1.58504596],\n",
       "       [-0.54609904, -0.60576588, -0.77351847, -0.83393029, -0.81834331,\n",
       "        -0.74627149, -0.72567402, -0.53306235, -0.53515433, -0.38301985,\n",
       "        -0.40984558, -0.46515055, -0.48414403, -0.47871946, -0.55811653,\n",
       "        -0.56837415, -0.54534979, -0.51182547, -0.49591458],\n",
       "       [-1.46453457, -1.17758636, -1.23815768, -1.14655856, -1.12172954,\n",
       "        -1.09496274, -1.20710766, -1.20451171, -1.26981668, -1.21218208,\n",
       "        -1.23426937, -1.21514183, -1.22055358, -1.29506925, -1.33983833,\n",
       "        -1.33933221, -1.37948925, -1.36227736, -1.38517505],\n",
       "       [ 0.29952891,  0.2521029 , -0.18097932, -0.45665741, -0.52916854,\n",
       "        -0.31011534, -0.27280059, -0.0840032 , -0.12325155, -0.04415724,\n",
       "        -0.08811455,  0.03475259,  0.02391235,  0.1150545 ,  0.10937525,\n",
       "         0.17446306,  0.09955543,  0.07050602,  0.0926392 ],\n",
       "       [ 0.20273076,  0.08064779,  0.42285601,  0.58434307,  0.53318762,\n",
       "         0.44884444,  0.39748584,  0.31282144,  0.46022813,  0.63483116,\n",
       "         0.8443443 ,  0.85744306,  0.85815193,  0.7806664 ,  0.93627586,\n",
       "         0.99494389,  1.00009447,  0.90803879,  0.99970394],\n",
       "       [ 1.28491576,  0.5982703 ,  1.03425796,  1.11087258,  1.25100068,\n",
       "         1.32543804,  1.27008696,  1.07614422,  1.11074548,  1.02459994,\n",
       "         1.01049488,  0.78651997,  0.83968925,  0.75375615,  0.6359125 ,\n",
       "         0.55143366,  0.54983613,  0.6370597 ,  0.62719871],\n",
       "       [ 0.20028193,  0.15811717,  0.07993549, -0.09046259, -0.16466513,\n",
       "        -0.12768466, -0.12403716, -0.02154695, -0.13831253, -0.20135011,\n",
       "        -0.18228875, -0.21027677, -0.24389151, -0.2946178 , -0.37465866,\n",
       "        -0.40891288, -0.42011955, -0.37668125, -0.36027488],\n",
       "       [ 1.01734941,  0.90903806,  0.65485585,  0.70113656,  0.28433604,\n",
       "         0.10439607, -0.11929032, -0.20070059, -0.25797947, -0.25150779,\n",
       "        -0.26370992, -0.1246832 , -0.09343295, -0.06656666, -0.12373438,\n",
       "        -0.17410816, -0.21279371, -0.24756662, -0.29656391],\n",
       "       [-0.73918349, -0.86698549, -0.82184625, -0.85210276, -0.96936722,\n",
       "        -0.98918066, -1.01572571, -0.94735947, -1.01365014, -1.06884871,\n",
       "        -1.05877422, -1.0748917 , -1.11067516, -1.16298705, -1.12507182,\n",
       "        -1.01999396, -1.05916416, -1.02748998, -1.05154461],\n",
       "       [ 2.328666  ,  2.5552316 ,  2.36775174,  2.33763916,  2.1945648 ,\n",
       "         2.13044425,  1.9746713 ,  1.84191369,  1.64935947,  1.47513615,\n",
       "         1.44617825,  1.54783758,  1.4699111 ,  1.43737659,  1.30383294,\n",
       "         1.3194935 ,  1.40674054,  1.48691516,  1.4268912 ],\n",
       "       [-0.54020769, -0.79278322, -0.88805215, -0.88070002, -1.0408451 ,\n",
       "        -1.08849552, -1.22319784, -1.26898844, -1.32569761, -1.40402003,\n",
       "        -1.34908983, -1.32009823, -1.38474337, -1.30934058, -1.29219471,\n",
       "        -1.24760648, -1.21567283, -1.2648606 , -1.29595352],\n",
       "       [-0.28593367, -0.50763384, -0.38019917, -0.21356216, -0.141214  ,\n",
       "        -0.04120997, -0.15772816, -0.1335813 , -0.2086191 , -0.29393512,\n",
       "        -0.36708183, -0.33826535, -0.30137157, -0.2964093 , -0.32841072,\n",
       "        -0.37622067, -0.31168863, -0.27812276, -0.23040578],\n",
       "       [-0.34881368, -0.77920031, -0.74381709, -0.98147721, -0.86173586,\n",
       "        -1.02197623, -0.91034355, -1.07456302, -1.17278467, -1.26865563,\n",
       "        -1.23046343, -1.25921605, -1.17432713, -1.19006093, -1.09798548,\n",
       "        -1.12717635, -1.09381306, -1.14671955, -1.11288255],\n",
       "       [ 1.41438215,  1.00594761,  1.24628346,  0.82952628,  1.06196273,\n",
       "         0.68586006,  0.9388932 ,  0.73775032,  1.02723511,  0.9155655 ,\n",
       "         1.03608428,  0.82639251,  0.92099493,  0.81807122,  0.87931822,\n",
       "         0.75899116,  0.79374386,  0.69287447,  0.7692223 ],\n",
       "       [-0.17197634, -0.33044215, -0.46375438, -0.48045494, -0.48619198,\n",
       "        -0.41931461, -0.48568862, -0.45647341, -0.47624117, -0.51109686,\n",
       "        -0.56934533, -0.59274125, -0.68589185, -0.71142991, -0.76609102,\n",
       "        -0.77157561, -0.78117777, -0.74374633, -0.80923849],\n",
       "       [ 1.58434739,  1.8454181 ,  1.73105186,  1.79882467,  1.74706768,\n",
       "         1.80018674,  1.53263311,  1.62538118,  1.33613171,  1.36245214,\n",
       "         1.41665822,  1.43717529,  1.48314488,  1.47431892,  1.42625363,\n",
       "         1.55760283,  1.55296417,  1.54891212,  1.4790973 ],\n",
       "       [-1.48223599, -1.33252986, -1.32773335, -1.26219793, -1.31364807,\n",
       "        -1.20380513, -1.23673057, -1.34633201, -1.4876828 , -1.50740677,\n",
       "        -1.5288177 , -1.47174161, -1.53015453, -1.46658311, -1.50721257,\n",
       "        -1.483108  , -1.4710843 , -1.45238621, -1.48483672],\n",
       "       [ 0.26200603,  0.03634586, -0.04350594, -0.1168527 , -0.26084968,\n",
       "        -0.25356209, -0.30771466, -0.24026576, -0.20437076, -0.22044215,\n",
       "        -0.30024206, -0.24919094, -0.24853887, -0.17507761, -0.21306237,\n",
       "        -0.24561292, -0.20818281, -0.21422011, -0.23163394],\n",
       "       [-1.6623828 , -1.59382775, -1.52930253, -1.530861  , -1.40685856,\n",
       "        -1.40437926, -1.21775167, -1.15554784, -1.01268422, -0.86899473,\n",
       "        -1.00739798, -1.08617925, -1.09996923, -1.10982722, -1.07762797,\n",
       "        -1.04620497, -1.09141728, -1.11224306, -1.07960003],\n",
       "       [ 1.45365386,  0.28137895,  1.00644058,  0.7230729 ,  1.14906108,\n",
       "         0.9572039 ,  1.22518765,  1.09291464,  1.40408001,  1.27706679,\n",
       "         1.4819063 ,  1.34678182,  1.57519913,  1.50047284,  1.65947163,\n",
       "         1.5533869 ,  1.65294595,  1.63178184,  1.69374191],\n",
       "       [-0.6409631 ,  0.48855109,  0.10191479,  0.50096979,  0.42869601,\n",
       "         0.72292038,  0.67638609,  0.97272217,  0.9246243 ,  1.10706871,\n",
       "         0.85678834,  1.01692724,  0.84840004,  1.01311456,  0.93598723,\n",
       "         0.98470854,  1.00476374,  1.10498979,  1.11063157],\n",
       "       [-1.01933935, -1.18392631, -0.97825574, -0.95035726, -0.91135456,\n",
       "        -1.00420204, -1.04668032, -1.11352665, -1.13291641, -1.12556378,\n",
       "        -1.18578415, -1.22432341, -1.20040192, -1.2270852 , -1.22466701,\n",
       "        -1.22639011, -1.17602284, -1.15440625, -1.17304238],\n",
       "       [ 0.19432864,  0.38067557,  0.37842184,  0.15327686,  0.14732481,\n",
       "         0.11805145,  0.12462651,  0.01372078, -0.02488403,  0.03552769,\n",
       "         0.08086463,  0.0734879 , -0.00586246, -0.01960729, -0.09007879,\n",
       "        -0.17218673, -0.13854166, -0.23639736, -0.21306514]])"
      ]
     },
     "execution_count": 216,
     "metadata": {},
     "output_type": "execute_result"
    }
   ],
   "source": [
    "from sklearn.preprocessing import StandardScaler\n",
    "scaler = StandardScaler()\n",
    "X=scaler.fit_transform(X_train)\n",
    "X"
   ]
  },
  {
   "cell_type": "markdown",
   "id": "f3122b98",
   "metadata": {},
   "source": [
    "### PERFORMING PCA"
   ]
  },
  {
   "cell_type": "code",
   "execution_count": 130,
   "id": "990f72fb",
   "metadata": {
    "scrolled": true
   },
   "outputs": [
    {
     "data": {
      "text/plain": [
       "array([[-1.00938575e+00, -7.12388860e-02, -1.07645289e+00,\n",
       "         1.14989948e+00, -4.92939606e-01, -6.37333369e-01,\n",
       "        -4.53579322e-01,  8.81571338e-01],\n",
       "       [ 9.18117728e-01, -2.33286825e-01,  4.01173720e-01,\n",
       "         1.64031254e-01, -5.37803529e-01,  7.64429463e-01,\n",
       "         4.33191577e-01, -1.15004054e-01],\n",
       "       [ 4.82989285e-01,  2.09436661e+00, -8.34435328e-01,\n",
       "        -1.44996097e+00,  2.73425783e-02,  1.87142682e-03,\n",
       "         1.01997930e-01,  1.08448881e-01],\n",
       "       [-1.96580229e+00,  6.58597885e-02, -1.15837744e+00,\n",
       "        -2.18270219e+00,  1.04870679e+00, -1.69805312e+00,\n",
       "         3.63385199e-02, -7.41013549e-01],\n",
       "       [-3.61920564e-01, -1.57600776e+00, -1.19023856e+00,\n",
       "        -5.91058670e-01, -1.23335303e-01,  6.88482176e-01,\n",
       "         5.44864464e-01, -9.92393655e-02],\n",
       "       [-9.43614280e-01, -1.09452887e+00, -1.61869065e-01,\n",
       "         5.77124461e-02,  5.73248759e-01, -6.02860073e-01,\n",
       "         3.70998604e-01,  1.18929743e+00],\n",
       "       [ 2.67668129e-01,  1.90063192e+00,  1.08447280e+00,\n",
       "         2.04839012e-01, -1.60314522e-01, -7.09216300e-01,\n",
       "        -7.67072860e-01, -1.05565593e-01],\n",
       "       [-2.62929957e-01,  2.47152370e+00,  1.15826018e+00,\n",
       "         3.33003895e-01, -1.00420227e+00, -3.94289247e-01,\n",
       "         7.50972645e-01, -1.37048678e-01],\n",
       "       [ 2.80688289e+00,  4.24706018e-01, -1.03006360e+00,\n",
       "         5.41009329e-02,  2.92323801e-03,  5.47594615e-01,\n",
       "         8.03466086e-01, -5.73684024e-01],\n",
       "       [ 4.16220243e-01,  8.33570396e-01, -4.47509322e-01,\n",
       "        -2.14307890e+00, -8.05817537e-01,  8.17487226e-01,\n",
       "        -1.14707676e+00,  9.87358846e-01],\n",
       "       [ 1.41153810e+00,  1.63093449e-01, -8.91501831e-01,\n",
       "         9.92222652e-01,  3.37625177e+00,  2.46689046e-01,\n",
       "        -1.05699832e+00,  7.64021086e-02],\n",
       "       [-8.84941467e-02,  4.46004243e-01, -1.42545877e+00,\n",
       "         2.30835290e+00, -2.32738687e-01, -9.86604598e-01,\n",
       "         2.43136157e-01, -6.81142472e-01],\n",
       "       [ 8.91692802e-01, -1.38095527e+00, -8.44115306e-02,\n",
       "         1.17700150e-01, -1.87889846e+00, -5.63801415e-01,\n",
       "        -1.14421696e+00, -8.94143159e-01],\n",
       "       [-1.12232707e+00,  5.74135705e-01,  1.70586714e-02,\n",
       "         9.57943955e-01,  1.06535788e-02,  1.07613958e+00,\n",
       "        -1.04239857e+00,  1.95167186e-01],\n",
       "       [-2.25110510e-01, -6.59700347e-01,  1.59972210e-01,\n",
       "        -5.36861910e-01,  1.86232474e-01, -1.07153949e+00,\n",
       "         1.92331553e+00, -2.30544577e-01],\n",
       "       [-1.16763749e+00, -7.31102864e-01, -1.40391797e-01,\n",
       "         8.19422308e-01, -7.04987561e-01,  1.35405613e-01,\n",
       "        -3.22656467e-01,  3.19025758e-01],\n",
       "       [-2.40200233e+00,  3.96339502e-01,  1.49652701e+00,\n",
       "         3.22434719e-01,  9.97366606e-01,  2.17087071e+00,\n",
       "         6.00677951e-01, -8.02618268e-01],\n",
       "       [ 3.72970970e-01, -1.53169949e+00,  2.10191099e+00,\n",
       "        -7.66617077e-01,  3.46305482e-01, -6.16908205e-01,\n",
       "        -1.70435157e+00, -6.85930698e-01],\n",
       "       [-1.78854481e-01, -4.94143477e-01, -3.76317986e-01,\n",
       "         5.60818485e-01, -1.26828011e+00,  4.38006658e-01,\n",
       "         1.22291624e-01,  2.35603927e-01],\n",
       "       [ 1.25911174e+00, -5.13602933e-01,  2.40467249e+00,\n",
       "         3.87776760e-01,  6.40824961e-01, -1.21368054e+00,\n",
       "         8.97307999e-01,  9.39131855e-01],\n",
       "       [ 9.00886986e-01, -1.08396461e+00, -7.01995180e-03,\n",
       "        -7.59979225e-01, -5.38650507e-04,  1.60730984e+00,\n",
       "         8.09791744e-01,  1.33927111e-01]])"
      ]
     },
     "execution_count": 130,
     "metadata": {},
     "output_type": "execute_result"
    }
   ],
   "source": [
    "from sklearn.decomposition import PCA\n",
    "pca = PCA()\n",
    "pca.fit_transform(X)"
   ]
  },
  {
   "cell_type": "markdown",
   "id": "ab842073",
   "metadata": {},
   "source": [
    "#### COVARIENCE- OBTAINED DURING PCA"
   ]
  },
  {
   "cell_type": "code",
   "execution_count": 103,
   "id": "a9bb9e8c",
   "metadata": {},
   "outputs": [
    {
     "data": {
      "text/plain": [
       "array([[1.03846154, 0.92319716, 0.956746  , 0.8981323 , 0.88962242,\n",
       "        0.84867986, 0.83010808, 0.78820049, 0.7814047 , 0.74003956,\n",
       "        0.76747808, 0.76055257, 0.77853575, 0.76537162, 0.74588117,\n",
       "        0.73032847, 0.75167404, 0.74862503, 0.74133286],\n",
       "       [0.92319716, 1.03846154, 0.9976081 , 0.99764997, 0.96568369,\n",
       "        0.96479731, 0.93899297, 0.93317445, 0.89775184, 0.8817917 ,\n",
       "        0.87735137, 0.89776938, 0.88478408, 0.8892685 , 0.85696817,\n",
       "        0.8568284 , 0.86533807, 0.86677771, 0.8507081 ],\n",
       "       [0.956746  , 0.9976081 , 1.03846154, 1.01942531, 1.00884409,\n",
       "        0.98601256, 0.97081015, 0.94372069, 0.92730016, 0.90270121,\n",
       "        0.9167187 , 0.92085882, 0.92116287, 0.91264516, 0.89112877,\n",
       "        0.88318975, 0.8970792 , 0.8954849 , 0.88463238],\n",
       "       [0.8981323 , 0.99764997, 1.01942531, 1.03846154, 1.02432364,\n",
       "        1.01803856, 0.99613885, 0.97937696, 0.95665742, 0.9400828 ,\n",
       "        0.94367851, 0.95447262, 0.94767523, 0.94433664, 0.92071744,\n",
       "        0.91805077, 0.92759737, 0.92996708, 0.91690995],\n",
       "       [0.88962242, 0.96568369, 1.00884409, 1.02432364, 1.03846154,\n",
       "        1.02868836, 1.02335715, 1.00275471, 0.99319904, 0.97465922,\n",
       "        0.98223727, 0.98147583, 0.98153659, 0.97317294, 0.9564059 ,\n",
       "        0.94971917, 0.95863338, 0.95963917, 0.95146535],\n",
       "       [0.84867986, 0.96479731, 0.98601256, 1.01803856, 1.02868836,\n",
       "        1.03846154, 1.02935657, 1.02194543, 1.00344482, 0.99143238,\n",
       "        0.9884478 , 0.99378471, 0.98645262, 0.98412827, 0.96192546,\n",
       "        0.95963461, 0.96570071, 0.97060509, 0.96028311],\n",
       "       [0.83010808, 0.93899297, 0.97081015, 0.99613885, 1.02335715,\n",
       "        1.02935657, 1.03846154, 1.03032085, 1.02502568, 1.01322146,\n",
       "        1.01211335, 1.01120528, 1.00731614, 1.00374534, 0.98796175,\n",
       "        0.98299316, 0.98738897, 0.99011796, 0.98338992],\n",
       "       [0.78820049, 0.93317445, 0.94372069, 0.97937696, 1.00275471,\n",
       "        1.02194543, 1.03032085, 1.03846154, 1.02874406, 1.02441371,\n",
       "        1.01511212, 1.0196778 , 1.01039229, 1.01205473, 0.99395974,\n",
       "        0.99357941, 0.99468777, 0.99999304, 0.99228115],\n",
       "       [0.7814047 , 0.89775184, 0.92730016, 0.95665742, 0.99319904,\n",
       "        1.00344482, 1.02502568, 1.02874406, 1.03846154, 1.03399583,\n",
       "        1.03171413, 1.02887653, 1.02648566, 1.02497596, 1.01520627,\n",
       "        1.01061412, 1.01164258, 1.01441559, 1.01139918],\n",
       "       [0.74003956, 0.8817917 , 0.90270121, 0.9400828 , 0.97465922,\n",
       "        0.99143238, 1.01322146, 1.02441371, 1.03399583, 1.03846154,\n",
       "        1.03241091, 1.03229903, 1.02640541, 1.02726841, 1.01725194,\n",
       "        1.01514881, 1.01383367, 1.0161415 , 1.01352671],\n",
       "       [0.76747808, 0.87735137, 0.9167187 , 0.94367851, 0.98223727,\n",
       "        0.9884478 , 1.01211335, 1.01511212, 1.03171413, 1.03241091,\n",
       "        1.03846154, 1.03404551, 1.03481617, 1.03090123, 1.02694133,\n",
       "        1.0228203 , 1.02290367, 1.02229028, 1.0221726 ],\n",
       "       [0.76055257, 0.89776938, 0.92085882, 0.95447262, 0.98147583,\n",
       "        0.99378471, 1.01120528, 1.0196778 , 1.02887653, 1.03229903,\n",
       "        1.03404551, 1.03846154, 1.03474345, 1.03549816, 1.02902689,\n",
       "        1.02798123, 1.0277398 , 1.02793463, 1.02559318],\n",
       "       [0.77853575, 0.88478408, 0.92116287, 0.94767523, 0.98153659,\n",
       "        0.98645262, 1.00731614, 1.01039229, 1.02648566, 1.02640541,\n",
       "        1.03481617, 1.03474345, 1.03846154, 1.03605618, 1.03411402,\n",
       "        1.03053556, 1.03140531, 1.03035172, 1.03015903],\n",
       "       [0.76537162, 0.8892685 , 0.91264516, 0.94433664, 0.97317294,\n",
       "        0.98412827, 1.00374534, 1.01205473, 1.02497596, 1.02726841,\n",
       "        1.03090123, 1.03549816, 1.03605618, 1.03846154, 1.0347354 ,\n",
       "        1.03307253, 1.03355529, 1.03341607, 1.03188302],\n",
       "       [0.74588117, 0.85696817, 0.89112877, 0.92071744, 0.9564059 ,\n",
       "        0.96192546, 0.98796175, 0.99395974, 1.01520627, 1.01725194,\n",
       "        1.02694133, 1.02902689, 1.03411402, 1.0347354 , 1.03846154,\n",
       "        1.03651356, 1.03610174, 1.03360657, 1.03481049],\n",
       "       [0.73032847, 0.8568284 , 0.88318975, 0.91805077, 0.94971917,\n",
       "        0.95963461, 0.98299316, 0.99357941, 1.01061412, 1.01514881,\n",
       "        1.0228203 , 1.02798123, 1.03053556, 1.03307253, 1.03651356,\n",
       "        1.03846154, 1.03668858, 1.03499269, 1.03493456],\n",
       "       [0.75167404, 0.86533807, 0.8970792 , 0.92759737, 0.95863338,\n",
       "        0.96570071, 0.98738897, 0.99468777, 1.01164258, 1.01383367,\n",
       "        1.02290367, 1.0277398 , 1.03140531, 1.03355529, 1.03610174,\n",
       "        1.03668858, 1.03846154, 1.03696897, 1.03688749],\n",
       "       [0.74862503, 0.86677771, 0.8954849 , 0.92996708, 0.95963917,\n",
       "        0.97060509, 0.99011796, 0.99999304, 1.01441559, 1.0161415 ,\n",
       "        1.02229028, 1.02793463, 1.03035172, 1.03341607, 1.03360657,\n",
       "        1.03499269, 1.03696897, 1.03846154, 1.03726827],\n",
       "       [0.74133286, 0.8507081 , 0.88463238, 0.91690995, 0.95146535,\n",
       "        0.96028311, 0.98338992, 0.99228115, 1.01139918, 1.01352671,\n",
       "        1.0221726 , 1.02559318, 1.03015903, 1.03188302, 1.03481049,\n",
       "        1.03493456, 1.03688749, 1.03726827, 1.03846154]])"
      ]
     },
     "execution_count": 103,
     "metadata": {},
     "output_type": "execute_result"
    }
   ],
   "source": [
    "pca.get_covariance()\n"
   ]
  },
  {
   "cell_type": "markdown",
   "id": "acaaa055",
   "metadata": {},
   "source": [
    "#### EXPERIENCED COVARIENCE- OBTAINED DURING PCA"
   ]
  },
  {
   "cell_type": "code",
   "execution_count": 104,
   "id": "0df4e985",
   "metadata": {},
   "outputs": [
    {
     "data": {
      "text/plain": [
       "array([9.36108104e-01, 4.48119309e-02, 9.35856834e-03, 4.19800222e-03,\n",
       "       2.79421780e-03, 1.19868143e-03, 4.65722075e-04, 3.65832061e-04,\n",
       "       2.08355512e-04, 1.48174788e-04, 1.15650834e-04, 7.60019784e-05,\n",
       "       5.59646548e-05, 2.59746863e-05, 2.31714739e-05, 1.94548913e-05,\n",
       "       1.63713196e-05, 7.71650394e-06, 2.10471898e-06])"
      ]
     },
     "execution_count": 104,
     "metadata": {},
     "output_type": "execute_result"
    }
   ],
   "source": [
    "explained_variance=pca.explained_variance_ratio_\n",
    "explained_variance"
   ]
  },
  {
   "cell_type": "code",
   "execution_count": 108,
   "id": "91852fc1",
   "metadata": {},
   "outputs": [
    {
     "data": {
      "image/png": "[encoded data removed]",
      "text/plain": [
       "<Figure size 720x720 with 1 Axes>"
      ]
     },
     "metadata": {
      "needs_background": "light"
     },
     "output_type": "display_data"
    }
   ],
   "source": [
    "sc_x=StandardScaler()\n",
    "x = sc_x.fit_transform(X_train)\n",
    "\n",
    "pca=PCA()\n",
    "x_pca = pca.fit_transform(x)\n",
    "plt.figure(figsize=(10,10))\n",
    "plt.plot(np.cumsum(pca.explained_variance_ratio_), 'ro-')\n",
    "plt.grid()"
   ]
  },
  {
   "cell_type": "code",
   "execution_count": 214,
   "id": "ec697190",
   "metadata": {},
   "outputs": [],
   "source": [
    "def classifier(model):\n",
    "    model.fit(X_train,y_train)\n",
    "    y_pred=model.predict(X_test)\n",
    "    score=accuracy_score(y_pred,y_test)\n",
    "    print(classification_report(y_test, y_pred))\n",
    "    print(confusion_matrix(y_test, y_pred))\n",
    "    return score*100"
   ]
  },
  {
   "cell_type": "markdown",
   "id": "18ce7ce6",
   "metadata": {},
   "source": [
    "### PCA WITH N=3"
   ]
  },
  {
   "cell_type": "code",
   "execution_count": 217,
   "id": "f3bc0b20",
   "metadata": {},
   "outputs": [
    {
     "data": {
      "text/plain": [
       "array([[-2.73439345, -0.6817769 ,  0.55412668],\n",
       "       [-2.35290617, -1.38296748,  0.48966547],\n",
       "       [ 5.29634012, -1.94988069, -0.84235496],\n",
       "       [ 2.10888774, -0.11933034,  0.09735745],\n",
       "       [ 6.80011428, -0.65206416, -0.423471  ],\n",
       "       [-2.52150053, -0.43130413,  0.16127729],\n",
       "       [-5.47289856, -0.11210716, -0.50668255],\n",
       "       [-0.20256008, -0.17047619,  0.68733137],\n",
       "       [ 2.8394345 , -0.90161063,  0.47847683],\n",
       "       [ 3.99511058,  0.75255741, -0.37760129],\n",
       "       [-0.78055819,  0.66766405, -0.13478762],\n",
       "       [ 0.21733877,  1.74059892,  0.24596113],\n",
       "       [-4.36537159,  0.27229845, -0.07467999],\n",
       "       [ 7.67610365,  1.96725503, -0.30733079],\n",
       "       [-5.11142291,  0.75885648,  0.09725832],\n",
       "       [-1.18447241, -0.05006678, -0.2340407 ],\n",
       "       [-4.52883566,  0.70088185,  0.18666643],\n",
       "       [ 3.95328527,  0.68363036,  0.3737323 ],\n",
       "       [-2.47662365,  0.54068773, -0.21974414],\n",
       "       [ 6.80575349,  0.70515241, -0.03601899],\n",
       "       [-6.16531355,  0.02659895, -0.4395358 ],\n",
       "       [-0.81175754,  0.42308918,  0.27383046],\n",
       "       [-5.26090495, -1.11552252, -0.14788733],\n",
       "       [ 5.67120596, -0.85633625,  1.05956251],\n",
       "       [ 3.31709116, -1.56725229, -0.48488684],\n",
       "       [-4.87837747,  0.13026281, -0.25814563],\n",
       "       [ 0.16723118,  0.62116185, -0.21807858]])"
      ]
     },
     "execution_count": 217,
     "metadata": {},
     "output_type": "execute_result"
    }
   ],
   "source": [
    "pca=PCA(n_components=3)\n",
    "X_new=pca.fit_transform(X)\n",
    "X_new"
   ]
  },
  {
   "cell_type": "code",
   "execution_count": 218,
   "id": "14526729",
   "metadata": {},
   "outputs": [],
   "source": [
    "X_train, X_test, y_train, y_test = train_test_split(X_new,y_train, test_size = 0.2, random_state = 1)\n"
   ]
  },
  {
   "cell_type": "code",
   "execution_count": 219,
   "id": "bc2d4bd0",
   "metadata": {
    "scrolled": false
   },
   "outputs": [
    {
     "name": "stderr",
     "output_type": "stream",
     "text": [
      "D:\\anaconda\\lib\\site-packages\\sklearn\\utils\\validation.py:63: DataConversionWarning: A column-vector y was passed when a 1d array was expected. Please change the shape of y to (n_samples, ), for example using ravel().\n",
      "  return f(*args, **kwargs)\n",
      "D:\\anaconda\\lib\\site-packages\\sklearn\\metrics\\_classification.py:1245: UndefinedMetricWarning: Recall and F-score are ill-defined and being set to 0.0 in labels with no true samples. Use `zero_division` parameter to control this behavior.\n",
      "  _warn_prf(average, modifier, msg_start, len(result))\n",
      "D:\\anaconda\\lib\\site-packages\\sklearn\\metrics\\_classification.py:1245: UndefinedMetricWarning: Recall and F-score are ill-defined and being set to 0.0 in labels with no true samples. Use `zero_division` parameter to control this behavior.\n",
      "  _warn_prf(average, modifier, msg_start, len(result))\n",
      "D:\\anaconda\\lib\\site-packages\\sklearn\\metrics\\_classification.py:1245: UndefinedMetricWarning: Recall and F-score are ill-defined and being set to 0.0 in labels with no true samples. Use `zero_division` parameter to control this behavior.\n",
      "  _warn_prf(average, modifier, msg_start, len(result))\n",
      "D:\\anaconda\\lib\\site-packages\\sklearn\\neighbors\\_classification.py:179: DataConversionWarning: A column-vector y was passed when a 1d array was expected. Please change the shape of y to (n_samples,), for example using ravel().\n",
      "  return self._fit(X, y)\n",
      "D:\\anaconda\\lib\\site-packages\\sklearn\\metrics\\_classification.py:1245: UndefinedMetricWarning: Recall and F-score are ill-defined and being set to 0.0 in labels with no true samples. Use `zero_division` parameter to control this behavior.\n",
      "  _warn_prf(average, modifier, msg_start, len(result))\n",
      "D:\\anaconda\\lib\\site-packages\\sklearn\\metrics\\_classification.py:1245: UndefinedMetricWarning: Recall and F-score are ill-defined and being set to 0.0 in labels with no true samples. Use `zero_division` parameter to control this behavior.\n",
      "  _warn_prf(average, modifier, msg_start, len(result))\n",
      "D:\\anaconda\\lib\\site-packages\\sklearn\\metrics\\_classification.py:1245: UndefinedMetricWarning: Recall and F-score are ill-defined and being set to 0.0 in labels with no true samples. Use `zero_division` parameter to control this behavior.\n",
      "  _warn_prf(average, modifier, msg_start, len(result))\n",
      "<ipython-input-214-b7eca28afbaf>:2: DataConversionWarning: A column-vector y was passed when a 1d array was expected. Please change the shape of y to (n_samples,), for example using ravel().\n",
      "  model.fit(X_train,y_train)\n"
     ]
    },
    {
     "name": "stdout",
     "output_type": "stream",
     "text": [
      "              precision    recall  f1-score   support\n",
      "\n",
      "        ADHD       1.00      0.83      0.91         6\n",
      "     Healthy       0.00      0.00      0.00         0\n",
      "\n",
      "    accuracy                           0.83         6\n",
      "   macro avg       0.50      0.42      0.45         6\n",
      "weighted avg       1.00      0.83      0.91         6\n",
      "\n",
      "[[5 1]\n",
      " [0 0]]\n",
      "LOGISTIC REGRESSION : 83.33333333333334\n",
      "              precision    recall  f1-score   support\n",
      "\n",
      "        ADHD       1.00      0.67      0.80         6\n",
      "     Healthy       0.00      0.00      0.00         0\n",
      "\n",
      "    accuracy                           0.67         6\n",
      "   macro avg       0.50      0.33      0.40         6\n",
      "weighted avg       1.00      0.67      0.80         6\n",
      "\n",
      "[[4 2]\n",
      " [0 0]]\n",
      "KNN (N=4): 66.66666666666666\n",
      "              precision    recall  f1-score   support\n",
      "\n",
      "        ADHD       1.00      0.33      0.50         6\n",
      "     Healthy       0.00      0.00      0.00         0\n",
      "\n",
      "    accuracy                           0.33         6\n",
      "   macro avg       0.50      0.17      0.25         6\n",
      "weighted avg       1.00      0.33      0.50         6\n",
      "\n",
      "[[2 4]\n",
      " [0 0]]\n",
      "RANDOM FOREST (100) : 33.33333333333333\n",
      "              precision    recall  f1-score   support\n",
      "\n",
      "        ADHD       1.00      0.67      0.80         6\n",
      "     Healthy       0.00      0.00      0.00         0\n",
      "\n",
      "    accuracy                           0.67         6\n",
      "   macro avg       0.50      0.33      0.40         6\n",
      "weighted avg       1.00      0.67      0.80         6\n",
      "\n",
      "[[4 2]\n",
      " [0 0]]\n",
      "NAIVE BAYES : 66.66666666666666\n",
      "              precision    recall  f1-score   support\n",
      "\n",
      "        ADHD       1.00      0.33      0.50         6\n",
      "     Healthy       0.00      0.00      0.00         0\n",
      "\n",
      "    accuracy                           0.33         6\n",
      "   macro avg       0.50      0.17      0.25         6\n",
      "weighted avg       1.00      0.33      0.50         6\n",
      "\n",
      "[[2 4]\n",
      " [0 0]]\n",
      "SVC : 33.33333333333333\n"
     ]
    },
    {
     "name": "stderr",
     "output_type": "stream",
     "text": [
      "D:\\anaconda\\lib\\site-packages\\sklearn\\metrics\\_classification.py:1245: UndefinedMetricWarning: Recall and F-score are ill-defined and being set to 0.0 in labels with no true samples. Use `zero_division` parameter to control this behavior.\n",
      "  _warn_prf(average, modifier, msg_start, len(result))\n",
      "D:\\anaconda\\lib\\site-packages\\sklearn\\metrics\\_classification.py:1245: UndefinedMetricWarning: Recall and F-score are ill-defined and being set to 0.0 in labels with no true samples. Use `zero_division` parameter to control this behavior.\n",
      "  _warn_prf(average, modifier, msg_start, len(result))\n",
      "D:\\anaconda\\lib\\site-packages\\sklearn\\metrics\\_classification.py:1245: UndefinedMetricWarning: Recall and F-score are ill-defined and being set to 0.0 in labels with no true samples. Use `zero_division` parameter to control this behavior.\n",
      "  _warn_prf(average, modifier, msg_start, len(result))\n",
      "D:\\anaconda\\lib\\site-packages\\sklearn\\utils\\validation.py:63: DataConversionWarning: A column-vector y was passed when a 1d array was expected. Please change the shape of y to (n_samples, ), for example using ravel().\n",
      "  return f(*args, **kwargs)\n",
      "D:\\anaconda\\lib\\site-packages\\sklearn\\metrics\\_classification.py:1245: UndefinedMetricWarning: Recall and F-score are ill-defined and being set to 0.0 in labels with no true samples. Use `zero_division` parameter to control this behavior.\n",
      "  _warn_prf(average, modifier, msg_start, len(result))\n",
      "D:\\anaconda\\lib\\site-packages\\sklearn\\metrics\\_classification.py:1245: UndefinedMetricWarning: Recall and F-score are ill-defined and being set to 0.0 in labels with no true samples. Use `zero_division` parameter to control this behavior.\n",
      "  _warn_prf(average, modifier, msg_start, len(result))\n",
      "D:\\anaconda\\lib\\site-packages\\sklearn\\metrics\\_classification.py:1245: UndefinedMetricWarning: Recall and F-score are ill-defined and being set to 0.0 in labels with no true samples. Use `zero_division` parameter to control this behavior.\n",
      "  _warn_prf(average, modifier, msg_start, len(result))\n",
      "D:\\anaconda\\lib\\site-packages\\sklearn\\utils\\validation.py:63: DataConversionWarning: A column-vector y was passed when a 1d array was expected. Please change the shape of y to (n_samples, ), for example using ravel().\n",
      "  return f(*args, **kwargs)\n",
      "D:\\anaconda\\lib\\site-packages\\sklearn\\metrics\\_classification.py:1245: UndefinedMetricWarning: Recall and F-score are ill-defined and being set to 0.0 in labels with no true samples. Use `zero_division` parameter to control this behavior.\n",
      "  _warn_prf(average, modifier, msg_start, len(result))\n",
      "D:\\anaconda\\lib\\site-packages\\sklearn\\metrics\\_classification.py:1245: UndefinedMetricWarning: Recall and F-score are ill-defined and being set to 0.0 in labels with no true samples. Use `zero_division` parameter to control this behavior.\n",
      "  _warn_prf(average, modifier, msg_start, len(result))\n",
      "D:\\anaconda\\lib\\site-packages\\sklearn\\metrics\\_classification.py:1245: UndefinedMetricWarning: Recall and F-score are ill-defined and being set to 0.0 in labels with no true samples. Use `zero_division` parameter to control this behavior.\n",
      "  _warn_prf(average, modifier, msg_start, len(result))\n"
     ]
    }
   ],
   "source": [
    "print(\"LOGISTIC REGRESSION :\",classifier(LogisticRegression()))\n",
    "print(\"KNN (N=4):\",classifier(KNeighborsClassifier(n_neighbors=4))) \n",
    "print(\"RANDOM FOREST (100) :\",classifier(RandomForestClassifier(n_estimators=100)))\n",
    "print(\"NAIVE BAYES :\",classifier(GaussianNB()))\n",
    "print(\"SVC :\",classifier(SVC()))\n",
    "\n",
    "\n"
   ]
  },
  {
   "cell_type": "markdown",
   "id": "3fcc52ac",
   "metadata": {},
   "source": [
    "### PCA WITH N=4"
   ]
  },
  {
   "cell_type": "code",
   "execution_count": 222,
   "id": "b2aed120",
   "metadata": {},
   "outputs": [],
   "source": [
    "pca_new = PCA(n_components=5)\n",
    "x_new = pca_new.fit_transform(X_train)"
   ]
  },
  {
   "cell_type": "code",
   "execution_count": 223,
   "id": "bfd625f9",
   "metadata": {},
   "outputs": [],
   "source": [
    "X_train, X_test, y_train, y_test = train_test_split(x_new,y_train, test_size = 0.2, random_state = 1)\n"
   ]
  },
  {
   "cell_type": "code",
   "execution_count": 224,
   "id": "9cdd22b1",
   "metadata": {
    "scrolled": false
   },
   "outputs": [
    {
     "name": "stderr",
     "output_type": "stream",
     "text": [
      "D:\\anaconda\\lib\\site-packages\\sklearn\\utils\\validation.py:63: DataConversionWarning: A column-vector y was passed when a 1d array was expected. Please change the shape of y to (n_samples, ), for example using ravel().\n",
      "  return f(*args, **kwargs)\n",
      "D:\\anaconda\\lib\\site-packages\\sklearn\\metrics\\_classification.py:1245: UndefinedMetricWarning: Recall and F-score are ill-defined and being set to 0.0 in labels with no true samples. Use `zero_division` parameter to control this behavior.\n",
      "  _warn_prf(average, modifier, msg_start, len(result))\n",
      "D:\\anaconda\\lib\\site-packages\\sklearn\\metrics\\_classification.py:1245: UndefinedMetricWarning: Recall and F-score are ill-defined and being set to 0.0 in labels with no true samples. Use `zero_division` parameter to control this behavior.\n",
      "  _warn_prf(average, modifier, msg_start, len(result))\n",
      "D:\\anaconda\\lib\\site-packages\\sklearn\\metrics\\_classification.py:1245: UndefinedMetricWarning: Recall and F-score are ill-defined and being set to 0.0 in labels with no true samples. Use `zero_division` parameter to control this behavior.\n",
      "  _warn_prf(average, modifier, msg_start, len(result))\n",
      "D:\\anaconda\\lib\\site-packages\\sklearn\\neighbors\\_classification.py:179: DataConversionWarning: A column-vector y was passed when a 1d array was expected. Please change the shape of y to (n_samples,), for example using ravel().\n",
      "  return self._fit(X, y)\n",
      "D:\\anaconda\\lib\\site-packages\\sklearn\\metrics\\_classification.py:1245: UndefinedMetricWarning: Recall and F-score are ill-defined and being set to 0.0 in labels with no true samples. Use `zero_division` parameter to control this behavior.\n",
      "  _warn_prf(average, modifier, msg_start, len(result))\n",
      "D:\\anaconda\\lib\\site-packages\\sklearn\\metrics\\_classification.py:1245: UndefinedMetricWarning: Recall and F-score are ill-defined and being set to 0.0 in labels with no true samples. Use `zero_division` parameter to control this behavior.\n",
      "  _warn_prf(average, modifier, msg_start, len(result))\n",
      "D:\\anaconda\\lib\\site-packages\\sklearn\\metrics\\_classification.py:1245: UndefinedMetricWarning: Recall and F-score are ill-defined and being set to 0.0 in labels with no true samples. Use `zero_division` parameter to control this behavior.\n",
      "  _warn_prf(average, modifier, msg_start, len(result))\n",
      "<ipython-input-214-b7eca28afbaf>:2: DataConversionWarning: A column-vector y was passed when a 1d array was expected. Please change the shape of y to (n_samples,), for example using ravel().\n",
      "  model.fit(X_train,y_train)\n"
     ]
    },
    {
     "name": "stdout",
     "output_type": "stream",
     "text": [
      "              precision    recall  f1-score   support\n",
      "\n",
      "        ADHD       1.00      0.83      0.91         6\n",
      "     Healthy       0.00      0.00      0.00         0\n",
      "\n",
      "    accuracy                           0.83         6\n",
      "   macro avg       0.50      0.42      0.45         6\n",
      "weighted avg       1.00      0.83      0.91         6\n",
      "\n",
      "[[5 1]\n",
      " [0 0]]\n",
      "LOGISTIC REGRESSION : 83.33333333333334\n",
      "              precision    recall  f1-score   support\n",
      "\n",
      "        ADHD       1.00      0.67      0.80         6\n",
      "     Healthy       0.00      0.00      0.00         0\n",
      "\n",
      "    accuracy                           0.67         6\n",
      "   macro avg       0.50      0.33      0.40         6\n",
      "weighted avg       1.00      0.67      0.80         6\n",
      "\n",
      "[[4 2]\n",
      " [0 0]]\n",
      "KNN (N=4): 66.66666666666666\n",
      "              precision    recall  f1-score   support\n",
      "\n",
      "        ADHD       1.00      0.17      0.29         6\n",
      "     Healthy       0.00      0.00      0.00         0\n",
      "\n",
      "    accuracy                           0.17         6\n",
      "   macro avg       0.50      0.08      0.14         6\n",
      "weighted avg       1.00      0.17      0.29         6\n",
      "\n",
      "[[1 5]\n",
      " [0 0]]\n",
      "RANDOM FOREST (100) : 16.666666666666664\n",
      "              precision    recall  f1-score   support\n",
      "\n",
      "        ADHD       1.00      0.33      0.50         6\n",
      "     Healthy       0.00      0.00      0.00         0\n",
      "\n",
      "    accuracy                           0.33         6\n",
      "   macro avg       0.50      0.17      0.25         6\n",
      "weighted avg       1.00      0.33      0.50         6\n",
      "\n",
      "[[2 4]\n",
      " [0 0]]\n",
      "NAIVE BAYES : 33.33333333333333\n",
      "              precision    recall  f1-score   support\n",
      "\n",
      "        ADHD       1.00      0.67      0.80         6\n",
      "     Healthy       0.00      0.00      0.00         0\n",
      "\n",
      "    accuracy                           0.67         6\n",
      "   macro avg       0.50      0.33      0.40         6\n",
      "weighted avg       1.00      0.67      0.80         6\n",
      "\n",
      "[[4 2]\n",
      " [0 0]]\n",
      "SVC : 66.66666666666666\n"
     ]
    },
    {
     "name": "stderr",
     "output_type": "stream",
     "text": [
      "D:\\anaconda\\lib\\site-packages\\sklearn\\metrics\\_classification.py:1245: UndefinedMetricWarning: Recall and F-score are ill-defined and being set to 0.0 in labels with no true samples. Use `zero_division` parameter to control this behavior.\n",
      "  _warn_prf(average, modifier, msg_start, len(result))\n",
      "D:\\anaconda\\lib\\site-packages\\sklearn\\metrics\\_classification.py:1245: UndefinedMetricWarning: Recall and F-score are ill-defined and being set to 0.0 in labels with no true samples. Use `zero_division` parameter to control this behavior.\n",
      "  _warn_prf(average, modifier, msg_start, len(result))\n",
      "D:\\anaconda\\lib\\site-packages\\sklearn\\metrics\\_classification.py:1245: UndefinedMetricWarning: Recall and F-score are ill-defined and being set to 0.0 in labels with no true samples. Use `zero_division` parameter to control this behavior.\n",
      "  _warn_prf(average, modifier, msg_start, len(result))\n",
      "D:\\anaconda\\lib\\site-packages\\sklearn\\utils\\validation.py:63: DataConversionWarning: A column-vector y was passed when a 1d array was expected. Please change the shape of y to (n_samples, ), for example using ravel().\n",
      "  return f(*args, **kwargs)\n",
      "D:\\anaconda\\lib\\site-packages\\sklearn\\metrics\\_classification.py:1245: UndefinedMetricWarning: Recall and F-score are ill-defined and being set to 0.0 in labels with no true samples. Use `zero_division` parameter to control this behavior.\n",
      "  _warn_prf(average, modifier, msg_start, len(result))\n",
      "D:\\anaconda\\lib\\site-packages\\sklearn\\metrics\\_classification.py:1245: UndefinedMetricWarning: Recall and F-score are ill-defined and being set to 0.0 in labels with no true samples. Use `zero_division` parameter to control this behavior.\n",
      "  _warn_prf(average, modifier, msg_start, len(result))\n",
      "D:\\anaconda\\lib\\site-packages\\sklearn\\metrics\\_classification.py:1245: UndefinedMetricWarning: Recall and F-score are ill-defined and being set to 0.0 in labels with no true samples. Use `zero_division` parameter to control this behavior.\n",
      "  _warn_prf(average, modifier, msg_start, len(result))\n",
      "D:\\anaconda\\lib\\site-packages\\sklearn\\utils\\validation.py:63: DataConversionWarning: A column-vector y was passed when a 1d array was expected. Please change the shape of y to (n_samples, ), for example using ravel().\n",
      "  return f(*args, **kwargs)\n",
      "D:\\anaconda\\lib\\site-packages\\sklearn\\metrics\\_classification.py:1245: UndefinedMetricWarning: Recall and F-score are ill-defined and being set to 0.0 in labels with no true samples. Use `zero_division` parameter to control this behavior.\n",
      "  _warn_prf(average, modifier, msg_start, len(result))\n",
      "D:\\anaconda\\lib\\site-packages\\sklearn\\metrics\\_classification.py:1245: UndefinedMetricWarning: Recall and F-score are ill-defined and being set to 0.0 in labels with no true samples. Use `zero_division` parameter to control this behavior.\n",
      "  _warn_prf(average, modifier, msg_start, len(result))\n",
      "D:\\anaconda\\lib\\site-packages\\sklearn\\metrics\\_classification.py:1245: UndefinedMetricWarning: Recall and F-score are ill-defined and being set to 0.0 in labels with no true samples. Use `zero_division` parameter to control this behavior.\n",
      "  _warn_prf(average, modifier, msg_start, len(result))\n"
     ]
    }
   ],
   "source": [
    "print(\"LOGISTIC REGRESSION :\",classifier(LogisticRegression()))\n",
    "print(\"KNN (N=4):\",classifier(KNeighborsClassifier(n_neighbors=4))) \n",
    "print(\"RANDOM FOREST (100) :\",classifier(RandomForestClassifier(n_estimators=100)))\n",
    "print(\"NAIVE BAYES :\",classifier(GaussianNB()))\n",
    "print(\"SVC :\",classifier(SVC()))"
   ]
  },
  {
   "cell_type": "code",
   "execution_count": 226,
   "id": "6815a559",
   "metadata": {},
   "outputs": [
    {
     "name": "stderr",
     "output_type": "stream",
     "text": [
      "D:\\anaconda\\lib\\site-packages\\sklearn\\utils\\validation.py:63: DataConversionWarning: A column-vector y was passed when a 1d array was expected. Please change the shape of y to (n_samples, ), for example using ravel().\n",
      "  return f(*args, **kwargs)\n"
     ]
    }
   ],
   "source": [
    "lda = LinearDiscriminantAnalysis(n_components=1)\n",
    "X_r2 = lda.fit(X_train, y_train).transform(X_train)"
   ]
  },
  {
   "cell_type": "code",
   "execution_count": 227,
   "id": "2498bf63",
   "metadata": {},
   "outputs": [],
   "source": [
    "X_train, X_test, y_train, y_test = train_test_split(X_r2,y_train, test_size = 0.2, random_state = 1)\n"
   ]
  },
  {
   "cell_type": "code",
   "execution_count": 228,
   "id": "eaaabe48",
   "metadata": {},
   "outputs": [
    {
     "name": "stderr",
     "output_type": "stream",
     "text": [
      "D:\\anaconda\\lib\\site-packages\\sklearn\\utils\\validation.py:63: DataConversionWarning: A column-vector y was passed when a 1d array was expected. Please change the shape of y to (n_samples, ), for example using ravel().\n",
      "  return f(*args, **kwargs)\n",
      "D:\\anaconda\\lib\\site-packages\\sklearn\\neighbors\\_classification.py:179: DataConversionWarning: A column-vector y was passed when a 1d array was expected. Please change the shape of y to (n_samples,), for example using ravel().\n",
      "  return self._fit(X, y)\n",
      "D:\\anaconda\\lib\\site-packages\\sklearn\\metrics\\_classification.py:1245: UndefinedMetricWarning: Recall and F-score are ill-defined and being set to 0.0 in labels with no true samples. Use `zero_division` parameter to control this behavior.\n",
      "  _warn_prf(average, modifier, msg_start, len(result))\n",
      "D:\\anaconda\\lib\\site-packages\\sklearn\\metrics\\_classification.py:1245: UndefinedMetricWarning: Recall and F-score are ill-defined and being set to 0.0 in labels with no true samples. Use `zero_division` parameter to control this behavior.\n",
      "  _warn_prf(average, modifier, msg_start, len(result))\n",
      "D:\\anaconda\\lib\\site-packages\\sklearn\\metrics\\_classification.py:1245: UndefinedMetricWarning: Recall and F-score are ill-defined and being set to 0.0 in labels with no true samples. Use `zero_division` parameter to control this behavior.\n",
      "  _warn_prf(average, modifier, msg_start, len(result))\n",
      "<ipython-input-214-b7eca28afbaf>:2: DataConversionWarning: A column-vector y was passed when a 1d array was expected. Please change the shape of y to (n_samples,), for example using ravel().\n",
      "  model.fit(X_train,y_train)\n"
     ]
    },
    {
     "name": "stdout",
     "output_type": "stream",
     "text": [
      "              precision    recall  f1-score   support\n",
      "\n",
      "        ADHD       1.00      1.00      1.00         6\n",
      "\n",
      "    accuracy                           1.00         6\n",
      "   macro avg       1.00      1.00      1.00         6\n",
      "weighted avg       1.00      1.00      1.00         6\n",
      "\n",
      "[[6]]\n",
      "LOGISTIC REGRESSION : 100.0\n",
      "              precision    recall  f1-score   support\n",
      "\n",
      "        ADHD       1.00      0.67      0.80         6\n",
      "     Healthy       0.00      0.00      0.00         0\n",
      "\n",
      "    accuracy                           0.67         6\n",
      "   macro avg       0.50      0.33      0.40         6\n",
      "weighted avg       1.00      0.67      0.80         6\n",
      "\n",
      "[[4 2]\n",
      " [0 0]]\n",
      "KNN (N=4): 66.66666666666666\n",
      "              precision    recall  f1-score   support\n",
      "\n",
      "        ADHD       1.00      1.00      1.00         6\n",
      "\n",
      "    accuracy                           1.00         6\n",
      "   macro avg       1.00      1.00      1.00         6\n",
      "weighted avg       1.00      1.00      1.00         6\n",
      "\n",
      "[[6]]\n",
      "RANDOM FOREST (100) : 100.0\n",
      "              precision    recall  f1-score   support\n",
      "\n",
      "        ADHD       1.00      1.00      1.00         6\n",
      "\n",
      "    accuracy                           1.00         6\n",
      "   macro avg       1.00      1.00      1.00         6\n",
      "weighted avg       1.00      1.00      1.00         6\n",
      "\n",
      "[[6]]\n",
      "NAIVE BAYES : 100.0\n",
      "              precision    recall  f1-score   support\n",
      "\n",
      "        ADHD       1.00      1.00      1.00         6\n",
      "\n",
      "    accuracy                           1.00         6\n",
      "   macro avg       1.00      1.00      1.00         6\n",
      "weighted avg       1.00      1.00      1.00         6\n",
      "\n",
      "[[6]]\n",
      "SVC : 100.0\n"
     ]
    },
    {
     "name": "stderr",
     "output_type": "stream",
     "text": [
      "D:\\anaconda\\lib\\site-packages\\sklearn\\utils\\validation.py:63: DataConversionWarning: A column-vector y was passed when a 1d array was expected. Please change the shape of y to (n_samples, ), for example using ravel().\n",
      "  return f(*args, **kwargs)\n",
      "D:\\anaconda\\lib\\site-packages\\sklearn\\utils\\validation.py:63: DataConversionWarning: A column-vector y was passed when a 1d array was expected. Please change the shape of y to (n_samples, ), for example using ravel().\n",
      "  return f(*args, **kwargs)\n"
     ]
    }
   ],
   "source": [
    "print(\"LOGISTIC REGRESSION :\",classifier(LogisticRegression()))\n",
    "print(\"KNN (N=4):\",classifier(KNeighborsClassifier(n_neighbors=4))) \n",
    "print(\"RANDOM FOREST (100) :\",classifier(RandomForestClassifier(n_estimators=100)))\n",
    "print(\"NAIVE BAYES :\",classifier(GaussianNB()))\n",
    "print(\"SVC :\",classifier(SVC()))"
   ]
  },
  {
   "cell_type": "markdown",
   "id": "c4e92345",
   "metadata": {},
   "source": [
    "### PERFORMING PCA, HAD SIGNIFICANTLY IMPROVED RESULT, WHICH FURTHER HAD BEEN DEPLOEYED WITH LDA, (N=1)"
   ]
  },
  {
   "cell_type": "markdown",
   "id": "c7ef537e",
   "metadata": {},
   "source": [
    "#### BEST REULTS HAD BEEN DELIVERED BY LOGISTIC REGRESSION , 0.8XXX , AFTER PCA, FOLLOWED SVC,KNN,RANDOM FOREST,NB. AFTER LDA MOST OF 'EM ACHIEVED 100% ACCURACY"
   ]
  },
  {
   "cell_type": "code",
   "execution_count": null,
   "id": "f75506eb",
   "metadata": {},
   "outputs": [],
   "source": []
  }
 ],
 "metadata": {
  "kernelspec": {
   "display_name": "Python 3",
   "language": "python",
   "name": "python3"
  },
  "language_info": {
   "codemirror_mode": {
    "name": "ipython",
    "version": 3
   },
   "file_extension": ".py",
   "mimetype": "text/x-python",
   "name": "python",
   "nbconvert_exporter": "python",
   "pygments_lexer": "ipython3",
   "version": "3.8.8"
  }
 },
 "nbformat": 4,
 "nbformat_minor": 5
}
