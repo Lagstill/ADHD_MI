{
 "cells": [
  {
   "cell_type": "code",
   "execution_count": 2,
   "id": "fb51ef23",
   "metadata": {},
   "outputs": [],
   "source": [
    "import pandas as pd\n",
    "import seaborn as sns\n",
    "import matplotlib.pyplot as plt"
   ]
  },
  {
   "cell_type": "code",
   "execution_count": 8,
   "id": "b40b39f1",
   "metadata": {},
   "outputs": [
    {
     "data": {
      "text/html": [
       "<div>\n",
       "<style scoped>\n",
       "    .dataframe tbody tr th:only-of-type {\n",
       "        vertical-align: middle;\n",
       "    }\n",
       "\n",
       "    .dataframe tbody tr th {\n",
       "        vertical-align: top;\n",
       "    }\n",
       "\n",
       "    .dataframe thead th {\n",
       "        text-align: right;\n",
       "    }\n",
       "</style>\n",
       "<table border=\"1\" class=\"dataframe\">\n",
       "  <thead>\n",
       "    <tr style=\"text-align: right;\">\n",
       "      <th></th>\n",
       "      <th>E1</th>\n",
       "      <th>E2</th>\n",
       "      <th>E3</th>\n",
       "      <th>E4</th>\n",
       "      <th>E5</th>\n",
       "      <th>E6</th>\n",
       "      <th>E7</th>\n",
       "      <th>E8</th>\n",
       "      <th>E9</th>\n",
       "      <th>E10</th>\n",
       "      <th>E11</th>\n",
       "      <th>E12</th>\n",
       "      <th>E13</th>\n",
       "      <th>E14</th>\n",
       "      <th>E15</th>\n",
       "      <th>E16</th>\n",
       "      <th>E17</th>\n",
       "      <th>E18</th>\n",
       "      <th>E19</th>\n",
       "      <th>Class</th>\n",
       "    </tr>\n",
       "  </thead>\n",
       "  <tbody>\n",
       "    <tr>\n",
       "      <th>0</th>\n",
       "      <td>-301.0</td>\n",
       "      <td>-794.0</td>\n",
       "      <td>-94.0</td>\n",
       "      <td>-266.0</td>\n",
       "      <td>-315.0</td>\n",
       "      <td>-167.0</td>\n",
       "      <td>-315.0</td>\n",
       "      <td>-20.0</td>\n",
       "      <td>825.0</td>\n",
       "      <td>-20.0</td>\n",
       "      <td>52.0</td>\n",
       "      <td>-167.0</td>\n",
       "      <td>52.0</td>\n",
       "      <td>-20.0</td>\n",
       "      <td>52.0</td>\n",
       "      <td>200.0</td>\n",
       "      <td>50.0</td>\n",
       "      <td>-55.0</td>\n",
       "      <td>50.0</td>\n",
       "      <td>ADHD</td>\n",
       "    </tr>\n",
       "    <tr>\n",
       "      <th>1</th>\n",
       "      <td>-55.0</td>\n",
       "      <td>-583.0</td>\n",
       "      <td>89.0</td>\n",
       "      <td>50.0</td>\n",
       "      <td>-20.0</td>\n",
       "      <td>16.0</td>\n",
       "      <td>16.0</td>\n",
       "      <td>236.0</td>\n",
       "      <td>-756.0</td>\n",
       "      <td>163.0</td>\n",
       "      <td>236.0</td>\n",
       "      <td>-57.0</td>\n",
       "      <td>200.0</td>\n",
       "      <td>52.0</td>\n",
       "      <td>16.0</td>\n",
       "      <td>236.0</td>\n",
       "      <td>-195.0</td>\n",
       "      <td>-90.0</td>\n",
       "      <td>121.0</td>\n",
       "      <td>ADHD</td>\n",
       "    </tr>\n",
       "    <tr>\n",
       "      <th>2</th>\n",
       "      <td>-160.0</td>\n",
       "      <td>-547.0</td>\n",
       "      <td>16.0</td>\n",
       "      <td>-55.0</td>\n",
       "      <td>-94.0</td>\n",
       "      <td>-57.0</td>\n",
       "      <td>89.0</td>\n",
       "      <td>126.0</td>\n",
       "      <td>-57.0</td>\n",
       "      <td>52.0</td>\n",
       "      <td>89.0</td>\n",
       "      <td>-20.0</td>\n",
       "      <td>52.0</td>\n",
       "      <td>16.0</td>\n",
       "      <td>52.0</td>\n",
       "      <td>126.0</td>\n",
       "      <td>85.0</td>\n",
       "      <td>85.0</td>\n",
       "      <td>191.0</td>\n",
       "      <td>ADHD</td>\n",
       "    </tr>\n",
       "    <tr>\n",
       "      <th>3</th>\n",
       "      <td>-266.0</td>\n",
       "      <td>-512.0</td>\n",
       "      <td>-20.0</td>\n",
       "      <td>-19.0</td>\n",
       "      <td>-131.0</td>\n",
       "      <td>-57.0</td>\n",
       "      <td>89.0</td>\n",
       "      <td>200.0</td>\n",
       "      <td>678.0</td>\n",
       "      <td>163.0</td>\n",
       "      <td>200.0</td>\n",
       "      <td>16.0</td>\n",
       "      <td>200.0</td>\n",
       "      <td>52.0</td>\n",
       "      <td>52.0</td>\n",
       "      <td>126.0</td>\n",
       "      <td>-19.0</td>\n",
       "      <td>85.0</td>\n",
       "      <td>156.0</td>\n",
       "      <td>ADHD</td>\n",
       "    </tr>\n",
       "    <tr>\n",
       "      <th>4</th>\n",
       "      <td>-19.0</td>\n",
       "      <td>-301.0</td>\n",
       "      <td>236.0</td>\n",
       "      <td>226.0</td>\n",
       "      <td>200.0</td>\n",
       "      <td>126.0</td>\n",
       "      <td>420.0</td>\n",
       "      <td>347.0</td>\n",
       "      <td>-830.0</td>\n",
       "      <td>236.0</td>\n",
       "      <td>200.0</td>\n",
       "      <td>52.0</td>\n",
       "      <td>236.0</td>\n",
       "      <td>163.0</td>\n",
       "      <td>89.0</td>\n",
       "      <td>126.0</td>\n",
       "      <td>-19.0</td>\n",
       "      <td>85.0</td>\n",
       "      <td>156.0</td>\n",
       "      <td>ADHD</td>\n",
       "    </tr>\n",
       "  </tbody>\n",
       "</table>\n",
       "</div>"
      ],
      "text/plain": [
       "      E1     E2     E3     E4     E5     E6     E7     E8     E9    E10  \\\n",
       "0 -301.0 -794.0  -94.0 -266.0 -315.0 -167.0 -315.0  -20.0  825.0  -20.0   \n",
       "1  -55.0 -583.0   89.0   50.0  -20.0   16.0   16.0  236.0 -756.0  163.0   \n",
       "2 -160.0 -547.0   16.0  -55.0  -94.0  -57.0   89.0  126.0  -57.0   52.0   \n",
       "3 -266.0 -512.0  -20.0  -19.0 -131.0  -57.0   89.0  200.0  678.0  163.0   \n",
       "4  -19.0 -301.0  236.0  226.0  200.0  126.0  420.0  347.0 -830.0  236.0   \n",
       "\n",
       "     E11    E12    E13    E14   E15    E16    E17   E18    E19 Class  \n",
       "0   52.0 -167.0   52.0  -20.0  52.0  200.0   50.0 -55.0   50.0  ADHD  \n",
       "1  236.0  -57.0  200.0   52.0  16.0  236.0 -195.0 -90.0  121.0  ADHD  \n",
       "2   89.0  -20.0   52.0   16.0  52.0  126.0   85.0  85.0  191.0  ADHD  \n",
       "3  200.0   16.0  200.0   52.0  52.0  126.0  -19.0  85.0  156.0  ADHD  \n",
       "4  200.0   52.0  236.0  163.0  89.0  126.0  -19.0  85.0  156.0  ADHD  "
      ]
     },
     "execution_count": 8,
     "metadata": {},
     "output_type": "execute_result"
    }
   ],
   "source": [
    "df = pd.read_csv('data.csv')\n",
    "df=df.drop(['index'], axis = 1)\n",
    "df.head()"
   ]
  },
  {
   "cell_type": "code",
   "execution_count": 10,
   "id": "4228a536",
   "metadata": {},
   "outputs": [
    {
     "data": {
      "text/plain": [
       "(2166383, 20)"
      ]
     },
     "execution_count": 10,
     "metadata": {},
     "output_type": "execute_result"
    }
   ],
   "source": [
    "df.shape"
   ]
  },
  {
   "cell_type": "code",
   "execution_count": 11,
   "id": "6111fcd9",
   "metadata": {},
   "outputs": [
    {
     "name": "stdout",
     "output_type": "stream",
     "text": [
      "<class 'pandas.core.frame.DataFrame'>\n",
      "RangeIndex: 2166383 entries, 0 to 2166382\n",
      "Data columns (total 20 columns):\n",
      " #   Column  Dtype  \n",
      "---  ------  -----  \n",
      " 0   E1      float64\n",
      " 1   E2      float64\n",
      " 2   E3      float64\n",
      " 3   E4      float64\n",
      " 4   E5      float64\n",
      " 5   E6      float64\n",
      " 6   E7      float64\n",
      " 7   E8      float64\n",
      " 8   E9      float64\n",
      " 9   E10     float64\n",
      " 10  E11     float64\n",
      " 11  E12     float64\n",
      " 12  E13     float64\n",
      " 13  E14     float64\n",
      " 14  E15     float64\n",
      " 15  E16     float64\n",
      " 16  E17     float64\n",
      " 17  E18     float64\n",
      " 18  E19     float64\n",
      " 19  Class   object \n",
      "dtypes: float64(19), object(1)\n",
      "memory usage: 330.6+ MB\n"
     ]
    }
   ],
   "source": [
    "df.info()"
   ]
  },
  {
   "cell_type": "code",
   "execution_count": 12,
   "id": "c8cbf0d2",
   "metadata": {},
   "outputs": [
    {
     "data": {
      "text/html": [
       "<div>\n",
       "<style scoped>\n",
       "    .dataframe tbody tr th:only-of-type {\n",
       "        vertical-align: middle;\n",
       "    }\n",
       "\n",
       "    .dataframe tbody tr th {\n",
       "        vertical-align: top;\n",
       "    }\n",
       "\n",
       "    .dataframe thead th {\n",
       "        text-align: right;\n",
       "    }\n",
       "</style>\n",
       "<table border=\"1\" class=\"dataframe\">\n",
       "  <thead>\n",
       "    <tr style=\"text-align: right;\">\n",
       "      <th></th>\n",
       "      <th>E1</th>\n",
       "      <th>E2</th>\n",
       "      <th>E3</th>\n",
       "      <th>E4</th>\n",
       "      <th>E5</th>\n",
       "      <th>E6</th>\n",
       "      <th>E7</th>\n",
       "      <th>E8</th>\n",
       "      <th>E9</th>\n",
       "      <th>E10</th>\n",
       "      <th>E11</th>\n",
       "      <th>E12</th>\n",
       "      <th>E13</th>\n",
       "      <th>E14</th>\n",
       "      <th>E15</th>\n",
       "      <th>E16</th>\n",
       "      <th>E17</th>\n",
       "      <th>E18</th>\n",
       "      <th>E19</th>\n",
       "    </tr>\n",
       "  </thead>\n",
       "  <tbody>\n",
       "    <tr>\n",
       "      <th>count</th>\n",
       "      <td>2.166383e+06</td>\n",
       "      <td>2.166383e+06</td>\n",
       "      <td>2.166383e+06</td>\n",
       "      <td>2.166383e+06</td>\n",
       "      <td>2.166383e+06</td>\n",
       "      <td>2.166383e+06</td>\n",
       "      <td>2.166383e+06</td>\n",
       "      <td>2.166383e+06</td>\n",
       "      <td>2.166383e+06</td>\n",
       "      <td>2.166383e+06</td>\n",
       "      <td>2.166383e+06</td>\n",
       "      <td>2.166383e+06</td>\n",
       "      <td>2.166383e+06</td>\n",
       "      <td>2.166383e+06</td>\n",
       "      <td>2.166383e+06</td>\n",
       "      <td>2.166383e+06</td>\n",
       "      <td>2.166383e+06</td>\n",
       "      <td>2.166383e+06</td>\n",
       "      <td>2.166383e+06</td>\n",
       "    </tr>\n",
       "    <tr>\n",
       "      <th>mean</th>\n",
       "      <td>1.360903e+02</td>\n",
       "      <td>1.361619e+02</td>\n",
       "      <td>1.422117e+02</td>\n",
       "      <td>1.361022e+02</td>\n",
       "      <td>1.422737e+02</td>\n",
       "      <td>1.422005e+02</td>\n",
       "      <td>1.422755e+02</td>\n",
       "      <td>1.419608e+02</td>\n",
       "      <td>1.419823e+02</td>\n",
       "      <td>1.416007e+02</td>\n",
       "      <td>1.420600e+02</td>\n",
       "      <td>1.415633e+02</td>\n",
       "      <td>1.417452e+02</td>\n",
       "      <td>1.413199e+02</td>\n",
       "      <td>1.416635e+02</td>\n",
       "      <td>1.410618e+02</td>\n",
       "      <td>1.352097e+02</td>\n",
       "      <td>1.351830e+02</td>\n",
       "      <td>1.352074e+02</td>\n",
       "    </tr>\n",
       "    <tr>\n",
       "      <th>std</th>\n",
       "      <td>2.755497e+02</td>\n",
       "      <td>2.755136e+02</td>\n",
       "      <td>2.206503e+02</td>\n",
       "      <td>2.133873e+02</td>\n",
       "      <td>2.234852e+02</td>\n",
       "      <td>2.107195e+02</td>\n",
       "      <td>2.301860e+02</td>\n",
       "      <td>2.095699e+02</td>\n",
       "      <td>2.360460e+02</td>\n",
       "      <td>2.133996e+02</td>\n",
       "      <td>2.432087e+02</td>\n",
       "      <td>2.265186e+02</td>\n",
       "      <td>2.272337e+02</td>\n",
       "      <td>2.273205e+02</td>\n",
       "      <td>2.079590e+02</td>\n",
       "      <td>2.048027e+02</td>\n",
       "      <td>2.522447e+02</td>\n",
       "      <td>2.130295e+02</td>\n",
       "      <td>2.274500e+02</td>\n",
       "    </tr>\n",
       "    <tr>\n",
       "      <th>min</th>\n",
       "      <td>-3.786000e+03</td>\n",
       "      <td>-1.322400e+04</td>\n",
       "      <td>-3.921000e+03</td>\n",
       "      <td>-1.323700e+04</td>\n",
       "      <td>-3.921000e+03</td>\n",
       "      <td>-3.921000e+03</td>\n",
       "      <td>-3.921000e+03</td>\n",
       "      <td>-3.958000e+03</td>\n",
       "      <td>-3.995000e+03</td>\n",
       "      <td>-3.921000e+03</td>\n",
       "      <td>-3.995000e+03</td>\n",
       "      <td>-3.958000e+03</td>\n",
       "      <td>-3.958000e+03</td>\n",
       "      <td>-3.995000e+03</td>\n",
       "      <td>-3.921000e+03</td>\n",
       "      <td>-3.958000e+03</td>\n",
       "      <td>-3.786000e+03</td>\n",
       "      <td>-3.751000e+03</td>\n",
       "      <td>-3.751000e+03</td>\n",
       "    </tr>\n",
       "    <tr>\n",
       "      <th>25%</th>\n",
       "      <td>1.500000e+01</td>\n",
       "      <td>1.500000e+01</td>\n",
       "      <td>5.200000e+01</td>\n",
       "      <td>1.500000e+01</td>\n",
       "      <td>5.200000e+01</td>\n",
       "      <td>5.200000e+01</td>\n",
       "      <td>1.600000e+01</td>\n",
       "      <td>5.200000e+01</td>\n",
       "      <td>5.200000e+01</td>\n",
       "      <td>5.200000e+01</td>\n",
       "      <td>5.200000e+01</td>\n",
       "      <td>5.200000e+01</td>\n",
       "      <td>5.200000e+01</td>\n",
       "      <td>5.200000e+01</td>\n",
       "      <td>5.200000e+01</td>\n",
       "      <td>5.200000e+01</td>\n",
       "      <td>1.500000e+01</td>\n",
       "      <td>1.500000e+01</td>\n",
       "      <td>1.500000e+01</td>\n",
       "    </tr>\n",
       "    <tr>\n",
       "      <th>50%</th>\n",
       "      <td>1.210000e+02</td>\n",
       "      <td>1.210000e+02</td>\n",
       "      <td>1.260000e+02</td>\n",
       "      <td>1.210000e+02</td>\n",
       "      <td>1.260000e+02</td>\n",
       "      <td>1.260000e+02</td>\n",
       "      <td>1.260000e+02</td>\n",
       "      <td>1.260000e+02</td>\n",
       "      <td>1.260000e+02</td>\n",
       "      <td>1.260000e+02</td>\n",
       "      <td>1.260000e+02</td>\n",
       "      <td>1.260000e+02</td>\n",
       "      <td>1.260000e+02</td>\n",
       "      <td>1.260000e+02</td>\n",
       "      <td>1.260000e+02</td>\n",
       "      <td>1.260000e+02</td>\n",
       "      <td>1.210000e+02</td>\n",
       "      <td>1.210000e+02</td>\n",
       "      <td>1.210000e+02</td>\n",
       "    </tr>\n",
       "    <tr>\n",
       "      <th>75%</th>\n",
       "      <td>2.610000e+02</td>\n",
       "      <td>2.260000e+02</td>\n",
       "      <td>2.360000e+02</td>\n",
       "      <td>2.260000e+02</td>\n",
       "      <td>2.360000e+02</td>\n",
       "      <td>2.360000e+02</td>\n",
       "      <td>2.360000e+02</td>\n",
       "      <td>2.360000e+02</td>\n",
       "      <td>2.360000e+02</td>\n",
       "      <td>2.360000e+02</td>\n",
       "      <td>2.360000e+02</td>\n",
       "      <td>2.360000e+02</td>\n",
       "      <td>2.360000e+02</td>\n",
       "      <td>2.360000e+02</td>\n",
       "      <td>2.360000e+02</td>\n",
       "      <td>2.360000e+02</td>\n",
       "      <td>2.610000e+02</td>\n",
       "      <td>2.260000e+02</td>\n",
       "      <td>2.260000e+02</td>\n",
       "    </tr>\n",
       "    <tr>\n",
       "      <th>max</th>\n",
       "      <td>1.381300e+04</td>\n",
       "      <td>4.802000e+03</td>\n",
       "      <td>5.020000e+03</td>\n",
       "      <td>4.802000e+03</td>\n",
       "      <td>5.430000e+03</td>\n",
       "      <td>5.020000e+03</td>\n",
       "      <td>5.020000e+03</td>\n",
       "      <td>5.020000e+03</td>\n",
       "      <td>5.020000e+03</td>\n",
       "      <td>5.020000e+03</td>\n",
       "      <td>5.020000e+03</td>\n",
       "      <td>5.020000e+03</td>\n",
       "      <td>5.020000e+03</td>\n",
       "      <td>5.064000e+03</td>\n",
       "      <td>5.016000e+03</td>\n",
       "      <td>5.020000e+03</td>\n",
       "      <td>4.802000e+03</td>\n",
       "      <td>4.802000e+03</td>\n",
       "      <td>4.802000e+03</td>\n",
       "    </tr>\n",
       "  </tbody>\n",
       "</table>\n",
       "</div>"
      ],
      "text/plain": [
       "                 E1            E2            E3            E4            E5  \\\n",
       "count  2.166383e+06  2.166383e+06  2.166383e+06  2.166383e+06  2.166383e+06   \n",
       "mean   1.360903e+02  1.361619e+02  1.422117e+02  1.361022e+02  1.422737e+02   \n",
       "std    2.755497e+02  2.755136e+02  2.206503e+02  2.133873e+02  2.234852e+02   \n",
       "min   -3.786000e+03 -1.322400e+04 -3.921000e+03 -1.323700e+04 -3.921000e+03   \n",
       "25%    1.500000e+01  1.500000e+01  5.200000e+01  1.500000e+01  5.200000e+01   \n",
       "50%    1.210000e+02  1.210000e+02  1.260000e+02  1.210000e+02  1.260000e+02   \n",
       "75%    2.610000e+02  2.260000e+02  2.360000e+02  2.260000e+02  2.360000e+02   \n",
       "max    1.381300e+04  4.802000e+03  5.020000e+03  4.802000e+03  5.430000e+03   \n",
       "\n",
       "                 E6            E7            E8            E9           E10  \\\n",
       "count  2.166383e+06  2.166383e+06  2.166383e+06  2.166383e+06  2.166383e+06   \n",
       "mean   1.422005e+02  1.422755e+02  1.419608e+02  1.419823e+02  1.416007e+02   \n",
       "std    2.107195e+02  2.301860e+02  2.095699e+02  2.360460e+02  2.133996e+02   \n",
       "min   -3.921000e+03 -3.921000e+03 -3.958000e+03 -3.995000e+03 -3.921000e+03   \n",
       "25%    5.200000e+01  1.600000e+01  5.200000e+01  5.200000e+01  5.200000e+01   \n",
       "50%    1.260000e+02  1.260000e+02  1.260000e+02  1.260000e+02  1.260000e+02   \n",
       "75%    2.360000e+02  2.360000e+02  2.360000e+02  2.360000e+02  2.360000e+02   \n",
       "max    5.020000e+03  5.020000e+03  5.020000e+03  5.020000e+03  5.020000e+03   \n",
       "\n",
       "                E11           E12           E13           E14           E15  \\\n",
       "count  2.166383e+06  2.166383e+06  2.166383e+06  2.166383e+06  2.166383e+06   \n",
       "mean   1.420600e+02  1.415633e+02  1.417452e+02  1.413199e+02  1.416635e+02   \n",
       "std    2.432087e+02  2.265186e+02  2.272337e+02  2.273205e+02  2.079590e+02   \n",
       "min   -3.995000e+03 -3.958000e+03 -3.958000e+03 -3.995000e+03 -3.921000e+03   \n",
       "25%    5.200000e+01  5.200000e+01  5.200000e+01  5.200000e+01  5.200000e+01   \n",
       "50%    1.260000e+02  1.260000e+02  1.260000e+02  1.260000e+02  1.260000e+02   \n",
       "75%    2.360000e+02  2.360000e+02  2.360000e+02  2.360000e+02  2.360000e+02   \n",
       "max    5.020000e+03  5.020000e+03  5.020000e+03  5.064000e+03  5.016000e+03   \n",
       "\n",
       "                E16           E17           E18           E19  \n",
       "count  2.166383e+06  2.166383e+06  2.166383e+06  2.166383e+06  \n",
       "mean   1.410618e+02  1.352097e+02  1.351830e+02  1.352074e+02  \n",
       "std    2.048027e+02  2.522447e+02  2.130295e+02  2.274500e+02  \n",
       "min   -3.958000e+03 -3.786000e+03 -3.751000e+03 -3.751000e+03  \n",
       "25%    5.200000e+01  1.500000e+01  1.500000e+01  1.500000e+01  \n",
       "50%    1.260000e+02  1.210000e+02  1.210000e+02  1.210000e+02  \n",
       "75%    2.360000e+02  2.610000e+02  2.260000e+02  2.260000e+02  \n",
       "max    5.020000e+03  4.802000e+03  4.802000e+03  4.802000e+03  "
      ]
     },
     "execution_count": 12,
     "metadata": {},
     "output_type": "execute_result"
    }
   ],
   "source": [
    "df.describe()"
   ]
  },
  {
   "cell_type": "code",
   "execution_count": 13,
   "id": "4b344181",
   "metadata": {},
   "outputs": [
    {
     "data": {
      "text/plain": [
       "<AxesSubplot:>"
      ]
     },
     "execution_count": 13,
     "metadata": {},
     "output_type": "execute_result"
    },
    {
     "data": {
      "image/png": "[encoded data removed]",
      "text/plain": [
       "<Figure size 432x288 with 2 Axes>"
      ]
     },
     "metadata": {
      "needs_background": "light"
     },
     "output_type": "display_data"
    }
   ],
   "source": [
    "sns.heatmap(df.isnull(),yticklabels=False,cmap='spring_r')"
   ]
  },
  {
   "cell_type": "code",
   "execution_count": 22,
   "id": "06243253",
   "metadata": {},
   "outputs": [
    {
     "data": {
      "text/plain": [
       "<AxesSubplot:ylabel='Frequency'>"
      ]
     },
     "execution_count": 22,
     "metadata": {},
     "output_type": "execute_result"
    },
    {
     "data": {
      "image/png": "[encoded data removed]",
      "text/plain": [
       "<Figure size 432x288 with 1 Axes>"
      ]
     },
     "metadata": {
      "needs_background": "light"
     },
     "output_type": "display_data"
    }
   ],
   "source": [
    "df.plot.hist(bins=100, alpha=0.5)"
   ]
  },
  {
   "cell_type": "code",
   "execution_count": 64,
   "id": "8fcce2b4",
   "metadata": {},
   "outputs": [],
   "source": [
    "X=df.iloc[:100,0:19]\n",
    "Y=df.iloc[:100,19:20]"
   ]
  },
  {
   "cell_type": "code",
   "execution_count": 48,
   "id": "8c7cb7c7",
   "metadata": {},
   "outputs": [],
   "source": [
    "df_target=(X-X.min())/(X.max()-X.min())"
   ]
  },
  {
   "cell_type": "code",
   "execution_count": 43,
   "id": "4c095b98",
   "metadata": {},
   "outputs": [
    {
     "data": {
      "text/plain": [
       "<AxesSubplot:ylabel='Frequency'>"
      ]
     },
     "execution_count": 43,
     "metadata": {},
     "output_type": "execute_result"
    },
    {
     "data": {
      "image/png": "[encoded data removed]",
      "text/plain": [
       "<Figure size 432x288 with 1 Axes>"
      ]
     },
     "metadata": {
      "needs_background": "light"
     },
     "output_type": "display_data"
    }
   ],
   "source": [
    "df_target.plot.hist(bins=100, alpha=0.5)"
   ]
  },
  {
   "cell_type": "code",
   "execution_count": 67,
   "id": "3cb523fc",
   "metadata": {},
   "outputs": [],
   "source": [
    "Y=Y.values.ravel()"
   ]
  },
  {
   "cell_type": "code",
   "execution_count": 61,
   "id": "9129388e",
   "metadata": {},
   "outputs": [],
   "source": [
    "from sklearn.feature_selection import mutual_info_classif as MIC\n",
    "mi_score = MIC(df_target,Y)"
   ]
  },
  {
   "cell_type": "code",
   "execution_count": 62,
   "id": "0423029d",
   "metadata": {},
   "outputs": [
    {
     "data": {
      "text/plain": [
       "array([0, 0, 0, 0, 0, 0, 0, 0, 0, 0, 0, 0, 0, 0, 0, 0, 0, 0, 0])"
      ]
     },
     "execution_count": 62,
     "metadata": {},
     "output_type": "execute_result"
    }
   ],
   "source": [
    "mi_score"
   ]
  },
  {
   "cell_type": "code",
   "execution_count": 110,
   "id": "15c942b5",
   "metadata": {},
   "outputs": [],
   "source": [
    "arr=[]\n",
    "for i in data:\n",
    "    temp=MIC(data,data[i].values.ravel()).tolist()\n",
    "    arr.append(temp)"
   ]
  },
  {
   "cell_type": "code",
   "execution_count": 118,
   "id": "cf060f13",
   "metadata": {},
   "outputs": [
    {
     "data": {
      "text/plain": [
       "19"
      ]
     },
     "execution_count": 118,
     "metadata": {},
     "output_type": "execute_result"
    }
   ],
   "source": [
    "len(arr)"
   ]
  },
  {
   "cell_type": "code",
   "execution_count": 115,
   "id": "d0f852d1",
   "metadata": {},
   "outputs": [
    {
     "name": "stdout",
     "output_type": "stream",
     "text": [
      "3.7658959456121837 ::: 0.5098237393977079 ::: 0.382473987034607 ::: 0.0 ::: 0.1078693357461793 ::: 0.016823429916263954 ::: 0.06837565623504549 ::: 0.12781606336723517 ::: 0.10420368082904563 ::: 0.049347477649535954 ::: 0.3877910597091536 ::: 0.36212847596851816 ::: 0.16031345338164238 ::: 0.0 ::: 0.20748543941402753 ::: 0.013930681284713309 ::: 0.0 ::: 0.05801254023864866 ::: 0.0\n",
      "0.5960920747799521 ::: 3.464645303492491 ::: 0.3055725889886416 ::: 0.21964231228100006 ::: 0.21834899804847563 ::: 0.014051822740691389 ::: 0.21476960867288675 ::: 0.02697752780850715 ::: 0.04638156387284509 ::: 0.0 ::: 0.2463274575281975 ::: 0.3099848301428274 ::: 0.025493247433208133 ::: 0.020404992436101832 ::: 0.07470994091575855 ::: 0.0 ::: 0.05676031405262805 ::: 0.039099406222958155 ::: 0.05470532192461386\n",
      "0.45121440887812136 ::: 0.5037519247733595 ::: 3.366074006336109 ::: 0.5597655467982716 ::: 0.2845654349617983 ::: 0.09543172881285145 ::: 0.050144504317563676 ::: 0.12411009544813512 ::: 0.11848552123282774 ::: 0.004346600691844671 ::: 0.4256241433688297 ::: 0.17815868440427218 ::: 0.43434421241801324 ::: 0.14082832799757572 ::: 0.012442089342922902 ::: 0.052498285186826976 ::: 0.26613055134634234 ::: 0.07618804866658291 ::: 0.03029531706308264\n",
      "0.14879498078934672 ::: 0.28585687081060307 ::: 0.5062047255979105 ::: 3.2914510984933925 ::: 0.35311296943742043 ::: 0.35398578777274636 ::: 0.10489990363306845 ::: 0.020731953380054957 ::: 0.21550065470861846 ::: 0.07285271039445407 ::: 0.26524865775256323 ::: 0.24814903897895002 ::: 0.24062456397557597 ::: 0.31085921761499824 ::: 0.09539345596974558 ::: 0.07167835551829249 ::: 0.136446701806324 ::: 0.0 ::: 0.06059563357767184\n",
      "0.06220705601806875 ::: 0.16372657277763603 ::: 0.30627534973227144 ::: 0.4873060638634712 ::: 3.1573792496663895 ::: 0.8754441955374235 ::: 0.3076285027539116 ::: 0.196498485637854 ::: 0.4891543094321418 ::: 0.18215979522459813 ::: 0.2252107855552108 ::: 0.015623728230811373 ::: 0.21533474718584378 ::: 0.07049027392051421 ::: 0.0 ::: 0.11053304542171416 ::: 0.0 ::: 0.1477638009149289 ::: 0.019921244321301046\n",
      "0.23769866849498333 ::: 0.11192036937861882 ::: 0.3095749498028115 ::: 0.4216277148459229 ::: 0.8332095379141102 ::: 2.6717875733611174 ::: 0.13372235818227285 ::: 0.17327393349980813 ::: 0.24642465880583808 ::: 0.025535365733976523 ::: 0.10655234229521549 ::: 0.0 ::: 0.05223872513325656 ::: 0.18411573708045958 ::: 0.08483512635389356 ::: 0.0 ::: 0.0 ::: 0.21618183868840735 ::: 0.0020511748487428427\n",
      "0.0 ::: 0.09588209170224804 ::: 0.05846315914090994 ::: 0.05288014791407081 ::: 0.3535204265751446 ::: 0.07848877461122594 ::: 3.0441113597202833 ::: 0.35421993197110746 ::: 0.30156928073892875 ::: 0.1341597461186037 ::: 0.0 ::: 0.0 ::: 0.0 ::: 0.0 ::: 0.031107371414071494 ::: 0.06702857005195728 ::: 0.01612023649809391 ::: 0.0 ::: 0.1316942328193722\n",
      "0.0 ::: 0.0 ::: 0.019899122549134063 ::: 0.0 ::: 0.15426254021278174 ::: 0.039685045588122136 ::: 0.2586315222891167 ::: 3.1052907599893045 ::: 0.17567473472199646 ::: 0.6719566852775434 ::: 0.09802062591519123 ::: 0.0 ::: 0.0 ::: 0.0 ::: 0.14374260880292944 ::: 0.3876516861535655 ::: 0.05431916913800405 ::: 0.0 ::: 0.0\n",
      "0.0 ::: 0.0 ::: 0.22585721882502519 ::: 0.36196275380395004 ::: 0.5185138104938307 ::: 0.3158720813798803 ::: 0.39591288667951874 ::: 0.03817100099748583 ::: 3.891487209500415 ::: 0.0010168574779654271 ::: 0.33436243521873754 ::: 0.023370607816517452 ::: 0.0330353742550078 ::: 0.14313880667790224 ::: 0.10591319578647562 ::: 0.5529182718475534 ::: 0.3087132507772443 ::: 0.11492002991550176 ::: 0.19467353564747825\n",
      "0.014099563634869305 ::: 0.03830303854451245 ::: 0.0 ::: 0.0 ::: 0.029225656583070414 ::: 0.000599251507396481 ::: 0.10441460451614226 ::: 0.5863781977234264 ::: 0.0493715144608915 ::: 2.80613517166367 ::: 0.0 ::: 0.0 ::: 0.11331557960730265 ::: 0.025184680910138812 ::: 0.3107467080017363 ::: 0.6851789923008997 ::: 0.06837350840354084 ::: 0.0 ::: 0.009934221706221713\n",
      "0.3739368006107169 ::: 0.26960558376221533 ::: 0.457738865980299 ::: 0.15931639524698893 ::: 0.33967117390639157 ::: 0.17125044625940822 ::: 0.1661447117855177 ::: 0.1483017185640505 ::: 0.18890239984195611 ::: 0.0 ::: 2.5848196801432244 ::: 0.2800358027675549 ::: 1.0571701963734368 ::: 0.12288837170964317 ::: 0.0 ::: 0.1693617328728374 ::: 0.29638609347757194 ::: 0.0 ::: 0.0\n",
      "0.2671474137764567 ::: 0.2835187961347456 ::: 0.25425812079887633 ::: 0.17661711163332194 ::: 0.0 ::: 0.0 ::: 0.0 ::: 0.015375494624617847 ::: 0.0 ::: 0.030712843474589135 ::: 0.21783642445838236 ::: 2.9997166087563265 ::: 0.12683535148228797 ::: 0.34307415758851745 ::: 0.17936430484953458 ::: 0.04675298612359535 ::: 0.15596505099183045 ::: 0.0 ::: 0.0\n",
      "0.19474001658014028 ::: 0.08964091416743569 ::: 0.4468527885429294 ::: 0.11875879787672305 ::: 0.42828983912814245 ::: 0.16745739684084704 ::: 0.0577239678957957 ::: 0.14853820558350872 ::: 0.051079134472558074 ::: 0.03612459163121562 ::: 1.0359179878208202 ::: 0.2517281401367253 ::: 2.7209073604118874 ::: 0.16305125654360486 ::: 0.0 ::: 0.06337035158390503 ::: 0.058868697080280974 ::: 0.0 ::: 0.0\n",
      "0.16704641379282226 ::: 0.2216957433301352 ::: 0.14563839518817012 ::: 0.25564860805771916 ::: 0.010782125513738361 ::: 0.15860901868238697 ::: 0.07428825388562155 ::: 0.1679672905376859 ::: 0.0 ::: 0.002132097234568864 ::: 0.1439162382708412 ::: 0.29517992098225054 ::: 0.24366449825132008 ::: 2.689987410552543 ::: 0.10642212435493636 ::: 0.20482573260099235 ::: 0.0856536470095226 ::: 0.1051150078826546 ::: 0.05312591040245307\n",
      "0.16844135614824518 ::: 0.15931314309733402 ::: 0.0 ::: 0.04983656916807311 ::: 0.0 ::: 0.025012266677208572 ::: 0.0 ::: 0.09569054664464671 ::: 0.0 ::: 0.27283037926314524 ::: 0.0 ::: 0.18650672286686465 ::: 0.0 ::: 0.17997500307379344 ::: 2.5137837881368 ::: 0.18197366658695158 ::: 0.08715447501003704 ::: 0.047832152502128356 ::: 0.01944378635318733\n",
      "0.12191179695000498 ::: 0.0 ::: 0.024320886553872878 ::: 0.0345519648376027 ::: 0.1861530535684004 ::: 0.07841728187233876 ::: 0.08772709300241299 ::: 0.48363920824197315 ::: 0.31205183835127315 ::: 0.578759428119322 ::: 0.1277395133632382 ::: 0.050348353508587795 ::: 0.1312634932668706 ::: 0.16965636068539203 ::: 0.14041161107536482 ::: 2.1750860942963564 ::: 0.060437313129960035 ::: 0.0 ::: 0.1019506873237428\n",
      "0.014997351055866304 ::: 0.27275353864758856 ::: 0.14152133566423153 ::: 0.06861377904842669 ::: 0.0 ::: 0.0 ::: 0.0038880860810812656 ::: 0.0 ::: 0.0 ::: 0.07816399770891191 ::: 0.043121476883408505 ::: 0.11849215555971693 ::: 0.07759049251610595 ::: 0.11098794478310836 ::: 0.0 ::: 0.0 ::: 3.7213581401916724 ::: 0.0 ::: 0.02478705205993137\n",
      "0.052637330498941814 ::: 0.014306299527157229 ::: 0.0 ::: 0.0 ::: 0.12924903916392605 ::: 0.25273161014624046 ::: 0.06321370691581008 ::: 0.005919432379129397 ::: 0.1583430394282943 ::: 0.0 ::: 0.0 ::: 0.06361303840565657 ::: 0.0 ::: 0.1741036067940338 ::: 0.08775626120747315 ::: 0.0 ::: 0.0 ::: 2.4092715941401748 ::: 0.3039648808042008\n",
      "0.04999434766793476 ::: 0.18098946339128963 ::: 0.0 ::: 0.15273563988961714 ::: 0.08293834371799003 ::: 0.12577732686815724 ::: 0.06006768307753463 ::: 0.055153243942933194 ::: 0.0020803807388065643 ::: 0.0 ::: 0.006701504526949176 ::: 0.0 ::: 0.04839702653756017 ::: 0.0 ::: 0.0 ::: 0.0938416391428527 ::: 0.09643344687031519 ::: 0.36020741538475676 ::: 2.814246666327621\n"
     ]
    }
   ],
   "source": [
    "for x in arr:\n",
    "    print(*x, sep=' ::: ')"
   ]
  },
  {
   "cell_type": "code",
   "execution_count": 120,
   "id": "1b573818",
   "metadata": {},
   "outputs": [],
   "source": [
    "avg_mi=[]\n",
    "temp=0\n",
    "\n",
    "for i in range(0,19):\n",
    "    for j in range(0,19):\n",
    "            temp= temp+arr[i][j]\n",
    "    avg_mi.append(temp/19)"
   ]
  },
  {
   "cell_type": "code",
   "execution_count": 122,
   "id": "3f6721b6",
   "metadata": {},
   "outputs": [
    {
     "data": {
      "text/plain": [
       "19"
      ]
     },
     "execution_count": 122,
     "metadata": {},
     "output_type": "execute_result"
    }
   ],
   "source": [
    "len(avg_mi)"
   ]
  },
  {
   "cell_type": "code",
   "execution_count": 123,
   "id": "94937f44",
   "metadata": {},
   "outputs": [
    {
     "data": {
      "text/plain": [
       "[0.33275215609392145,\n",
       " 0.64506622511191,\n",
       " 1.0226661952195588,\n",
       " 1.3796339468096506,\n",
       " 1.7497737997672347,\n",
       " 2.055602751052468,\n",
       " 2.3039840841722596,\n",
       " 2.5728858999952955,\n",
       " 2.970772180369006,\n",
       " 3.2255753745565756,\n",
       " 3.5827085310461446,\n",
       " 3.850980881819464,\n",
       " 4.168509800045596,\n",
       " 4.4385991914419325,\n",
       " 4.648483078575008,\n",
       " 4.904505498477466,\n",
       " 5.150625253751154,\n",
       " 5.346157350562262,\n",
       " 5.563502830987751]"
      ]
     },
     "execution_count": 123,
     "metadata": {},
     "output_type": "execute_result"
    }
   ],
   "source": [
    "avg_mi"
   ]
  },
  {
   "cell_type": "code",
   "execution_count": 125,
   "id": "ebffb855",
   "metadata": {},
   "outputs": [
    {
     "data": {
      "image/png": "[encoded data removed]",
      "text/plain": [
       "<Figure size 432x288 with 1 Axes>"
      ]
     },
     "metadata": {
      "needs_background": "light"
     },
     "output_type": "display_data"
    }
   ],
   "source": [
    "plt.plot(avg_mi)\n",
    "plt.show()"
   ]
  },
  {
   "cell_type": "code",
   "execution_count": null,
   "id": "8fe99f1f",
   "metadata": {},
   "outputs": [],
   "source": []
  }
 ],
 "metadata": {
  "kernelspec": {
   "display_name": "Python 3",
   "language": "python",
   "name": "python3"
  },
  "language_info": {
   "codemirror_mode": {
    "name": "ipython",
    "version": 3
   },
   "file_extension": ".py",
   "mimetype": "text/x-python",
   "name": "python",
   "nbconvert_exporter": "python",
   "pygments_lexer": "ipython3",
   "version": "3.8.8"
  }
 },
 "nbformat": 4,
 "nbformat_minor": 5
}
